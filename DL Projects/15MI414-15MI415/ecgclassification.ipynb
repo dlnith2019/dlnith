{
 "cells": [
  {
   "cell_type": "code",
   "execution_count": null,
   "metadata": {},
   "outputs": [],
   "source": [
    "import numpy as np\n",
    "import matplotlib.pyplot as plt\n",
    "import keras\n",
    "from keras.datasets import mnist\n",
    "from keras.models import Sequential\n",
    "from keras.layers import Dense, Conv2D, MaxPooling2D\n",
    "from keras.optimizers import SGD"
   ]
  },
  {
   "cell_type": "markdown",
   "metadata": {},
   "source": [
    "Using TensorFlow backend.\n",
    "The default version of TensorFlow in Colab will soon switch to TensorFlow 2.x.\n",
    "We recommend you upgrade now or ensure your notebook will continue to use TensorFlow 1.x via the %tensorflow_version 1.x magic: more info."
   ]
  },
  {
   "cell_type": "code",
   "execution_count": null,
   "metadata": {},
   "outputs": [],
   "source": [
    "def get_records():\n",
    " ##path for the record file\n",
    "    paths = glob('https://console.cloud.google.com/storage/browser/_details/mitdb-1.0.0.physionet.org/100.atr')\n",
    "    \n",
    "\n",
    "    # Get rid of the extension\n",
    "    paths = [path[:-4] for path in paths]\n",
    "    paths.sort()\n",
    "\n",
    "    return paths\n",
    "\n",
    "def beat_annotations(annotation):\n",
    "    \"\"\"'N' for normal beats. Similarly we can give the input 'L' for left bundle branch block beats. 'R' for right bundle branch block\n",
    "        beats. 'A' for Atrial premature contraction. 'V' for ventricular premature contraction. '/' for paced beat. 'E' for Ventricular\n",
    "        escape beat.\"\"\"\n",
    "    \n",
    "    good = ['N']   \n",
    "    ids = np.in1d(annotation.symbol, good)\n",
    "\n",
    "    # I want to know only the positions\n",
    "    beats = annotation.sample[ids]\n",
    "\n",
    "    return beats\n",
    "  \n",
    "    def segmentation(records):\n",
    "      Normal = []\n",
    "      for e in records:\n",
    "        signals, fields = wfdb.rdsamp(e, channels = [0]) \n",
    "\n",
    "        ann = wfdb.rdann(e, 'atr')\n",
    "        good = ['N']\n",
    "        ids = np.in1d(ann.symbol, good)\n",
    "        imp_beats = ann.sample[ids]\n",
    "        beats = (ann.sample)\n",
    "        for i in imp_beats:\n",
    "            beats = list(beats)\n",
    "            j = beats.index(i)\n",
    "            if(j!=0 and j!=(len(beats)-1)):\n",
    "                x = beats[j-1]\n",
    "                print(x)\n",
    "                y = beats[j+1]\n",
    "                diff1 = abs(x - beats[j])//2\n",
    "                diff2 = abs(y - beats[j])//2\n",
    "                Normal.append(signals[beats[j] - diff1: beats[j] + diff2, 0])\n",
    "    return Normal\n"
   ]
  },
  {
   "cell_type": "code",
   "execution_count": null,
   "metadata": {},
   "outputs": [],
   "source": [
    "import pandas\n",
    "csv_data= pandas.read_csv('ecg_data.csv')\n",
    "print(csv_data)"
   ]
  },
  {
   "cell_type": "markdown",
   "metadata": {},
   "source": [
    "     Sample Value\n",
    "0         -0.001622\n",
    "1          0.002459\n",
    "2          0.000177\n",
    "3         -0.015121\n",
    "4         -0.038852\n",
    "...             ...\n",
    "996        0.078829\n",
    "997        0.081790\n",
    "998        0.079150\n",
    "999        0.074886\n",
    "1000       0.062196\n",
    "\n",
    "[1001 rows x 1 columns]"
   ]
  },
  {
   "cell_type": "code",
   "execution_count": null,
   "metadata": {},
   "outputs": [],
   "source": [
    "csv_data"
   ]
  },
  {
   "cell_type": "markdown",
   "metadata": {},
   "source": [
    "Sample Value\n",
    "0\t-0.001622\n",
    "1\t0.002459\n",
    "2\t0.000177\n",
    "3\t-0.015121\n",
    "4\t-0.038852\n",
    "...\t...\n",
    "996\t0.078829\n",
    "997\t0.081790\n",
    "998\t0.079150\n",
    "999\t0.074886\n",
    "1000\t0.062196\n",
    "1001 rows × 1 columns"
   ]
  },
  {
   "cell_type": "code",
   "execution_count": null,
   "metadata": {},
   "outputs": [],
   "source": [
    "pip install biosppy"
   ]
  },
  {
   "cell_type": "markdown",
   "metadata": {},
   "source": [
    "Collecting biosppy\n",
    "  Downloading https://files.pythonhosted.org/packages/b7/60/d09a277f9d31a2fc9190edf7e8a685c4f9b54b5dff487f523b916f441e1a/biosppy-0.6.1-py2.py3-none-any.whl (76kB)\n",
    "     |████████████████████████████████| 81kB 2.8MB/s \n",
    "Collecting bidict\n",
    "  Downloading https://files.pythonhosted.org/packages/15/3e/61b90a5c50a6d585c9fe67d66fce062065df674d3adee1a7a33d7b8322e6/bidict-0.18.3-py2.py3-none-any.whl (40kB)\n",
    "     |████████████████████████████████| 40kB 5.5MB/s \n",
    "Requirement already satisfied: numpy in /usr/local/lib/python3.6/dist-packages (from biosppy) (1.17.4)\n",
    "Requirement already satisfied: scipy in /usr/local/lib/python3.6/dist-packages (from biosppy) (1.3.2)\n",
    "Requirement already satisfied: matplotlib in /usr/local/lib/python3.6/dist-packages (from biosppy) (3.1.1)\n",
    "Collecting shortuuid\n",
    "  Downloading https://files.pythonhosted.org/packages/80/d7/2bfc9332e68d3e15ea97b9b1588b3899ad565120253d3fd71c8f7f13b4fe/shortuuid-0.5.0.tar.gz\n",
    "Requirement already satisfied: scikit-learn in /usr/local/lib/python3.6/dist-packages (from biosppy) (0.21.3)\n",
    "Requirement already satisfied: six in /usr/local/lib/python3.6/dist-packages (from biosppy) (1.12.0)\n",
    "Requirement already satisfied: h5py in /usr/local/lib/python3.6/dist-packages (from biosppy) (2.8.0)\n",
    "Requirement already satisfied: pyparsing!=2.0.4,!=2.1.2,!=2.1.6,>=2.0.1 in /usr/local/lib/python3.6/dist-packages (from matplotlib->biosppy) (2.4.5)\n",
    "Requirement already satisfied: kiwisolver>=1.0.1 in /usr/local/lib/python3.6/dist-packages (from matplotlib->biosppy) (1.1.0)\n",
    "Requirement already satisfied: cycler>=0.10 in /usr/local/lib/python3.6/dist-packages (from matplotlib->biosppy) (0.10.0)\n",
    "Requirement already satisfied: python-dateutil>=2.1 in /usr/local/lib/python3.6/dist-packages (from matplotlib->biosppy) (2.6.1)\n",
    "Requirement already satisfied: joblib>=0.11 in /usr/local/lib/python3.6/dist-packages (from scikit-learn->biosppy) (0.14.0)\n",
    "Requirement already satisfied: setuptools in /usr/local/lib/python3.6/dist-packages (from kiwisolver>=1.0.1->matplotlib->biosppy) (41.6.0)\n",
    "Building wheels for collected packages: shortuuid\n",
    "  Building wheel for shortuuid (setup.py) ... done\n",
    "  Created wheel for shortuuid: filename=shortuuid-0.5.0-cp36-none-any.whl size=5499 sha256=b7518eb9d3b336a6ee1aa51a3f938342216de6b77f9819b5fc1c17e108f59a53\n",
    "  Stored in directory: /root/.cache/pip/wheels/3f/eb/fd/69e5177f67b505e44acbd1aedfbe44b91768ee0c4cd5636576\n",
    "Successfully built shortuuid\n",
    "Installing collected packages: bidict, shortuuid, biosppy\n",
    "Successfully installed bidict-0.18.3 biosppy-0.6.1 shortuuid-0.5.0"
   ]
  },
  {
   "cell_type": "code",
   "execution_count": null,
   "metadata": {},
   "outputs": [],
   "source": [
    "import biosppy"
   ]
  },
  {
   "cell_type": "code",
   "execution_count": null,
   "metadata": {},
   "outputs": [],
   "source": [
    "import numpy as np\n",
    "from biosppy.signals import ecg"
   ]
  },
  {
   "cell_type": "code",
   "execution_count": null,
   "metadata": {},
   "outputs": [],
   "source": [
    "data = np.array(csv_data)\n",
    "print(data)"
   ]
  },
  {
   "cell_type": "markdown",
   "metadata": {},
   "source": [
    "[[-0.00162229]\n",
    " [ 0.00245922]\n",
    " [ 0.00017747]\n",
    " ...\n",
    " [ 0.07914986]\n",
    " [ 0.07488596]\n",
    " [ 0.06219553]]"
   ]
  },
  {
   "cell_type": "code",
   "execution_count": null,
   "metadata": {},
   "outputs": [],
   "source": [
    "data = np.array(csv_data)\n",
    "  signals = []\n",
    "  count = 1\n",
    "  peaks =  biosppy.signals.ecg.gamboa_segmenter(signal=data, sampling_rate = 200, tol=0.002)\n",
    "  for i in (peaks[1:-1]):\n",
    "      diff1 = abs(peaks[count - 1] - i)\n",
    "      diff2 = abs(peaks[count + 1]- i)\n",
    "      x = peaks[count - 1] + diff1//2\n",
    "      y = peaks[count + 1] - diff2//2\n",
    "      signal = data[x:y]\n",
    "      signals.append(signal)\n",
    "      count += 1\n",
    "return signals"
   ]
  },
  {
   "cell_type": "code",
   "execution_count": null,
   "metadata": {},
   "outputs": [],
   "source": [
    "for count, i in enumerate(signals):\n",
    "  fig = plt.figure(frameon=False)\n",
    "  plt.plot(i) \n",
    "  plt.xticks([]), plt.yticks([])\n",
    "  for spine in plt.gca().spines.values():\n",
    "     spine.set_visible(False)\n",
    "\n",
    "  filename = 'drive/Colab Notebooks' + '/' + str(count)+'.png'\n",
    "  fig.savefig(filename)\n",
    "  im_gray = cv2.imread(filename, cv2.IMREAD_GRAYSCALE)\n",
    "  im_gray = cv2.resize(im_gray, (128, 128), interpolation = cv2.INTER_LANCZOS4)\n",
    "  cv2.imwrite(filename, im_gray)"
   ]
  },
  {
   "cell_type": "code",
   "execution_count": null,
   "metadata": {},
   "outputs": [],
   "source": [
    "def cropping(image, filename):\n",
    "    \n",
    "    #Left Top Crop\n",
    "    crop = image[:96, :96]\n",
    "    crop = cv2.resize(crop, (128, 128))\n",
    "    cv2.imwrite(filename[:-4] + 'leftTop' + '.png', crop)\n",
    "    \n",
    "    #Center Top Crop\n",
    "    crop = image[:96, 16:112]\n",
    "    crop = cv2.resize(crop, (128, 128))\n",
    "    cv2.imwrite(filename[:-4] + 'centerTop' + '.png', crop)\n",
    "    \n",
    "    #Right Top Crop\n",
    "    crop = image[:96, 32:]\n",
    "    crop = cv2.resize(crop, (128, 128))\n",
    "    cv2.imwrite(filename[:-4] + 'rightTop' + '.png', crop)\n",
    "    \n",
    "    #Left Center Crop\n",
    "    crop = image[16:112, :96]\n",
    "    crop = cv2.resize(crop, (128, 128))\n",
    "    cv2.imwrite(filename[:-4] + 'leftCenter' + '.png', crop)\n",
    "    \n",
    "    #Center Center Crop\n",
    "    crop = image[16:112, 16:112]\n",
    "    crop = cv2.resize(crop, (128, 128))\n",
    "    cv2.imwrite(filename[:-4] + 'centerCenter' + '.png', crop)\n",
    "    \n",
    "    #Right Center Crop\n",
    "    crop = image[16:112, 32:]\n",
    "    crop = cv2.resize(crop, (128, 128))\n",
    "    cv2.imwrite(filename[:-4] + 'rightCenter' + '.png', crop)\n",
    "    \n",
    "    #Left Bottom Crop\n",
    "    crop = image[32:, :96]\n",
    "    crop = cv2.resize(crop, (128, 128))\n",
    "    cv2.imwrite(filename[:-4] + 'leftBottom' + '.png', crop)\n",
    "    \n",
    "    #Center Bottom Crop\n",
    "    crop = image[32:, 16:112]\n",
    "    crop = cv2.resize(crop, (128, 128))\n",
    "    cv2.imwrite(filename[:-4] + 'centerBottom' + '.png', crop)\n",
    "    \n",
    "    #Right Bottom Crop\n",
    "    crop = image[32:, 32:]\n",
    "    crop = cv2.resize(crop, (128, 128))\n",
    "    cv2.imwrite(filename[:-4] + 'rightBottom' + '.png', crop)"
   ]
  },
  {
   "cell_type": "code",
   "execution_count": null,
   "metadata": {},
   "outputs": [],
   "source": [
    "model = Sequential()\n",
    "\n",
    "model.add(Conv2D(64, (3,3),strides = (1,1), input_shape = IMAGE_SIZE + [3],kernel_initializer='glorot_uniform'))\n",
    "\n",
    "model.add(keras.layers.ELU())\n",
    "\n",
    "model.add(BatchNormalization())\n",
    "\n",
    "model.add(Conv2D(64, (3,3),strides = (1,1),kernel_initializer='glorot_uniform'))\n",
    "\n",
    "model.add(keras.layers.ELU())\n",
    "\n",
    "model.add(BatchNormalization())\n",
    "\n",
    "model.add(MaxPool2D(pool_size=(2, 2), strides= (2,2)))\n",
    "\n",
    "model.add(Conv2D(128, (3,3),strides = (1,1),kernel_initializer='glorot_uniform'))\n",
    "\n",
    "model.add(keras.layers.ELU())\n",
    "\n",
    "model.add(BatchNormalization())\n",
    "\n",
    "model.add(Conv2D(128, (3,3),strides = (1,1),kernel_initializer='glorot_uniform'))\n",
    "\n",
    "model.add(keras.layers.ELU())\n",
    "\n",
    "model.add(BatchNormalization())\n",
    "\n",
    "model.add(MaxPool2D(pool_size=(2, 2), strides= (2,2)))\n",
    "\n",
    "model.add(Conv2D(256, (3,3),strides = (1,1),kernel_initializer='glorot_uniform'))\n",
    "\n",
    "model.add(keras.layers.ELU())\n",
    "\n",
    "model.add(BatchNormalization())\n",
    "\n",
    "model.add(Conv2D(256, (3,3),strides = (1,1),kernel_initializer='glorot_uniform'))\n",
    "\n",
    "model.add(keras.layers.ELU())\n",
    "\n",
    "model.add(BatchNormalization())\n",
    "\n",
    "model.add(MaxPool2D(pool_size=(2, 2), strides= (2,2)))\n",
    "\n",
    "model.add(Flatten())\n",
    "\n",
    "model.add(Dense(2048))\n",
    "\n",
    "model.add(keras.layers.ELU())\n",
    "\n",
    "model.add(BatchNormalization())\n",
    "\n",
    "model.add(Dropout(0.5))\n",
    "\n",
    "model.add(Dense(7, activation='softmax'))\n",
    "\n",
    "model.compile(loss='categorical_crossentropy', optimizer='adam', metrics=['accuracy'])"
   ]
  },
  {
   "cell_type": "markdown",
   "metadata": {},
   "source": [
    "Result: [upload/CSV ecgclassification.csv, (Premature Ventricular Contraction beat, (175, 235)), ('Premature Ventricular Contraction beat, (234, 293)), ('Premature Ventricular Contraction beat, (293, 354)), ('Premature Ventricular Contraction beat (354, 446)), ('Premature Ventricular Contraction beat', (566, 688)), ('Premature Ventricular Contraction beat, (779, 841)), ('Premature Ventricular Contraction beat, (840, 900)), (Atrial Premature Contraction beat, (899, 958)), ('Premature Ventricular Contraction beat, (958, 1019)), ('Premature Ventricular Contraction beat, 10191111 Premature Ventricular Contraction beat, (1231, 1353)), ('Premature Ventricular Contraction beat', (1352, 1444)). ('Premature Ventricular Contraction beat', (1444, 1506)). ('Premature Ventricular Contraction beat, (1505, 1565), (Atrial Premature Contraction beat, (1564 1624)), ('Premature Ventricular Contraction beat, (1623, 1685)Premature Ventricular Contraction beat, (1684, 1776)). ('Premature Ventricular Contraction beat (109 2018)), ('Premature Ventricular Contraction beat', (2018, 2110)), ('Premature Ventricular Contraction beat. (2110. 2172), ('Premature Ventricular Contraction beat. (2171)."
   ]
  }
 ],
 "metadata": {
  "kernelspec": {
   "display_name": "Python 3",
   "language": "python",
   "name": "python3"
  },
  "language_info": {
   "codemirror_mode": {
    "name": "ipython",
    "version": 3
   },
   "file_extension": ".py",
   "mimetype": "text/x-python",
   "name": "python",
   "nbconvert_exporter": "python",
   "pygments_lexer": "ipython3",
   "version": "3.7.3"
  }
 },
 "nbformat": 4,
 "nbformat_minor": 2
}
