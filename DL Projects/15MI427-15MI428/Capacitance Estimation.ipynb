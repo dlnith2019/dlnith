{
 "cells": [
  {
   "cell_type": "code",
   "execution_count": 77,
   "metadata": {},
   "outputs": [],
   "source": [
    "import pandas\n",
    "from keras.models import Sequential\n",
    "from keras.layers import Dense\n",
    "from keras.layers import LeakyReLU\n",
    "import numpy as np\n",
    "import matplotlib.pyplot as plt\n",
    "from sklearn.model_selection import train_test_split"
   ]
  },
  {
   "cell_type": "code",
   "execution_count": 78,
   "metadata": {},
   "outputs": [],
   "source": [
    "dataframe = pandas.read_csv(\"cap.csv\", delim_whitespace=True, header=None)\n",
    "dataset = dataframe.values"
   ]
  },
  {
   "cell_type": "code",
   "execution_count": 79,
   "metadata": {},
   "outputs": [],
   "source": [
    "data_mean = np.mean(dataset, axis=0)\n",
    "data_std  = np.std(dataset, axis=0)"
   ]
  },
  {
   "cell_type": "code",
   "execution_count": 80,
   "metadata": {},
   "outputs": [],
   "source": [
    "data_mean = np.mean(dataset, axis=0)\n",
    "data_std  = np.std(dataset, axis=0)\n",
    "\n",
    "def normalize(d, mean, std):\n",
    "    return (d - mean) / std\n",
    "\n",
    "dataset = normalize(dataset, data_mean, data_std)\n",
    "np.random.shuffle(dataset)"
   ]
  },
  {
   "cell_type": "code",
   "execution_count": 81,
   "metadata": {},
   "outputs": [],
   "source": [
    "X = dataset[:,0:3]\n",
    "Y = dataset[:,3]"
   ]
  },
  {
   "cell_type": "code",
   "execution_count": 82,
   "metadata": {},
   "outputs": [],
   "source": [
    "data = np.array(X,dtype=float)\n",
    "target = np.array(Y,dtype=float)"
   ]
  },
  {
   "cell_type": "code",
   "execution_count": 83,
   "metadata": {},
   "outputs": [
    {
     "data": {
      "text/plain": [
       "(10000, 3)"
      ]
     },
     "execution_count": 83,
     "metadata": {},
     "output_type": "execute_result"
    }
   ],
   "source": [
    "data.shape"
   ]
  },
  {
   "cell_type": "code",
   "execution_count": 84,
   "metadata": {},
   "outputs": [
    {
     "data": {
      "text/plain": [
       "(10000,)"
      ]
     },
     "execution_count": 84,
     "metadata": {},
     "output_type": "execute_result"
    }
   ],
   "source": [
    "target.shape"
   ]
  },
  {
   "cell_type": "code",
   "execution_count": 85,
   "metadata": {},
   "outputs": [],
   "source": [
    "x_train,x_test,y_train,y_test = train_test_split(data,target,test_size=0.02,random_state=4)"
   ]
  },
  {
   "cell_type": "code",
   "execution_count": 86,
   "metadata": {},
   "outputs": [
    {
     "data": {
      "text/plain": [
       "(9800, 3)"
      ]
     },
     "execution_count": 86,
     "metadata": {},
     "output_type": "execute_result"
    }
   ],
   "source": [
    "x_train.shape"
   ]
  },
  {
   "cell_type": "code",
   "execution_count": 101,
   "metadata": {},
   "outputs": [
    {
     "data": {
      "text/plain": [
       "(200, 3)"
      ]
     },
     "execution_count": 101,
     "metadata": {},
     "output_type": "execute_result"
    }
   ],
   "source": [
    "x_test.shape"
   ]
  },
  {
   "cell_type": "code",
   "execution_count": 88,
   "metadata": {},
   "outputs": [
    {
     "data": {
      "text/plain": [
       "(9800,)"
      ]
     },
     "execution_count": 88,
     "metadata": {},
     "output_type": "execute_result"
    }
   ],
   "source": [
    "y_train.shape"
   ]
  },
  {
   "cell_type": "code",
   "execution_count": 89,
   "metadata": {},
   "outputs": [
    {
     "data": {
      "text/plain": [
       "(200,)"
      ]
     },
     "execution_count": 89,
     "metadata": {},
     "output_type": "execute_result"
    }
   ],
   "source": [
    "y_test.shape"
   ]
  },
  {
   "cell_type": "code",
   "execution_count": 91,
   "metadata": {},
   "outputs": [],
   "source": [
    "model=Sequential()\n",
    "\n",
    "model.add(Dense(15,input_shape=(3,)))\n",
    "model.add(LeakyReLU(alpha=0.05))\n",
    "model.add(Dense(10))\n",
    "model.add(LeakyReLU(alpha=0.05))\n",
    "model.add(Dense(1))\n",
    "model.add(LeakyReLU(alpha=0.05))\n",
    "model.compile(optimizer='SGD',loss='mse',metrics=['acc'])"
   ]
  },
  {
   "cell_type": "code",
   "execution_count": 92,
   "metadata": {},
   "outputs": [
    {
     "name": "stdout",
     "output_type": "stream",
     "text": [
      "Model: \"sequential_7\"\n",
      "_________________________________________________________________\n",
      "Layer (type)                 Output Shape              Param #   \n",
      "=================================================================\n",
      "dense_15 (Dense)             (None, 15)                60        \n",
      "_________________________________________________________________\n",
      "leaky_re_lu_7 (LeakyReLU)    (None, 15)                0         \n",
      "_________________________________________________________________\n",
      "dense_16 (Dense)             (None, 10)                160       \n",
      "_________________________________________________________________\n",
      "leaky_re_lu_8 (LeakyReLU)    (None, 10)                0         \n",
      "_________________________________________________________________\n",
      "dense_17 (Dense)             (None, 1)                 11        \n",
      "_________________________________________________________________\n",
      "leaky_re_lu_9 (LeakyReLU)    (None, 1)                 0         \n",
      "=================================================================\n",
      "Total params: 231\n",
      "Trainable params: 231\n",
      "Non-trainable params: 0\n",
      "_________________________________________________________________\n"
     ]
    }
   ],
   "source": [
    "model.summary()"
   ]
  },
  {
   "cell_type": "code",
   "execution_count": 93,
   "metadata": {},
   "outputs": [
    {
     "name": "stdout",
     "output_type": "stream",
     "text": [
      "Train on 9800 samples, validate on 200 samples\n",
      "Epoch 1/100\n",
      "9800/9800 [==============================] - 1s 66us/step - loss: 0.5437 - acc: 0.0000e+00 - val_loss: 0.3852 - val_acc: 0.0000e+00\n",
      "Epoch 2/100\n",
      "9800/9800 [==============================] - 1s 55us/step - loss: 0.4232 - acc: 0.0000e+00 - val_loss: 0.3657 - val_acc: 0.0000e+00\n",
      "Epoch 3/100\n",
      "9800/9800 [==============================] - 1s 54us/step - loss: 0.4026 - acc: 0.0000e+00 - val_loss: 0.3440 - val_acc: 0.0000e+00\n",
      "Epoch 4/100\n",
      "9800/9800 [==============================] - 1s 56us/step - loss: 0.3742 - acc: 0.0000e+00 - val_loss: 0.3123 - val_acc: 0.0000e+00\n",
      "Epoch 5/100\n",
      "9800/9800 [==============================] - 1s 54us/step - loss: 0.3288 - acc: 0.0000e+00 - val_loss: 0.2611 - val_acc: 0.0000e+00\n",
      "Epoch 6/100\n",
      "9800/9800 [==============================] - 1s 53us/step - loss: 0.2557 - acc: 0.0000e+00 - val_loss: 0.1821 - val_acc: 0.0000e+00\n",
      "Epoch 7/100\n",
      "9800/9800 [==============================] - 1s 54us/step - loss: 0.1575 - acc: 0.0000e+00 - val_loss: 0.0948 - val_acc: 0.0000e+00\n",
      "Epoch 8/100\n",
      "9800/9800 [==============================] - 1s 58us/step - loss: 0.0733 - acc: 0.0000e+00 - val_loss: 0.0417 - val_acc: 0.0000e+00\n",
      "Epoch 9/100\n",
      "9800/9800 [==============================] - 1s 52us/step - loss: 0.0331 - acc: 0.0000e+00 - val_loss: 0.0235 - val_acc: 0.0000e+00\n",
      "Epoch 10/100\n",
      "9800/9800 [==============================] - 1s 59us/step - loss: 0.0201 - acc: 0.0000e+00 - val_loss: 0.0168 - val_acc: 0.0000e+00\n",
      "Epoch 11/100\n",
      "9800/9800 [==============================] - 1s 52us/step - loss: 0.0151 - acc: 0.0000e+00 - val_loss: 0.0140 - val_acc: 0.0000e+00\n",
      "Epoch 12/100\n",
      "9800/9800 [==============================] - 1s 56us/step - loss: 0.0124 - acc: 0.0000e+00 - val_loss: 0.0124 - val_acc: 0.0000e+00\n",
      "Epoch 13/100\n",
      "9800/9800 [==============================] - 1s 57us/step - loss: 0.0107 - acc: 0.0000e+00 - val_loss: 0.0110 - val_acc: 0.0000e+00\n",
      "Epoch 14/100\n",
      "9800/9800 [==============================] - 1s 53us/step - loss: 0.0096 - acc: 0.0000e+00 - val_loss: 0.0099 - val_acc: 0.0000e+00\n",
      "Epoch 15/100\n",
      "9800/9800 [==============================] - 1s 52us/step - loss: 0.0087 - acc: 0.0000e+00 - val_loss: 0.0092 - val_acc: 0.0000e+00\n",
      "Epoch 16/100\n",
      "9800/9800 [==============================] - 1s 53us/step - loss: 0.0081 - acc: 0.0000e+00 - val_loss: 0.0086 - val_acc: 0.0000e+00\n",
      "Epoch 17/100\n",
      "9800/9800 [==============================] - 1s 52us/step - loss: 0.0076 - acc: 0.0000e+00 - val_loss: 0.0082 - val_acc: 0.0000e+00\n",
      "Epoch 18/100\n",
      "9800/9800 [==============================] - 1s 54us/step - loss: 0.0072 - acc: 0.0000e+00 - val_loss: 0.0079 - val_acc: 0.0000e+00\n",
      "Epoch 19/100\n",
      "9800/9800 [==============================] - 1s 53us/step - loss: 0.0069 - acc: 0.0000e+00 - val_loss: 0.0075 - val_acc: 0.0000e+00\n",
      "Epoch 20/100\n",
      "9800/9800 [==============================] - 1s 53us/step - loss: 0.0066 - acc: 0.0000e+00 - val_loss: 0.0073 - val_acc: 0.0000e+00\n",
      "Epoch 21/100\n",
      "9800/9800 [==============================] - 1s 63us/step - loss: 0.0064 - acc: 0.0000e+00 - val_loss: 0.0071 - val_acc: 0.0000e+00\n",
      "Epoch 22/100\n",
      "9800/9800 [==============================] - 1s 74us/step - loss: 0.0062 - acc: 0.0000e+00 - val_loss: 0.0069 - val_acc: 0.0000e+00\n",
      "Epoch 23/100\n",
      "9800/9800 [==============================] - 1s 103us/step - loss: 0.0061 - acc: 0.0000e+00 - val_loss: 0.0067 - val_acc: 0.0000e+00\n",
      "Epoch 24/100\n",
      "9800/9800 [==============================] - 1s 78us/step - loss: 0.0059 - acc: 0.0000e+00 - val_loss: 0.0066 - val_acc: 0.0000e+00\n",
      "Epoch 25/100\n",
      "9800/9800 [==============================] - 1s 82us/step - loss: 0.0058 - acc: 0.0000e+00 - val_loss: 0.0065 - val_acc: 0.0000e+00\n",
      "Epoch 26/100\n",
      "9800/9800 [==============================] - 1s 54us/step - loss: 0.0057 - acc: 0.0000e+00 - val_loss: 0.0063 - val_acc: 0.0000e+00\n",
      "Epoch 27/100\n",
      "9800/9800 [==============================] - 1s 55us/step - loss: 0.0056 - acc: 0.0000e+00 - val_loss: 0.0062 - val_acc: 0.0000e+00\n",
      "Epoch 28/100\n",
      "9800/9800 [==============================] - 1s 53us/step - loss: 0.0055 - acc: 0.0000e+00 - val_loss: 0.0061 - val_acc: 0.0000e+00\n",
      "Epoch 29/100\n",
      "9800/9800 [==============================] - 1s 56us/step - loss: 0.0054 - acc: 0.0000e+00 - val_loss: 0.0060 - val_acc: 0.0000e+00\n",
      "Epoch 30/100\n",
      "9800/9800 [==============================] - 1s 56us/step - loss: 0.0054 - acc: 0.0000e+00 - val_loss: 0.0060 - val_acc: 0.0000e+00\n",
      "Epoch 31/100\n",
      "9800/9800 [==============================] - 1s 75us/step - loss: 0.0053 - acc: 0.0000e+00 - val_loss: 0.0059 - val_acc: 0.0000e+00\n",
      "Epoch 32/100\n",
      "9800/9800 [==============================] - 1s 56us/step - loss: 0.0052 - acc: 0.0000e+00 - val_loss: 0.0058 - val_acc: 0.0000e+00\n",
      "Epoch 33/100\n",
      "9800/9800 [==============================] - 1s 55us/step - loss: 0.0052 - acc: 0.0000e+00 - val_loss: 0.0057 - val_acc: 0.0000e+00\n",
      "Epoch 34/100\n",
      "9800/9800 [==============================] - 1s 58us/step - loss: 0.0051 - acc: 0.0000e+00 - val_loss: 0.0057 - val_acc: 0.0000e+00\n",
      "Epoch 35/100\n",
      "9800/9800 [==============================] - 1s 52us/step - loss: 0.0051 - acc: 0.0000e+00 - val_loss: 0.0056 - val_acc: 0.0000e+00\n",
      "Epoch 36/100\n",
      "9800/9800 [==============================] - 1s 52us/step - loss: 0.0050 - acc: 0.0000e+00 - val_loss: 0.0055 - val_acc: 0.0000e+00\n",
      "Epoch 37/100\n",
      "9800/9800 [==============================] - 0s 48us/step - loss: 0.0049 - acc: 0.0000e+00 - val_loss: 0.0055 - val_acc: 0.0000e+00\n",
      "Epoch 38/100\n",
      "9800/9800 [==============================] - 1s 66us/step - loss: 0.0049 - acc: 0.0000e+00 - val_loss: 0.0054 - val_acc: 0.0000e+00\n",
      "Epoch 39/100\n",
      "9800/9800 [==============================] - 1s 79us/step - loss: 0.0048 - acc: 0.0000e+00 - val_loss: 0.0054 - val_acc: 0.0000e+00\n",
      "Epoch 40/100\n",
      "9800/9800 [==============================] - 1s 80us/step - loss: 0.0048 - acc: 0.0000e+00 - val_loss: 0.0053 - val_acc: 0.0000e+00\n",
      "Epoch 41/100\n",
      "9800/9800 [==============================] - 1s 76us/step - loss: 0.0048 - acc: 0.0000e+00 - val_loss: 0.0052 - val_acc: 0.0000e+00\n",
      "Epoch 42/100\n",
      "9800/9800 [==============================] - 1s 58us/step - loss: 0.0047 - acc: 0.0000e+00 - val_loss: 0.0052 - val_acc: 0.0000e+00\n",
      "Epoch 43/100\n",
      "9800/9800 [==============================] - 0s 51us/step - loss: 0.0047 - acc: 0.0000e+00 - val_loss: 0.0051 - val_acc: 0.0000e+00\n",
      "Epoch 44/100\n",
      "9800/9800 [==============================] - 1s 54us/step - loss: 0.0046 - acc: 0.0000e+00 - val_loss: 0.0051 - val_acc: 0.0000e+00\n",
      "Epoch 45/100\n",
      "9800/9800 [==============================] - 1s 51us/step - loss: 0.0046 - acc: 0.0000e+00 - val_loss: 0.0050 - val_acc: 0.0000e+00\n",
      "Epoch 46/100\n",
      "9800/9800 [==============================] - 1s 58us/step - loss: 0.0045 - acc: 0.0000e+00 - val_loss: 0.0049 - val_acc: 0.0000e+00\n",
      "Epoch 47/100\n",
      "9800/9800 [==============================] - 1s 69us/step - loss: 0.0045 - acc: 0.0000e+00 - val_loss: 0.0049 - val_acc: 0.0000e+00\n",
      "Epoch 48/100\n",
      "9800/9800 [==============================] - 1s 54us/step - loss: 0.0045 - acc: 0.0000e+00 - val_loss: 0.0048 - val_acc: 0.0000e+00\n",
      "Epoch 49/100\n",
      "9800/9800 [==============================] - 1s 53us/step - loss: 0.0044 - acc: 0.0000e+00 - val_loss: 0.0048 - val_acc: 0.0000e+00\n",
      "Epoch 50/100\n",
      "9800/9800 [==============================] - 0s 50us/step - loss: 0.0044 - acc: 0.0000e+00 - val_loss: 0.0047 - val_acc: 0.0000e+00\n",
      "Epoch 51/100\n",
      "9800/9800 [==============================] - 1s 53us/step - loss: 0.0043 - acc: 0.0000e+00 - val_loss: 0.0047 - val_acc: 0.0000e+00\n",
      "Epoch 52/100\n",
      "9800/9800 [==============================] - 1s 53us/step - loss: 0.0043 - acc: 0.0000e+00 - val_loss: 0.0046 - val_acc: 0.0000e+00\n",
      "Epoch 53/100\n",
      "9800/9800 [==============================] - 1s 68us/step - loss: 0.0043 - acc: 0.0000e+00 - val_loss: 0.0046 - val_acc: 0.0000e+00\n",
      "Epoch 54/100\n",
      "9800/9800 [==============================] - 1s 55us/step - loss: 0.0042 - acc: 0.0000e+00 - val_loss: 0.0045 - val_acc: 0.0000e+00\n",
      "Epoch 55/100\n",
      "9800/9800 [==============================] - 1s 55us/step - loss: 0.0042 - acc: 0.0000e+00 - val_loss: 0.0045 - val_acc: 0.0000e+00\n",
      "Epoch 56/100\n",
      "9800/9800 [==============================] - 1s 53us/step - loss: 0.0041 - acc: 0.0000e+00 - val_loss: 0.0044 - val_acc: 0.0000e+00\n",
      "Epoch 57/100\n",
      "9800/9800 [==============================] - 0s 50us/step - loss: 0.0041 - acc: 0.0000e+00 - val_loss: 0.0044 - val_acc: 0.0000e+00\n",
      "Epoch 58/100\n",
      "9800/9800 [==============================] - 1s 68us/step - loss: 0.0041 - acc: 0.0000e+00 - val_loss: 0.0044 - val_acc: 0.0000e+00\n",
      "Epoch 59/100\n",
      "9800/9800 [==============================] - 1s 73us/step - loss: 0.0040 - acc: 0.0000e+00 - val_loss: 0.0043 - val_acc: 0.0000e+00\n",
      "Epoch 60/100\n",
      "9800/9800 [==============================] - 1s 71us/step - loss: 0.0040 - acc: 0.0000e+00 - val_loss: 0.0043 - val_acc: 0.0000e+00\n",
      "Epoch 61/100\n",
      "9800/9800 [==============================] - 1s 53us/step - loss: 0.0040 - acc: 0.0000e+00 - val_loss: 0.0043 - val_acc: 0.0000e+00\n",
      "Epoch 62/100\n",
      "9800/9800 [==============================] - 1s 59us/step - loss: 0.0039 - acc: 0.0000e+00 - val_loss: 0.0042 - val_acc: 0.0000e+00\n",
      "Epoch 63/100\n",
      "9800/9800 [==============================] - 1s 58us/step - loss: 0.0039 - acc: 0.0000e+00 - val_loss: 0.0041 - val_acc: 0.0000e+00\n",
      "Epoch 64/100\n",
      "9800/9800 [==============================] - 1s 66us/step - loss: 0.0039 - acc: 0.0000e+00 - val_loss: 0.0041 - val_acc: 0.0000e+00\n",
      "Epoch 65/100\n",
      "9800/9800 [==============================] - 1s 55us/step - loss: 0.0038 - acc: 0.0000e+00 - val_loss: 0.0040 - val_acc: 0.0000e+00\n",
      "Epoch 66/100\n",
      "9800/9800 [==============================] - 1s 56us/step - loss: 0.0038 - acc: 0.0000e+00 - val_loss: 0.0040 - val_acc: 0.0000e+00\n",
      "Epoch 67/100\n",
      "9800/9800 [==============================] - 1s 77us/step - loss: 0.0038 - acc: 0.0000e+00 - val_loss: 0.0040 - val_acc: 0.0000e+00\n",
      "Epoch 68/100\n",
      "9800/9800 [==============================] - 1s 82us/step - loss: 0.0037 - acc: 0.0000e+00 - val_loss: 0.0039 - val_acc: 0.0000e+00\n",
      "Epoch 69/100\n",
      "9800/9800 [==============================] - 1s 73us/step - loss: 0.0037 - acc: 0.0000e+00 - val_loss: 0.0039 - val_acc: 0.0000e+00\n",
      "Epoch 70/100\n",
      "9800/9800 [==============================] - 1s 65us/step - loss: 0.0037 - acc: 0.0000e+00 - val_loss: 0.0038 - val_acc: 0.0000e+00\n",
      "Epoch 71/100\n",
      "9800/9800 [==============================] - 1s 55us/step - loss: 0.0036 - acc: 0.0000e+00 - val_loss: 0.0038 - val_acc: 0.0000e+00\n",
      "Epoch 72/100\n",
      "9800/9800 [==============================] - 0s 51us/step - loss: 0.0036 - acc: 0.0000e+00 - val_loss: 0.0037 - val_acc: 0.0000e+00\n",
      "Epoch 73/100\n",
      "9800/9800 [==============================] - 1s 53us/step - loss: 0.0036 - acc: 0.0000e+00 - val_loss: 0.0037 - val_acc: 0.0000e+00\n",
      "Epoch 74/100\n",
      "9800/9800 [==============================] - 0s 50us/step - loss: 0.0035 - acc: 0.0000e+00 - val_loss: 0.0037 - val_acc: 0.0000e+00\n",
      "Epoch 75/100\n",
      "9800/9800 [==============================] - 1s 53us/step - loss: 0.0035 - acc: 0.0000e+00 - val_loss: 0.0036 - val_acc: 0.0000e+00\n",
      "Epoch 76/100\n",
      "9800/9800 [==============================] - 0s 51us/step - loss: 0.0035 - acc: 0.0000e+00 - val_loss: 0.0036 - val_acc: 0.0000e+00\n",
      "Epoch 77/100\n",
      "9800/9800 [==============================] - 1s 52us/step - loss: 0.0034 - acc: 0.0000e+00 - val_loss: 0.0035 - val_acc: 0.0000e+00\n",
      "Epoch 78/100\n",
      "9800/9800 [==============================] - 0s 51us/step - loss: 0.0034 - acc: 0.0000e+00 - val_loss: 0.0035 - val_acc: 0.0000e+00\n",
      "Epoch 79/100\n",
      "9800/9800 [==============================] - 1s 53us/step - loss: 0.0034 - acc: 0.0000e+00 - val_loss: 0.0035 - val_acc: 0.0000e+00\n",
      "Epoch 80/100\n",
      "9800/9800 [==============================] - 1s 52us/step - loss: 0.0033 - acc: 0.0000e+00 - val_loss: 0.0034 - val_acc: 0.0000e+00\n",
      "Epoch 81/100\n",
      "9800/9800 [==============================] - 1s 69us/step - loss: 0.0033 - acc: 0.0000e+00 - val_loss: 0.0034 - val_acc: 0.0000e+00\n",
      "Epoch 82/100\n",
      "9800/9800 [==============================] - 1s 75us/step - loss: 0.0033 - acc: 0.0000e+00 - val_loss: 0.0034 - val_acc: 0.0000e+00\n",
      "Epoch 83/100\n",
      "9800/9800 [==============================] - 1s 73us/step - loss: 0.0033 - acc: 0.0000e+00 - val_loss: 0.0033 - val_acc: 0.0000e+00\n",
      "Epoch 84/100\n",
      "9800/9800 [==============================] - 1s 62us/step - loss: 0.0032 - acc: 0.0000e+00 - val_loss: 0.0033 - val_acc: 0.0000e+00\n",
      "Epoch 85/100\n",
      "9800/9800 [==============================] - 1s 53us/step - loss: 0.0032 - acc: 0.0000e+00 - val_loss: 0.0032 - val_acc: 0.0000e+00\n",
      "Epoch 86/100\n",
      "9800/9800 [==============================] - 0s 51us/step - loss: 0.0032 - acc: 0.0000e+00 - val_loss: 0.0032 - val_acc: 0.0000e+00\n",
      "Epoch 87/100\n",
      "9800/9800 [==============================] - 1s 73us/step - loss: 0.0031 - acc: 0.0000e+00 - val_loss: 0.0032 - val_acc: 0.0000e+00\n",
      "Epoch 88/100\n",
      "9800/9800 [==============================] - 1s 80us/step - loss: 0.0031 - acc: 0.0000e+00 - val_loss: 0.0031 - val_acc: 0.0000e+00\n",
      "Epoch 89/100\n",
      "9800/9800 [==============================] - 1s 69us/step - loss: 0.0031 - acc: 0.0000e+00 - val_loss: 0.0031 - val_acc: 0.0000e+00\n",
      "Epoch 90/100\n",
      "9800/9800 [==============================] - 1s 52us/step - loss: 0.0031 - acc: 0.0000e+00 - val_loss: 0.0033 - val_acc: 0.0000e+00\n",
      "Epoch 91/100\n",
      "9800/9800 [==============================] - 1s 51us/step - loss: 0.0030 - acc: 0.0000e+00 - val_loss: 0.0030 - val_acc: 0.0000e+00\n",
      "Epoch 92/100\n",
      "9800/9800 [==============================] - 1s 68us/step - loss: 0.0030 - acc: 0.0000e+00 - val_loss: 0.0030 - val_acc: 0.0000e+00\n",
      "Epoch 93/100\n",
      "9800/9800 [==============================] - 1s 54us/step - loss: 0.0030 - acc: 0.0000e+00 - val_loss: 0.0029 - val_acc: 0.0000e+00\n",
      "Epoch 94/100\n",
      "9800/9800 [==============================] - 1s 61us/step - loss: 0.0029 - acc: 0.0000e+00 - val_loss: 0.0029 - val_acc: 0.0000e+00\n",
      "Epoch 95/100\n",
      "9800/9800 [==============================] - 1s 63us/step - loss: 0.0029 - acc: 0.0000e+00 - val_loss: 0.0029 - val_acc: 0.0000e+00\n",
      "Epoch 96/100\n",
      "9800/9800 [==============================] - 1s 63us/step - loss: 0.0029 - acc: 0.0000e+00 - val_loss: 0.0028 - val_acc: 0.0000e+00\n",
      "Epoch 97/100\n",
      "9800/9800 [==============================] - 1s 56us/step - loss: 0.0029 - acc: 0.0000e+00 - val_loss: 0.0028 - val_acc: 0.0000e+00\n",
      "Epoch 98/100\n",
      "9800/9800 [==============================] - 1s 53us/step - loss: 0.0028 - acc: 0.0000e+00 - val_loss: 0.0028 - val_acc: 0.0000e+00\n",
      "Epoch 99/100\n",
      "9800/9800 [==============================] - 1s 54us/step - loss: 0.0028 - acc: 0.0000e+00 - val_loss: 0.0029 - val_acc: 0.0000e+00\n",
      "Epoch 100/100\n",
      "9800/9800 [==============================] - 1s 52us/step - loss: 0.0028 - acc: 0.0000e+00 - val_loss: 0.0027 - val_acc: 0.0000e+00\n"
     ]
    }
   ],
   "source": [
    "history=model.fit(x_train,y_train, epochs=100,validation_data=(x_test, y_test))"
   ]
  },
  {
   "cell_type": "code",
   "execution_count": 95,
   "metadata": {},
   "outputs": [],
   "source": [
    "results = model.predict(x_test)"
   ]
  },
  {
   "cell_type": "code",
   "execution_count": 96,
   "metadata": {},
   "outputs": [
    {
     "data": {
      "text/plain": [
       "(200, 1)"
      ]
     },
     "execution_count": 96,
     "metadata": {},
     "output_type": "execute_result"
    }
   ],
   "source": [
    "results.shape"
   ]
  },
  {
   "cell_type": "code",
   "execution_count": 97,
   "metadata": {},
   "outputs": [
    {
     "data": {
      "text/plain": [
       "(200,)"
      ]
     },
     "execution_count": 97,
     "metadata": {},
     "output_type": "execute_result"
    }
   ],
   "source": [
    "y_test.shape"
   ]
  },
  {
   "cell_type": "code",
   "execution_count": 98,
   "metadata": {},
   "outputs": [
    {
     "data": {
      "text/plain": [
       "True"
      ]
     },
     "execution_count": 98,
     "metadata": {},
     "output_type": "execute_result"
    }
   ],
   "source": [
    "results.size==y_test.size"
   ]
  },
  {
   "cell_type": "code",
   "execution_count": 99,
   "metadata": {},
   "outputs": [
    {
     "data": {
      "image/png": "[encoded data removed]",
      "text/plain": [
       "<Figure size 432x288 with 1 Axes>"
      ]
     },
     "metadata": {
      "needs_background": "light"
     },
     "output_type": "display_data"
    }
   ],
   "source": [
    "plt.scatter(range(200),results,c='r')\n",
    "plt.scatter(range(200),y_test,c='g')\n",
    "plt.show()"
   ]
  },
  {
   "cell_type": "code",
   "execution_count": 100,
   "metadata": {},
   "outputs": [
    {
     "data": {
      "image/png": "[encoded data removed]",
      "text/plain": [
       "<Figure size 432x288 with 1 Axes>"
      ]
     },
     "metadata": {
      "needs_background": "light"
     },
     "output_type": "display_data"
    }
   ],
   "source": [
    "plt.plot(history.history['loss'])\n",
    "plt.show()"
   ]
  }
 ],
 "metadata": {
  "kernelspec": {
   "display_name": "Python 3",
   "language": "python",
   "name": "python3"
  },
  "language_info": {
   "codemirror_mode": {
    "name": "ipython",
    "version": 3
   },
   "file_extension": ".py",
   "mimetype": "text/x-python",
   "name": "python",
   "nbconvert_exporter": "python",
   "pygments_lexer": "ipython3",
   "version": "3.7.3"
  }
 },
 "nbformat": 4,
 "nbformat_minor": 2
}
