{
 "cells": [
  {
   "cell_type": "markdown",
   "metadata": {},
   "source": [
    "# Implementing Transmitter,  Channel and Receiver using Autoencoder\n",
    "Apoorva Jha (15MI420), Harish (15MI421)"
   ]
  },
  {
   "cell_type": "markdown",
   "metadata": {},
   "source": [
    "Ref : An Introduction to Deep Learning for the Physical Layer, Tim O’Shea, Senior Member, IEEE, and Jakob Hoydis, Member, IEEE"
   ]
  },
  {
   "cell_type": "code",
   "execution_count": 1,
   "metadata": {},
   "outputs": [
    {
     "name": "stderr",
     "output_type": "stream",
     "text": [
      "Using TensorFlow backend.\n"
     ]
    }
   ],
   "source": [
    "# importing required libs\n",
    "import numpy as np\n",
    "import keras\n",
    "from keras.layers import Input, Dense, GaussianNoise, Lambda\n",
    "from keras.models import Model\n",
    "from keras.optimizers import Adam\n",
    "from keras import regularizers\n",
    "\n",
    "from keras import backend as K"
   ]
  },
  {
   "cell_type": "code",
   "execution_count": 2,
   "metadata": {},
   "outputs": [
    {
     "name": "stdout",
     "output_type": "stream",
     "text": [
      "4 2 2 1.0\n"
     ]
    }
   ],
   "source": [
    "# k is bits used in a message\n",
    "# M is possible message\n",
    "# n = no of channels\n",
    "# R is communication rate\n",
    "# n is used in encoder layers and R is used for defining noise for channel\n",
    "M = 4\n",
    "k = np.log2(M)\n",
    "k = int(k)\n",
    "n = 2\n",
    "R = k/n\n",
    "print (M,k,n,R)"
   ]
  },
  {
   "cell_type": "code",
   "execution_count": 19,
   "metadata": {},
   "outputs": [
    {
     "name": "stdout",
     "output_type": "stream",
     "text": [
      "(5000, 4)\n",
      "[1. 0. 0. 0.]\n"
     ]
    }
   ],
   "source": [
    "#generating data of size N\n",
    "N = 5000\n",
    "from numpy.random import seed\n",
    "seed(10)\n",
    "pos = np.random.randint(M,size=N)\n",
    "\n",
    "# creating one hot encoded vectors\n",
    "train_data = []\n",
    "for i in pos:\n",
    "    arr = np.zeros(M)\n",
    "    arr[i] = 1\n",
    "    train_data.append(arr)\n",
    "\n",
    "# checking data shape\n",
    "train_data = np.array(train_data)\n",
    "print (train_data.shape)\n",
    "\n",
    "print(train_data[16])"
   ]
  },
  {
   "cell_type": "code",
   "execution_count": 20,
   "metadata": {
    "scrolled": true
   },
   "outputs": [
    {
     "name": "stdout",
     "output_type": "stream",
     "text": [
      "Model: \"model_7\"\n",
      "_________________________________________________________________\n",
      "Layer (type)                 Output Shape              Param #   \n",
      "=================================================================\n",
      "input_5 (InputLayer)         (None, 4)                 0         \n",
      "_________________________________________________________________\n",
      "dense_9 (Dense)              (None, 4)                 20        \n",
      "_________________________________________________________________\n",
      "dense_10 (Dense)             (None, 2)                 10        \n",
      "_________________________________________________________________\n",
      "gaussian_noise_3 (GaussianNo (None, 2)                 0         \n",
      "_________________________________________________________________\n",
      "dense_11 (Dense)             (None, 4)                 12        \n",
      "_________________________________________________________________\n",
      "dense_12 (Dense)             (None, 4)                 20        \n",
      "=================================================================\n",
      "Total params: 62\n",
      "Trainable params: 62\n",
      "Non-trainable params: 0\n",
      "_________________________________________________________________\n",
      "None\n",
      "Epoch 1/100\n",
      "5000/5000 [==============================] - 1s 100us/step - loss: 1.4905\n",
      "Epoch 2/100\n",
      "5000/5000 [==============================] - 0s 43us/step - loss: 1.4760\n",
      "Epoch 3/100\n",
      "5000/5000 [==============================] - 0s 44us/step - loss: 1.4698\n",
      "Epoch 4/100\n",
      "5000/5000 [==============================] - 0s 44us/step - loss: 1.4679\n",
      "Epoch 5/100\n",
      "5000/5000 [==============================] - 0s 45us/step - loss: 1.4667\n",
      "Epoch 6/100\n",
      "5000/5000 [==============================] - 0s 42us/step - loss: 1.4666\n",
      "Epoch 7/100\n",
      "5000/5000 [==============================] - 0s 42us/step - loss: 1.4662\n",
      "Epoch 8/100\n",
      "5000/5000 [==============================] - 0s 42us/step - loss: 1.4662\n",
      "Epoch 9/100\n",
      "5000/5000 [==============================] - 0s 43us/step - loss: 1.4661\n",
      "Epoch 10/100\n",
      "5000/5000 [==============================] - 0s 43us/step - loss: 1.4663\n",
      "Epoch 11/100\n",
      "5000/5000 [==============================] - 0s 52us/step - loss: 1.4473\n",
      "Epoch 12/100\n",
      "5000/5000 [==============================] - 0s 54us/step - loss: 1.2637\n",
      "Epoch 13/100\n",
      "5000/5000 [==============================] - 0s 45us/step - loss: 1.0660\n",
      "Epoch 14/100\n",
      "5000/5000 [==============================] - 0s 44us/step - loss: 0.9300\n",
      "Epoch 15/100\n",
      "5000/5000 [==============================] - 0s 42us/step - loss: 0.9037\n",
      "Epoch 16/100\n",
      "5000/5000 [==============================] - 0s 48us/step - loss: 0.8958\n",
      "Epoch 17/100\n",
      "5000/5000 [==============================] - 0s 57us/step - loss: 0.8779\n",
      "Epoch 18/100\n",
      "5000/5000 [==============================] - 0s 42us/step - loss: 0.8818\n",
      "Epoch 19/100\n",
      "5000/5000 [==============================] - 0s 41us/step - loss: 0.8754\n",
      "Epoch 20/100\n",
      "5000/5000 [==============================] - 0s 43us/step - loss: 0.8759\n",
      "Epoch 21/100\n",
      "5000/5000 [==============================] - 0s 45us/step - loss: 0.8696\n",
      "Epoch 22/100\n",
      "5000/5000 [==============================] - 0s 44us/step - loss: 0.8638\n",
      "Epoch 23/100\n",
      "5000/5000 [==============================] - 0s 48us/step - loss: 0.8681\n",
      "Epoch 24/100\n",
      "5000/5000 [==============================] - 0s 64us/step - loss: 0.8715\n",
      "Epoch 25/100\n",
      "5000/5000 [==============================] - 0s 60us/step - loss: 0.8776\n",
      "Epoch 26/100\n",
      "5000/5000 [==============================] - 0s 50us/step - loss: 0.8624\n",
      "Epoch 27/100\n",
      "5000/5000 [==============================] - 0s 45us/step - loss: 0.8549\n",
      "Epoch 28/100\n",
      "5000/5000 [==============================] - 0s 46us/step - loss: 0.8596\n",
      "Epoch 29/100\n",
      "5000/5000 [==============================] - 0s 48us/step - loss: 0.8735\n",
      "Epoch 30/100\n",
      "5000/5000 [==============================] - 0s 57us/step - loss: 0.8501\n",
      "Epoch 31/100\n",
      "5000/5000 [==============================] - 0s 48us/step - loss: 0.8757\n",
      "Epoch 32/100\n",
      "5000/5000 [==============================] - 0s 46us/step - loss: 0.8533\n",
      "Epoch 33/100\n",
      "5000/5000 [==============================] - 0s 43us/step - loss: 0.8473\n",
      "Epoch 34/100\n",
      "5000/5000 [==============================] - 0s 42us/step - loss: 0.8675\n",
      "Epoch 35/100\n",
      "5000/5000 [==============================] - 0s 49us/step - loss: 0.8488\n",
      "Epoch 36/100\n",
      "5000/5000 [==============================] - 0s 62us/step - loss: 0.8576\n",
      "Epoch 37/100\n",
      "5000/5000 [==============================] - 0s 62us/step - loss: 0.8568\n",
      "Epoch 38/100\n",
      "5000/5000 [==============================] - 0s 44us/step - loss: 0.8684\n",
      "Epoch 39/100\n",
      "5000/5000 [==============================] - 0s 45us/step - loss: 0.8482\n",
      "Epoch 40/100\n",
      "5000/5000 [==============================] - 0s 46us/step - loss: 0.8509\n",
      "Epoch 41/100\n",
      "5000/5000 [==============================] - 0s 51us/step - loss: 0.8662\n",
      "Epoch 42/100\n",
      "5000/5000 [==============================] - 0s 53us/step - loss: 0.8600\n",
      "Epoch 43/100\n",
      "5000/5000 [==============================] - 0s 54us/step - loss: 0.8571\n",
      "Epoch 44/100\n",
      "5000/5000 [==============================] - 0s 54us/step - loss: 0.8498\n",
      "Epoch 45/100\n",
      "5000/5000 [==============================] - 0s 56us/step - loss: 0.8624\n",
      "Epoch 46/100\n",
      "5000/5000 [==============================] - 0s 42us/step - loss: 0.8485\n",
      "Epoch 47/100\n",
      "5000/5000 [==============================] - 0s 45us/step - loss: 0.8578\n",
      "Epoch 48/100\n",
      "5000/5000 [==============================] - 0s 46us/step - loss: 0.8595\n",
      "Epoch 49/100\n",
      "5000/5000 [==============================] - 0s 63us/step - loss: 0.8451\n",
      "Epoch 50/100\n",
      "5000/5000 [==============================] - 0s 64us/step - loss: 0.8497\n",
      "Epoch 51/100\n",
      "5000/5000 [==============================] - 0s 47us/step - loss: 0.8517\n",
      "Epoch 52/100\n",
      "5000/5000 [==============================] - 0s 50us/step - loss: 0.8525\n",
      "Epoch 53/100\n",
      "5000/5000 [==============================] - 0s 48us/step - loss: 0.8466\n",
      "Epoch 54/100\n",
      "5000/5000 [==============================] - 0s 48us/step - loss: 0.8508\n",
      "Epoch 55/100\n",
      "5000/5000 [==============================] - 0s 48us/step - loss: 0.8493\n",
      "Epoch 56/100\n",
      "5000/5000 [==============================] - 0s 52us/step - loss: 0.8371\n",
      "Epoch 57/100\n",
      "5000/5000 [==============================] - 0s 42us/step - loss: 0.8359\n",
      "Epoch 58/100\n",
      "5000/5000 [==============================] - 0s 45us/step - loss: 0.8520\n",
      "Epoch 59/100\n",
      "5000/5000 [==============================] - 0s 48us/step - loss: 0.8577\n",
      "Epoch 60/100\n",
      "5000/5000 [==============================] - 0s 49us/step - loss: 0.8480\n",
      "Epoch 61/100\n",
      "5000/5000 [==============================] - 0s 53us/step - loss: 0.8471\n",
      "Epoch 62/100\n",
      "5000/5000 [==============================] - 0s 65us/step - loss: 0.8504\n",
      "Epoch 63/100\n",
      "5000/5000 [==============================] - 0s 52us/step - loss: 0.8343\n",
      "Epoch 64/100\n",
      "5000/5000 [==============================] - 0s 52us/step - loss: 0.8407\n",
      "Epoch 65/100\n",
      "5000/5000 [==============================] - 0s 53us/step - loss: 0.8556\n",
      "Epoch 66/100\n",
      "5000/5000 [==============================] - 0s 46us/step - loss: 0.8502\n",
      "Epoch 67/100\n",
      "5000/5000 [==============================] - 0s 43us/step - loss: 0.8503\n",
      "Epoch 68/100\n",
      "5000/5000 [==============================] - 0s 43us/step - loss: 0.8343\n",
      "Epoch 69/100\n",
      "5000/5000 [==============================] - 0s 42us/step - loss: 0.8610\n",
      "Epoch 70/100\n",
      "5000/5000 [==============================] - 0s 45us/step - loss: 0.8600\n",
      "Epoch 71/100\n",
      "5000/5000 [==============================] - 0s 48us/step - loss: 0.8456\n",
      "Epoch 72/100\n",
      "5000/5000 [==============================] - 0s 43us/step - loss: 0.8559\n",
      "Epoch 73/100\n",
      "5000/5000 [==============================] - 0s 44us/step - loss: 0.8432\n",
      "Epoch 74/100\n",
      "5000/5000 [==============================] - 0s 47us/step - loss: 0.8429\n",
      "Epoch 75/100\n",
      "5000/5000 [==============================] - 0s 43us/step - loss: 0.8416\n",
      "Epoch 76/100\n",
      "5000/5000 [==============================] - 0s 44us/step - loss: 0.8516\n",
      "Epoch 77/100\n",
      "5000/5000 [==============================] - 0s 46us/step - loss: 0.8483\n",
      "Epoch 78/100\n",
      "5000/5000 [==============================] - 0s 48us/step - loss: 0.8636\n",
      "Epoch 79/100\n",
      "5000/5000 [==============================] - 0s 47us/step - loss: 0.8392\n",
      "Epoch 80/100\n",
      "5000/5000 [==============================] - 0s 43us/step - loss: 0.8533\n",
      "Epoch 81/100\n",
      "5000/5000 [==============================] - 0s 44us/step - loss: 0.8430\n",
      "Epoch 82/100\n",
      "5000/5000 [==============================] - 0s 46us/step - loss: 0.8484\n",
      "Epoch 83/100\n"
     ]
    },
    {
     "name": "stdout",
     "output_type": "stream",
     "text": [
      "5000/5000 [==============================] - 0s 51us/step - loss: 0.8475\n",
      "Epoch 84/100\n",
      "5000/5000 [==============================] - 0s 52us/step - loss: 0.8519\n",
      "Epoch 85/100\n",
      "5000/5000 [==============================] - 0s 58us/step - loss: 0.8327\n",
      "Epoch 86/100\n",
      "5000/5000 [==============================] - 0s 56us/step - loss: 0.8655\n",
      "Epoch 87/100\n",
      "5000/5000 [==============================] - 0s 45us/step - loss: 0.8428\n",
      "Epoch 88/100\n",
      "5000/5000 [==============================] - 0s 52us/step - loss: 0.8528\n",
      "Epoch 89/100\n",
      "5000/5000 [==============================] - 0s 45us/step - loss: 0.8504\n",
      "Epoch 90/100\n",
      "5000/5000 [==============================] - 0s 61us/step - loss: 0.8527\n",
      "Epoch 91/100\n",
      "5000/5000 [==============================] - 0s 64us/step - loss: 0.8537\n",
      "Epoch 92/100\n",
      "5000/5000 [==============================] - 0s 65us/step - loss: 0.8488\n",
      "Epoch 93/100\n",
      "5000/5000 [==============================] - 0s 64us/step - loss: 0.8520\n",
      "Epoch 94/100\n",
      "5000/5000 [==============================] - 0s 56us/step - loss: 0.8554\n",
      "Epoch 95/100\n",
      "5000/5000 [==============================] - 0s 44us/step - loss: 0.8687\n",
      "Epoch 96/100\n",
      "5000/5000 [==============================] - 0s 43us/step - loss: 0.8627\n",
      "Epoch 97/100\n",
      "5000/5000 [==============================] - 0s 50us/step - loss: 0.8382\n",
      "Epoch 98/100\n",
      "5000/5000 [==============================] - 0s 65us/step - loss: 0.8652\n",
      "Epoch 99/100\n",
      "5000/5000 [==============================] - 0s 55us/step - loss: 0.8463\n",
      "Epoch 100/100\n",
      "5000/5000 [==============================] - 0s 43us/step - loss: 0.8438\n"
     ]
    },
    {
     "data": {
      "text/plain": [
       "<keras.callbacks.History at 0x7fe3cc647ac8>"
      ]
     },
     "execution_count": 20,
     "metadata": {},
     "output_type": "execute_result"
    }
   ],
   "source": [
    "# transmitter\n",
    "message_signal = Input(shape=(M,))\n",
    "transmitter1 = Dense(M, activation='relu')(message_signal)\n",
    "transmitter2= Dense(n, activation='softmax',kernel_regularizer=regularizers.l2(0.01),\n",
    "                activity_regularizer=regularizers.l2(0.01))(transmitter1)\n",
    "\n",
    "# to avoid overfitting\n",
    "\n",
    "\n",
    "#noise in channel\n",
    "SNR = 10**(0.7) #  coverted 7 db of EbNo, values used from paper\n",
    "channel = GaussianNoise(np.sqrt(1/(2*R*SNR)))(transmitter2)\n",
    "#receiver\n",
    "receiver1 = Dense(M, activation='relu')(channel)\n",
    "receiver2 = Dense(M, activation='softmax')(receiver1)\n",
    "autoencoder = Model(message_signal, receiver2)\n",
    "autoencoder.compile(optimizer=Adam(lr=0.001), loss='categorical_crossentropy') # learning rate value from paper\n",
    "\n",
    "print (autoencoder.summary())\n",
    "\n",
    "autoencoder.fit(train_data,train_data,\n",
    "                epochs=100,\n",
    "                batch_size=16)"
   ]
  },
  {
   "cell_type": "code",
   "execution_count": 21,
   "metadata": {},
   "outputs": [],
   "source": [
    "#transmitter model\n",
    "transmitter = Model(message_signal, transmitter2)"
   ]
  },
  {
   "cell_type": "code",
   "execution_count": 22,
   "metadata": {},
   "outputs": [],
   "source": [
    "# receiver model\n",
    "encoded_input = Input(shape=(n,))\n",
    "\n",
    "deco = autoencoder.layers[-2](encoded_input)\n",
    "deco = autoencoder.layers[-1](deco)\n",
    "receiver = Model(encoded_input, deco)"
   ]
  },
  {
   "cell_type": "code",
   "execution_count": 23,
   "metadata": {},
   "outputs": [
    {
     "name": "stdout",
     "output_type": "stream",
     "text": [
      "(1000, 4)\n",
      "[0. 1. 0. 0.]\n"
     ]
    }
   ],
   "source": [
    "# test data\n",
    "N = 1000\n",
    "from numpy.random import seed\n",
    "seed(10)\n",
    "test_pos = np.random.randint(M,size=N)\n",
    "test_data = []\n",
    "\n",
    "for i in test_pos:\n",
    "    arr = np.zeros(M)\n",
    "    arr[i] = 1\n",
    "    test_data.append(arr)\n",
    "    \n",
    "test_data = np.array(test_data)\n",
    "print (test_data.shape)\n",
    "print (test_data[44])"
   ]
  },
  {
   "cell_type": "code",
   "execution_count": 24,
   "metadata": {},
   "outputs": [
    {
     "name": "stdout",
     "output_type": "stream",
     "text": [
      "SNR: -15 BER: 0.73\n",
      "SNR: -14 BER: 0.722\n",
      "SNR: -13 BER: 0.715\n",
      "SNR: -12 BER: 0.708\n",
      "SNR: -11 BER: 0.703\n",
      "SNR: -10 BER: 0.689\n",
      "SNR: -9 BER: 0.688\n",
      "SNR: -8 BER: 0.692\n",
      "SNR: -7 BER: 0.682\n",
      "SNR: -6 BER: 0.67\n",
      "SNR: -5 BER: 0.661\n",
      "SNR: -4 BER: 0.649\n",
      "SNR: -3 BER: 0.633\n",
      "SNR: -2 BER: 0.624\n",
      "SNR: -1 BER: 0.603\n",
      "SNR: 0 BER: 0.586\n",
      "SNR: 1 BER: 0.565\n",
      "SNR: 2 BER: 0.54\n",
      "SNR: 3 BER: 0.514\n",
      "SNR: 4 BER: 0.485\n",
      "SNR: 5 BER: 0.462\n",
      "SNR: 6 BER: 0.434\n",
      "SNR: 7 BER: 0.407\n",
      "SNR: 8 BER: 0.374\n",
      "SNR: 9 BER: 0.34\n",
      "SNR: 10 BER: 0.318\n",
      "SNR: 11 BER: 0.297\n",
      "SNR: 12 BER: 0.28\n",
      "SNR: 13 BER: 0.264\n",
      "SNR: 14 BER: 0.26\n",
      "SNR: 15 BER: 0.256\n"
     ]
    }
   ],
   "source": [
    "# we now make our test data pass through the transmitter and rciever with different noise in the channel\n",
    "#the bit error rate vs SNR graph is plotted showing how well the autoencoder models a communication system\n",
    "\n",
    "SNR_range = (range(-15,16)) # decibel values\n",
    "ber = [0]*len(SNR_range) # block error rate\n",
    "for i in range(0,len(SNR_range)):\n",
    "    SNR=10**(SNR_range[i]*0.1) # converting from decibel\n",
    "    std = np.sqrt(1/(2*R*SNR))\n",
    "    errors = 0\n",
    "    from numpy.random import seed\n",
    "    seed(10)\n",
    "    noise = std * np.random.randn(N,n)# noise for channel\n",
    "    #print(n,noise.shape)\n",
    "    msg_signal = transmitter.predict(test_data) \n",
    "    transmit_signal = msg_signal + noise\n",
    "    transmit_signal_received =  receiver.predict(transmit_signal)\n",
    "    #print(transmit_signal)\n",
    "    received_signal = np.argmax(transmit_signal_received,axis=1) #finding pos of bit 1\n",
    "    #print(received_signal)\n",
    "    errors = (received_signal != test_pos)# checking pos for bit 1\n",
    "    #print(errors)\n",
    "    errors =  errors.sum() \n",
    "    ber[i] = errors / N\n",
    "   # errors=errors.sum()\n",
    "   # ber[i] =(errors)/ N # normalizing\n",
    "    #print(1)\n",
    "    print ('SNR:',SNR_range[i],'BER:',ber[i])\n",
    "    "
   ]
  },
  {
   "cell_type": "code",
   "execution_count": 25,
   "metadata": {},
   "outputs": [
    {
     "data": {
      "text/plain": [
       "Text(0, 0.5, 'Block Error Rate')"
      ]
     },
     "execution_count": 25,
     "metadata": {},
     "output_type": "execute_result"
    },
    {
     "data": {
      "image/png": "[encoded data removed]",
      "text/plain": [
       "<Figure size 432x288 with 1 Axes>"
      ]
     },
     "metadata": {
      "needs_background": "light"
     },
     "output_type": "display_data"
    }
   ],
   "source": [
    "# ploting ber curve\n",
    "import matplotlib.pyplot as plt\n",
    "plt.plot(SNR_range, ber,'bo')\n",
    "plt.xlabel('SNR Range')\n",
    "plt.ylabel('Block Error Rate')\n"
   ]
  },
  {
   "cell_type": "code",
   "execution_count": null,
   "metadata": {},
   "outputs": [],
   "source": []
  }
 ],
 "metadata": {
  "anaconda-cloud": {},
  "kernelspec": {
   "display_name": "Python 3",
   "language": "python",
   "name": "python3"
  },
  "language_info": {
   "codemirror_mode": {
    "name": "ipython",
    "version": 3
   },
   "file_extension": ".py",
   "mimetype": "text/x-python",
   "name": "python",
   "nbconvert_exporter": "python",
   "pygments_lexer": "ipython3",
   "version": "3.7.3"
  }
 },
 "nbformat": 4,
 "nbformat_minor": 2
}
