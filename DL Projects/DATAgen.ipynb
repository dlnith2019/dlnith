{
  "nbformat": 4,
  "nbformat_minor": 0,
  "metadata": {
    "colab": {
      "name": "Untitled21.ipynb",
      "provenance": []
    },
    "kernelspec": {
      "name": "python3",
      "display_name": "Python 3"
    }
  },
  "cells": [
    {
      "cell_type": "code",
      "metadata": {
        "id": "P3stU024WcKh",
        "colab_type": "code",
        "colab": {
          "base_uri": "https://localhost:8080/",
          "height": 63
        },
        "outputId": "cbb37d3e-7c5e-4c81-ca71-8e310c6e417a"
      },
      "source": [
        "from tensorflow.keras.models import load_model\n",
        "import tensorflow as tf\n",
        "import matplotlib.pyplot as plt\n",
        "import gc\n",
        "import numpy as np"
      ],
      "execution_count": 1,
      "outputs": [
        {
          "output_type": "display_data",
          "data": {
            "text/html": [
              "<p style=\"color: red;\">\n",
              "The default version of TensorFlow in Colab will soon switch to TensorFlow 2.x.<br>\n",
              "We recommend you <a href=\"https://www.tensorflow.org/guide/migrate\" target=\"_blank\">upgrade</a> now \n",
              "or ensure your notebook will continue to use TensorFlow 1.x via the <code>%tensorflow_version 1.x</code> magic:\n",
              "<a href=\"https://colab.research.google.com/notebooks/tensorflow_version.ipynb\" target=\"_blank\">more info</a>.</p>\n"
            ],
            "text/plain": [
              "<IPython.core.display.HTML object>"
            ]
          },
          "metadata": {
            "tags": []
          }
        }
      ]
    },
    {
      "cell_type": "code",
      "metadata": {
        "id": "IUkRBBhJWeHD",
        "colab_type": "code",
        "colab": {
          "base_uri": "https://localhost:8080/",
          "height": 122
        },
        "outputId": "f7724a40-ed6b-47ea-bc59-3c76780e3480"
      },
      "source": [
        "from google.colab import drive\n",
        "drive.mount('/content/drive')"
      ],
      "execution_count": 2,
      "outputs": [
        {
          "output_type": "stream",
          "text": [
            "Go to this URL in a browser: https://accounts.google.com/o/oauth2/auth?client_id=947318989803-6bn6qk8qdgf4n4g3pfee6491hc0brc4i.apps.googleusercontent.com&redirect_uri=urn%3aietf%3awg%3aoauth%3a2.0%3aoob&response_type=code&scope=email%20https%3a%2f%2fwww.googleapis.com%2fauth%2fdocs.test%20https%3a%2f%2fwww.googleapis.com%2fauth%2fdrive%20https%3a%2f%2fwww.googleapis.com%2fauth%2fdrive.photos.readonly%20https%3a%2f%2fwww.googleapis.com%2fauth%2fpeopleapi.readonly\n",
            "\n",
            "Enter your authorization code:\n",
            "··········\n",
            "Mounted at /content/drive\n"
          ],
          "name": "stdout"
        }
      ]
    },
    {
      "cell_type": "code",
      "metadata": {
        "id": "QcEx17S3WjhQ",
        "colab_type": "code",
        "colab": {
          "base_uri": "https://localhost:8080/",
          "height": 34
        },
        "outputId": "372ab810-0aae-427e-b292-a3bb2ca734d0"
      },
      "source": [
        " gc.collect()"
      ],
      "execution_count": 5,
      "outputs": [
        {
          "output_type": "execute_result",
          "data": {
            "text/plain": [
              "70"
            ]
          },
          "metadata": {
            "tags": []
          },
          "execution_count": 5
        }
      ]
    },
    {
      "cell_type": "code",
      "metadata": {
        "id": "zWFOqOF0Wyf8",
        "colab_type": "code",
        "colab": {}
      },
      "source": [
        "def extract_fn_2(tfrecord):\n",
        "        # Extract features using the keys set during creation\n",
        "        features = {\n",
        "            'feature1': tf.FixedLenFeature([128], tf.float32,),\n",
        "            'feature2': tf.FixedLenFeature([128], tf.float32),\n",
        "            'label': tf.FixedLenFeature([10],tf.int64)\n",
        "        }\n",
        "\n",
        "        # Extract the data record\n",
        "        sample = tf.parse_single_example(tfrecord, features)\n",
        "        data = tf.stack([sample['feature1'], sample['feature2']])\n",
        "        label = sample['label']\n",
        "        return [data,label]"
      ],
      "execution_count": 0,
      "outputs": []
    },
    {
      "cell_type": "code",
      "metadata": {
        "id": "-S3Cj1WEW78n",
        "colab_type": "code",
        "colab": {}
      },
      "source": [
        "def extract_fn_4(tfrecord):\n",
        "        # Extract features using the keys set during creation\n",
        "        features = {\n",
        "            'feature1': tf.FixedLenFeature([128], tf.float32),\n",
        "            'feature2': tf.FixedLenFeature([128], tf.float32),\n",
        "            'feature3': tf.FixedLenFeature([128], tf.float32),\n",
        "            'feature4': tf.FixedLenFeature([128], tf.float32),\n",
        "            'label': tf.FixedLenFeature([10],tf.int64)\n",
        "        }\n",
        "\n",
        "        # Extract the data record\n",
        "        sample = tf.parse_single_example(tfrecord, features)\n",
        "        data = tf.stack([sample['feature1'], sample['feature2'], sample['feature3'], sample['feature4']])\n",
        "        label = sample['label']\n",
        "        return [data,label]"
      ],
      "execution_count": 0,
      "outputs": []
    },
    {
      "cell_type": "code",
      "metadata": {
        "id": "xYmpZZ_NXCAD",
        "colab_type": "code",
        "colab": {}
      },
      "source": [
        "def dataset_tonumpy(dataset,dim):\n",
        "  #splitting datasets into X and Y\n",
        "  X = []\n",
        "  Y = []\n",
        "  it= dataset.make_one_shot_iterator().get_next()\n",
        "  sess = tf.Session()\n",
        "  with tf.train.MonitoredTrainingSession() as sess:\n",
        "    while not sess.should_stop():\n",
        "            data =sess.run(it)\n",
        "            X.append(data[0])\n",
        "            Y.append(data[1])\n",
        "  \n",
        "  \n",
        "  testX = np.array(X).reshape(600000,dim,128)\n",
        "  testY = np.array(Y).reshape(600000,10)\n",
        "  return testX,testY\n",
        "def plot_confusion_matrix(cm, title='Confusion matrix', cmap=plt.cm.Blues, labels=[]):\n",
        "    plt.imshow(cm, interpolation='nearest', cmap=cmap)\n",
        "    plt.title(title)\n",
        "    plt.colorbar()\n",
        "    tick_marks = np.arange(len(labels))\n",
        "    plt.xticks(tick_marks, labels, rotation=45)\n",
        "    plt.yticks(tick_marks, labels)\n",
        "    plt.tight_layout()\n",
        "    plt.ylabel('True label')\n",
        "    plt.xlabel('Predicted label')\n",
        "    plt.show()"
      ],
      "execution_count": 0,
      "outputs": []
    },
    {
      "cell_type": "code",
      "metadata": {
        "id": "_Ys3WqRqXNQe",
        "colab_type": "code",
        "colab": {}
      },
      "source": [
        ""
      ],
      "execution_count": 0,
      "outputs": []
    }
  ]
}