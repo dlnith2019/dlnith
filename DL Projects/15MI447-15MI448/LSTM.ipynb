{
  "nbformat": 4,
  "nbformat_minor": 0,
  "metadata": {
    "colab": {
      "name": "Untitled15.ipynb",
      "provenance": [],
      "collapsed_sections": []
    },
    "kernelspec": {
      "name": "python3",
      "display_name": "Python 3"
    }
  },
  "cells": [
    {
      "cell_type": "code",
      "metadata": {
        "id": "6gPs7VEZYkEo",
        "colab_type": "code",
        "colab": {
          "base_uri": "https://localhost:8080/",
          "height": 122
        },
        "outputId": "29574c6d-0498-4810-e149-8fe5001f04f5"
      },
      "source": [
        "from google.colab import drive\n",
        "\n",
        "# This will prompt for authorization.\n",
        "drive.mount('/content/drive')"
      ],
      "execution_count": 9,
      "outputs": [
        {
          "output_type": "stream",
          "text": [
            "Go to this URL in a browser: https://accounts.google.com/o/oauth2/auth?client_id=947318989803-6bn6qk8qdgf4n4g3pfee6491hc0brc4i.apps.googleusercontent.com&redirect_uri=urn%3aietf%3awg%3aoauth%3a2.0%3aoob&response_type=code&scope=email%20https%3a%2f%2fwww.googleapis.com%2fauth%2fdocs.test%20https%3a%2f%2fwww.googleapis.com%2fauth%2fdrive%20https%3a%2f%2fwww.googleapis.com%2fauth%2fdrive.photos.readonly%20https%3a%2f%2fwww.googleapis.com%2fauth%2fpeopleapi.readonly\n",
            "\n",
            "Enter your authorization code:\n",
            "··········\n",
            "Mounted at /content/drive\n"
          ],
          "name": "stdout"
        }
      ]
    },
    {
      "cell_type": "code",
      "metadata": {
        "id": "O-w9ysJjZTyd",
        "colab_type": "code",
        "colab": {
          "base_uri": "https://localhost:8080/",
          "height": 136
        },
        "outputId": "50e82d9e-eb35-4a73-cd55-e0b53b547553"
      },
      "source": [
        "!ls \"/content/drive/My Drive\""
      ],
      "execution_count": 10,
      "outputs": [
        {
          "output_type": "stream",
          "text": [
            " 333259944-Antenna-Theory-by-Balanis-Solution-Manual-3rd-Edition.pdf\n",
            " CNN.wts.h5\n",
            "'Colab Notebooks'\n",
            "'Getting started.pdf'\n",
            " raw_SNR.npy\n",
            " RML2016.10a_dict.pkl\n",
            " RML2016.10b.dat\n"
          ],
          "name": "stdout"
        }
      ]
    },
    {
      "cell_type": "code",
      "metadata": {
        "id": "YdrXDzRkZiNs",
        "colab_type": "code",
        "colab": {}
      },
      "source": [
        "import os\n",
        "import pickle\n",
        "os.environ[\"KERAS_BACKEND\"] = \"tensorflow\"\n",
        "import numpy as np\n",
        "from keras.layers.core import Reshape, Dense, Dropout, Activation, Flatten\n",
        "from keras.layers.convolutional import Conv2D, MaxPooling2D, ZeroPadding2D\n",
        "import matplotlib.pyplot as plt\n",
        "import pickle, keras\n",
        "from keras.models import Model\n",
        "from keras.layers import Input, LSTM, Dense\n",
        "import sys\n",
        "sys.path.append('../confusion')\n",
        "import matplotlib.pyplot as plt\n",
        "from sklearn.metrics import confusion_matrix\n",
        "from sklearn.metrics import cohen_kappa_score, accuracy_score\n",
        "\n",
        "name = 'lstm'\n",
        "\n"
      ],
      "execution_count": 0,
      "outputs": []
    },
    {
      "cell_type": "code",
      "metadata": {
        "id": "ZKYLtFA8aJiu",
        "colab_type": "code",
        "colab": {}
      },
      "source": [
        "#Xd = pickle.load(open(\"/content/drive/My Drive/RML2016.10a_dict.pkl\", 'rb'))\n",
        "filename = \"/content/drive/My Drive/RML2016.10a_dict.pkl\"\n",
        "open_file = open(filename,'rb')\n",
        "Xd= pickle.load(open_file, encoding='latin1')\n",
        "snrs, mods = map(lambda j: sorted(list(set(map(lambda x: x[j], Xd.keys())))), [1, 0])\n",
        "X = []\n",
        "lbl = []\n",
        "for mod in mods:\n",
        "    for snr in snrs:\n",
        "        X.append(Xd[(mod, snr)])\n",
        "        for i in range(Xd[(mod, snr)].shape[0]):  lbl.append((mod, snr))\n",
        "X = np.vstack(X)\n",
        "# %%\n",
        "np.random.seed(2016) \n",
        "n_examples = X.shape[0]\n",
        "n_train = n_examples * 0.5  \n",
        "train_idx = np.random.choice(range(0, n_examples), size=int(n_train), replace=False)\n",
        "test_idx = list(set(range(0, n_examples)) - set(train_idx))  \n",
        "X_train = X[train_idx]\n",
        "X_test = X[test_idx]\n",
        "\n",
        "\n",
        "def to_onehot(yy):\n",
        "    yy1 = np.zeros([len(yy), max(yy) + 1])\n",
        "    yy1[np.arange(len(yy)), yy] = 1\n",
        "    return yy1\n"
      ],
      "execution_count": 0,
      "outputs": []
    },
    {
      "cell_type": "code",
      "metadata": {
        "id": "1VWJxe8iaPbv",
        "colab_type": "code",
        "colab": {
          "base_uri": "https://localhost:8080/",
          "height": 1000
        },
        "outputId": "21abccfb-1f99-4354-847f-165564a56d80"
      },
      "source": [
        "trainy = list(map(lambda x: mods.index(lbl[x][0]), train_idx))\n",
        "Y_train = to_onehot(trainy)\n",
        "Y_test = to_onehot(list(map(lambda x: mods.index(lbl[x][0]), test_idx)))\n",
        "# in_shp: <type 'list'>: [2, 128]\n",
        "in_shp = list(X_train.shape[1:])\n",
        "print (X_train.shape, in_shp)\n",
        "classes = mods\n",
        "# %%\n",
        "dr = 0.5  \n",
        "input_x = Input(shape=(1, 2, 128))\n",
        "\n",
        " \n",
        "\n",
        "input_x_padding = ZeroPadding2D((0, 2), data_format=\"channels_first\")(input_x)\n",
        "\n",
        "layer11 = Conv2D(50, (1, 8), padding='valid', activation=\"relu\", name=\"conv11\", init='glorot_uniform',\n",
        "                 data_format=\"channels_first\")(input_x_padding)\n",
        "layer11 = Dropout(dr)(layer11)\n",
        "\n",
        "layer11_padding = ZeroPadding2D((0, 2), data_format=\"channels_first\")(layer11)\n",
        "layer12 = Conv2D(50, (1, 8), padding=\"valid\", activation=\"relu\", name=\"conv12\", init='glorot_uniform',\n",
        "                 data_format=\"channels_first\")(layer11_padding)\n",
        "layer12 = Dropout(dr)(layer12)\n",
        "\n",
        "layer12 = ZeroPadding2D((0, 2), data_format=\"channels_first\")(layer12)\n",
        "layer13 = Conv2D(50, (1, 8), padding='valid', activation=\"relu\", name=\"conv13\", init='glorot_uniform',\n",
        "                 data_format=\"channels_first\")(layer12)\n",
        "layer13 = Dropout(dr)(layer13)\n",
        "\n",
        "# <type 'tuple'>: (None, 50, 2, 242),\n",
        "concat = keras.layers.concatenate([layer11, layer13])\n",
        "concat_size = list(np.shape(concat))\n",
        "input_dim = int(concat_size[-1] * concat_size[-2])\n",
        "timesteps = int(concat_size[-3])\n",
        "# concat = np.reshape(concat, (-1,timesteps,input_dim))\n",
        "concat = Reshape((timesteps, input_dim))(concat)\n",
        "lstm_out = LSTM(50, input_dim=input_dim, input_length=timesteps)(concat)\n",
        "\n",
        "# lstm_out = LSTM(250, input_dim=input_dim, input_length=timesteps)(concat)\n",
        "\n",
        "# layer_Flatten = Flatten()(lstm_out)\n",
        "layer_dense1 = Dense(256, activation='relu', init='he_normal', name=\"dense1\")(lstm_out)\n",
        "layer_dropout = Dropout(dr)(layer_dense1)\n",
        "layer_dense2 = Dense(len(classes), init='he_normal', name=\"dense2\")(layer_dropout)\n",
        "layer_softmax = Activation('softmax')(layer_dense2)\n",
        "output = Reshape([len(classes)])(layer_softmax)\n",
        "\n",
        "model = Model(inputs=input_x, outputs=output)\n",
        "\n",
        "model.compile(loss='categorical_crossentropy', optimizer='adam')\n",
        "model.summary()"
      ],
      "execution_count": 14,
      "outputs": [
        {
          "output_type": "stream",
          "text": [
            "(110000, 2, 128) [2, 128]\n",
            "WARNING:tensorflow:From /usr/local/lib/python3.6/dist-packages/keras/backend/tensorflow_backend.py:4432: The name tf.random_uniform is deprecated. Please use tf.random.uniform instead.\n",
            "\n",
            "WARNING:tensorflow:From /usr/local/lib/python3.6/dist-packages/keras/backend/tensorflow_backend.py:190: The name tf.get_default_session is deprecated. Please use tf.compat.v1.get_default_session instead.\n",
            "\n",
            "WARNING:tensorflow:From /usr/local/lib/python3.6/dist-packages/keras/backend/tensorflow_backend.py:197: The name tf.ConfigProto is deprecated. Please use tf.compat.v1.ConfigProto instead.\n",
            "\n",
            "WARNING:tensorflow:From /usr/local/lib/python3.6/dist-packages/keras/backend/tensorflow_backend.py:203: The name tf.Session is deprecated. Please use tf.compat.v1.Session instead.\n",
            "\n"
          ],
          "name": "stdout"
        },
        {
          "output_type": "stream",
          "text": [
            "/usr/local/lib/python3.6/dist-packages/ipykernel_launcher.py:22: UserWarning: Update your `Conv2D` call to the Keras 2 API: `Conv2D(50, (1, 8), padding=\"valid\", activation=\"relu\", name=\"conv11\", data_format=\"channels_first\", kernel_initializer=\"glorot_uniform\")`\n"
          ],
          "name": "stderr"
        },
        {
          "output_type": "stream",
          "text": [
            "WARNING:tensorflow:From /usr/local/lib/python3.6/dist-packages/keras/backend/tensorflow_backend.py:207: The name tf.global_variables is deprecated. Please use tf.compat.v1.global_variables instead.\n",
            "\n",
            "WARNING:tensorflow:From /usr/local/lib/python3.6/dist-packages/keras/backend/tensorflow_backend.py:216: The name tf.is_variable_initialized is deprecated. Please use tf.compat.v1.is_variable_initialized instead.\n",
            "\n",
            "WARNING:tensorflow:From /usr/local/lib/python3.6/dist-packages/keras/backend/tensorflow_backend.py:223: The name tf.variables_initializer is deprecated. Please use tf.compat.v1.variables_initializer instead.\n",
            "\n",
            "WARNING:tensorflow:From /usr/local/lib/python3.6/dist-packages/keras/backend/tensorflow_backend.py:148: The name tf.placeholder_with_default is deprecated. Please use tf.compat.v1.placeholder_with_default instead.\n",
            "\n",
            "WARNING:tensorflow:From /usr/local/lib/python3.6/dist-packages/keras/backend/tensorflow_backend.py:3733: calling dropout (from tensorflow.python.ops.nn_ops) with keep_prob is deprecated and will be removed in a future version.\n",
            "Instructions for updating:\n",
            "Please use `rate` instead of `keep_prob`. Rate should be set to `rate = 1 - keep_prob`.\n"
          ],
          "name": "stdout"
        },
        {
          "output_type": "stream",
          "text": [
            "/usr/local/lib/python3.6/dist-packages/ipykernel_launcher.py:27: UserWarning: Update your `Conv2D` call to the Keras 2 API: `Conv2D(50, (1, 8), padding=\"valid\", activation=\"relu\", name=\"conv12\", data_format=\"channels_first\", kernel_initializer=\"glorot_uniform\")`\n",
            "/usr/local/lib/python3.6/dist-packages/ipykernel_launcher.py:32: UserWarning: Update your `Conv2D` call to the Keras 2 API: `Conv2D(50, (1, 8), padding=\"valid\", activation=\"relu\", name=\"conv13\", data_format=\"channels_first\", kernel_initializer=\"glorot_uniform\")`\n",
            "/usr/local/lib/python3.6/dist-packages/ipykernel_launcher.py:43: UserWarning: The `input_dim` and `input_length` arguments in recurrent layers are deprecated. Use `input_shape` instead.\n",
            "/usr/local/lib/python3.6/dist-packages/ipykernel_launcher.py:43: UserWarning: Update your `LSTM` call to the Keras 2 API: `LSTM(50, input_shape=(50, 488))`\n"
          ],
          "name": "stderr"
        },
        {
          "output_type": "stream",
          "text": [
            "WARNING:tensorflow:From /usr/local/lib/python3.6/dist-packages/keras/backend/tensorflow_backend.py:4479: The name tf.truncated_normal is deprecated. Please use tf.random.truncated_normal instead.\n",
            "\n",
            "WARNING:tensorflow:From /usr/local/lib/python3.6/dist-packages/keras/optimizers.py:793: The name tf.train.Optimizer is deprecated. Please use tf.compat.v1.train.Optimizer instead.\n",
            "\n",
            "WARNING:tensorflow:From /usr/local/lib/python3.6/dist-packages/keras/backend/tensorflow_backend.py:3576: The name tf.log is deprecated. Please use tf.math.log instead.\n",
            "\n",
            "Model: \"model_1\"\n",
            "__________________________________________________________________________________________________\n",
            "Layer (type)                    Output Shape         Param #     Connected to                     \n",
            "==================================================================================================\n",
            "input_2 (InputLayer)            (None, 1, 2, 128)    0                                            \n",
            "__________________________________________________________________________________________________\n",
            "zero_padding2d_1 (ZeroPadding2D (None, 1, 2, 132)    0           input_2[0][0]                    \n",
            "__________________________________________________________________________________________________\n",
            "conv11 (Conv2D)                 (None, 50, 2, 125)   450         zero_padding2d_1[0][0]           \n",
            "__________________________________________________________________________________________________\n",
            "dropout_1 (Dropout)             (None, 50, 2, 125)   0           conv11[0][0]                     \n",
            "__________________________________________________________________________________________________\n",
            "zero_padding2d_2 (ZeroPadding2D (None, 50, 2, 129)   0           dropout_1[0][0]                  \n",
            "__________________________________________________________________________________________________\n",
            "conv12 (Conv2D)                 (None, 50, 2, 122)   20050       zero_padding2d_2[0][0]           \n",
            "__________________________________________________________________________________________________\n",
            "dropout_2 (Dropout)             (None, 50, 2, 122)   0           conv12[0][0]                     \n",
            "__________________________________________________________________________________________________\n",
            "zero_padding2d_3 (ZeroPadding2D (None, 50, 2, 126)   0           dropout_2[0][0]                  \n",
            "__________________________________________________________________________________________________\n",
            "conv13 (Conv2D)                 (None, 50, 2, 119)   20050       zero_padding2d_3[0][0]           \n",
            "__________________________________________________________________________________________________\n",
            "dropout_3 (Dropout)             (None, 50, 2, 119)   0           conv13[0][0]                     \n",
            "__________________________________________________________________________________________________\n",
            "concatenate_1 (Concatenate)     (None, 50, 2, 244)   0           dropout_1[0][0]                  \n",
            "                                                                 dropout_3[0][0]                  \n",
            "__________________________________________________________________________________________________\n",
            "reshape_1 (Reshape)             (None, 50, 488)      0           concatenate_1[0][0]              \n",
            "__________________________________________________________________________________________________\n",
            "lstm_1 (LSTM)                   (None, 50)           107800      reshape_1[0][0]                  \n",
            "__________________________________________________________________________________________________\n",
            "dense1 (Dense)                  (None, 256)          13056       lstm_1[0][0]                     \n",
            "__________________________________________________________________________________________________\n",
            "dropout_4 (Dropout)             (None, 256)          0           dense1[0][0]                     \n",
            "__________________________________________________________________________________________________\n",
            "dense2 (Dense)                  (None, 11)           2827        dropout_4[0][0]                  \n",
            "__________________________________________________________________________________________________\n",
            "activation_1 (Activation)       (None, 11)           0           dense2[0][0]                     \n",
            "__________________________________________________________________________________________________\n",
            "reshape_2 (Reshape)             (None, 11)           0           activation_1[0][0]               \n",
            "==================================================================================================\n",
            "Total params: 164,233\n",
            "Trainable params: 164,233\n",
            "Non-trainable params: 0\n",
            "__________________________________________________________________________________________________\n"
          ],
          "name": "stdout"
        },
        {
          "output_type": "stream",
          "text": [
            "/usr/local/lib/python3.6/dist-packages/ipykernel_launcher.py:48: UserWarning: Update your `Dense` call to the Keras 2 API: `Dense(256, activation=\"relu\", name=\"dense1\", kernel_initializer=\"he_normal\")`\n",
            "/usr/local/lib/python3.6/dist-packages/ipykernel_launcher.py:50: UserWarning: Update your `Dense` call to the Keras 2 API: `Dense(11, name=\"dense2\", kernel_initializer=\"he_normal\")`\n"
          ],
          "name": "stderr"
        }
      ]
    },
    {
      "cell_type": "code",
      "metadata": {
        "id": "O6wdQbXpz0dl",
        "colab_type": "code",
        "colab": {
          "base_uri": "https://localhost:8080/",
          "height": 366
        },
        "outputId": "c39b5a27-e7f4-4862-be49-e28a83d1de00"
      },
      "source": [
        " epochs = 2  # number of epochs to train on\n",
        "batch_size = 1024  # training batch size default1024\n",
        "# %%\n",
        "filepath = \"convmodrecnets_%s_0.5.wts.h5\" % (name) \n",
        "\n",
        "X_train = np.reshape(X_train, (-1, 1, 2, 128))\n",
        "X_test = np.reshape(X_test, (-1, 1, 2, 128))\n",
        "\n",
        "history = model.fit(X_train,\n",
        "                    Y_train,\n",
        "                    batch_size=batch_size,\n",
        "                    epochs=epochs,\n",
        "                    verbose=2,\n",
        "                    validation_data=(X_test, Y_test),\n",
        "                    callbacks=[  \n",
        "                        keras.callbacks.ModelCheckpoint(filepath, monitor='val_loss', verbose=0, save_best_only=True,\n",
        "                                                        mode='auto'),\n",
        "                        keras.callbacks.EarlyStopping(monitor='val_loss', patience=5, verbose=0, mode='auto')\n",
        "                    ])  \n",
        "# Show loss curves\n",
        "plt.figure()\n",
        "plt.title('Training performance')\n",
        "plt.plot(history.epoch, history.history['loss'], label='train loss+error')\n",
        "plt.plot(history.epoch, history.history['val_loss'], label='val_error')\n",
        "plt.legend()\n",
        "plt.savefig('%s Training performance' %(name))\n",
        "# plt.show()\n",
        "\n",
        "\n",
        "# Set up  params\n",
        "\n",
        "\n"
      ],
      "execution_count": 16,
      "outputs": [
        {
          "output_type": "stream",
          "text": [
            "Train on 110000 samples, validate on 110000 samples\n",
            "Epoch 1/2\n",
            " - 647s - loss: 2.2876 - val_loss: 2.2057\n",
            "Epoch 2/2\n",
            " - 646s - loss: 2.1849 - val_loss: 2.1308\n"
          ],
          "name": "stdout"
        },
        {
          "output_type": "display_data",
          "data": {
            "image/png": "[encoded data removed]",
            "text/plain": [
              "<Figure size 432x288 with 1 Axes>"
            ]
          },
          "metadata": {
            "tags": []
          }
        }
      ]
    },
    {
      "cell_type": "code",
      "metadata": {
        "id": "qs7_o5Pl1Z7d",
        "colab_type": "code",
        "colab": {
          "base_uri": "https://localhost:8080/",
          "height": 34
        },
        "outputId": "f71638cf-aae0-4136-a63b-bd2dc3db9c7b"
      },
      "source": [
        "model.load_weights(filepath)\n",
        "score = model.evaluate(X_test, Y_test, verbose=0, batch_size=batch_size)\n",
        "print('evaluate_score:', score)\n"
      ],
      "execution_count": 17,
      "outputs": [
        {
          "output_type": "stream",
          "text": [
            "evaluate_score: 2.1307865599632265\n"
          ],
          "name": "stdout"
        }
      ]
    },
    {
      "cell_type": "code",
      "metadata": {
        "id": "wRmkwwgcR_5o",
        "colab_type": "code",
        "colab": {}
      },
      "source": [
        ""
      ],
      "execution_count": 0,
      "outputs": []
    }
  ]
}