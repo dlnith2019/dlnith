{
 "cells": [
  {
   "cell_type": "code",
   "execution_count": 1,
   "metadata": {},
   "outputs": [],
   "source": [
    "import sys\n",
    "import os\n",
    "import numpy as np\n",
    "import matplotlib.pyplot as plt"
   ]
  },
  {
   "cell_type": "code",
   "execution_count": 2,
   "metadata": {},
   "outputs": [],
   "source": [
    "# max_devices_per_cell is also max number of rows in circuit files in the training set\n",
    "max_devices_per_cell = 351; \n",
    "# feature_per_device is different from max number of cols (14) in circuit files in training set\n",
    "feature_per_device   = 5; \n",
    "feature_indices = (0,2,5,8,11)"
   ]
  },
  {
   "cell_type": "code",
   "execution_count": 3,
   "metadata": {},
   "outputs": [],
   "source": [
    "def load_one_cell(cell_file):\n",
    "    cell_cols = 14\n",
    "    cell_data = np.zeros(shape=(max_devices_per_cell, cell_cols), dtype=np.float32)\n",
    "    cell_mat  = np.loadtxt(cell_file, dtype=np.float32, ndmin=2)\n",
    "    nrows     = cell_mat.shape[0]\n",
    "    ncols     = cell_mat.shape[1]\n",
    "    cell_data[:nrows, :ncols] = cell_mat\n",
    "    cell_data = cell_data[:, feature_indices]\n",
    "    return cell_data"
   ]
  },
  {
   "cell_type": "code",
   "execution_count": 4,
   "metadata": {},
   "outputs": [],
   "source": [
    "def load_cells(folder):\n",
    "  #Load the data for a single label.\n",
    "  cell_files = os.listdir(folder)\n",
    "  dataset = np.zeros(shape=(len(cell_files), max_devices_per_cell, feature_per_device),\n",
    "                         dtype=np.float32)\n",
    "  cell_index = 0\n",
    "  for cell in cell_files:\n",
    "    cell_file = os.path.join(folder, cell)\n",
    "    try:\n",
    "      cell_data = load_one_cell(cell_file)\n",
    "\n",
    "      cell_rows = cell_data.shape[0]\n",
    "      cell_cols = cell_data.shape[1]\n",
    "      dataset[cell_index, :cell_rows, :cell_cols] = cell_data\n",
    "\n",
    "      cell_index = cell_index + 1\n",
    "    except IOError as e:\n",
    "      print('Could not read:', cell_file, ':', e, '- it\\'s ok, skipping.')\n",
    "    \n",
    "  dataset = dataset[0:cell_index, :, :]\n",
    "\n",
    "  print(os.path.basename(folder), ': shape=', dataset.shape, ', Mean=', np.mean(dataset), ', sigma=', np.std(dataset))\n",
    "  return dataset"
   ]
  },
  {
   "cell_type": "code",
   "execution_count": 5,
   "metadata": {},
   "outputs": [
    {
     "name": "stdout",
     "output_type": "stream",
     "text": [
      "COMB : shape= (10, 351, 5) , Mean= 0.0988604 , sigma= 1.033829\n",
      "SQNC : shape= (10, 351, 5) , Mean= 1.4900855 , sigma= 5.138047\n"
     ]
    }
   ],
   "source": [
    "current_folder = globals()['_dh'][0]\n",
    "comb_dataset = load_cells(os.path.join(current_folder,'COMB'))\n",
    "sqnc_dataset = load_cells(os.path.join(current_folder,'SEQ'))"
   ]
  },
  {
   "cell_type": "code",
   "execution_count": 6,
   "metadata": {},
   "outputs": [],
   "source": [
    "labels = np.asarray([[1.0, 0.0] if (i<comb_dataset.shape[0]) else [0.0, 1.0] for i in range(comb_dataset.shape[0]+sqnc_dataset.shape[0])])"
   ]
  },
  {
   "cell_type": "code",
   "execution_count": 7,
   "metadata": {},
   "outputs": [],
   "source": [
    "np.random.shuffle(comb_dataset)\n",
    "np.random.shuffle(seq_dataset)"
   ]
  },
  {
   "cell_type": "code",
   "execution_count": 8,
   "metadata": {},
   "outputs": [],
   "source": [
    "# Create a combined dataset\n",
    "dataset = np.append(comb_dataset, seq_dataset, axis=0)\t  \n",
    "\n",
    "dataset = dataset.reshape((-1, max_devices_per_cell*feature_per_device))"
   ]
  },
  {
   "cell_type": "code",
   "execution_count": 9,
   "metadata": {},
   "outputs": [
    {
     "data": {
      "text/plain": [
       "(20, 1755)"
      ]
     },
     "execution_count": 9,
     "metadata": {},
     "output_type": "execute_result"
    }
   ],
   "source": [
    "dataset.shape"
   ]
  },
  {
   "cell_type": "code",
   "execution_count": 10,
   "metadata": {},
   "outputs": [],
   "source": [
    "data_mean = 0;\n",
    "data_std  = (np.max(dataset)-np.min(dataset));\n",
    "\n",
    "def normalize(d, mean, std):\n",
    "    return (d - mean) / std\n",
    "\n",
    "dataset = normalize(dataset, data_mean, data_std)"
   ]
  },
  {
   "cell_type": "code",
   "execution_count": 11,
   "metadata": {},
   "outputs": [],
   "source": [
    "    train_index = int(dataset.shape[0]*0.8)\n",
    "    Xtrain = dataset[:train_index, :]\n",
    "    Ytrain = labels[:train_index,:]\n",
    "    Xtest = dataset[train_index:,:]\n",
    "    Ytest = labels[train_index:,:]\t"
   ]
  },
  {
   "cell_type": "code",
   "execution_count": 12,
   "metadata": {},
   "outputs": [
    {
     "data": {
      "text/plain": [
       "(16, 1755)"
      ]
     },
     "execution_count": 12,
     "metadata": {},
     "output_type": "execute_result"
    }
   ],
   "source": [
    "Xtrain.shape"
   ]
  },
  {
   "cell_type": "code",
   "execution_count": 13,
   "metadata": {},
   "outputs": [
    {
     "name": "stderr",
     "output_type": "stream",
     "text": [
      "Using TensorFlow backend.\n",
      "WARNING: Logging before flag parsing goes to stderr.\n",
      "W1122 11:51:34.890354 14092 deprecation_wrapper.py:119] From C:\\Users\\NITISH\\Miniconda3\\lib\\site-packages\\keras\\backend\\tensorflow_backend.py:66: The name tf.get_default_graph is deprecated. Please use tf.compat.v1.get_default_graph instead.\n",
      "\n",
      "W1122 11:51:34.928350 14092 deprecation_wrapper.py:119] From C:\\Users\\NITISH\\Miniconda3\\lib\\site-packages\\keras\\backend\\tensorflow_backend.py:541: The name tf.placeholder is deprecated. Please use tf.compat.v1.placeholder instead.\n",
      "\n",
      "W1122 11:51:34.933333 14092 deprecation_wrapper.py:119] From C:\\Users\\NITISH\\Miniconda3\\lib\\site-packages\\keras\\backend\\tensorflow_backend.py:4432: The name tf.random_uniform is deprecated. Please use tf.random.uniform instead.\n",
      "\n",
      "W1122 11:51:35.002310 14092 deprecation_wrapper.py:119] From C:\\Users\\NITISH\\Miniconda3\\lib\\site-packages\\keras\\optimizers.py:793: The name tf.train.Optimizer is deprecated. Please use tf.compat.v1.train.Optimizer instead.\n",
      "\n"
     ]
    }
   ],
   "source": [
    "from keras.models import Sequential\n",
    "from keras.layers import Dense\n",
    "model=Sequential()\n",
    "\n",
    "model.add(Dense(16,activation='softmax',input_shape=(1755,)))\n",
    "model.add(Dense(2,activation='softmax'))\n",
    "model.compile(optimizer='adam',loss='mse',metrics=['acc'])"
   ]
  },
  {
   "cell_type": "code",
   "execution_count": 14,
   "metadata": {},
   "outputs": [
    {
     "name": "stdout",
     "output_type": "stream",
     "text": [
      "Model: \"sequential_1\"\n",
      "_________________________________________________________________\n",
      "Layer (type)                 Output Shape              Param #   \n",
      "=================================================================\n",
      "dense_1 (Dense)              (None, 16)                28096     \n",
      "_________________________________________________________________\n",
      "dense_2 (Dense)              (None, 2)                 34        \n",
      "=================================================================\n",
      "Total params: 28,130\n",
      "Trainable params: 28,130\n",
      "Non-trainable params: 0\n",
      "_________________________________________________________________\n"
     ]
    }
   ],
   "source": [
    "model.summary()"
   ]
  },
  {
   "cell_type": "code",
   "execution_count": 15,
   "metadata": {},
   "outputs": [
    {
     "name": "stderr",
     "output_type": "stream",
     "text": [
      "W1122 11:51:35.406075 14092 deprecation_wrapper.py:119] From C:\\Users\\NITISH\\Miniconda3\\lib\\site-packages\\keras\\backend\\tensorflow_backend.py:1033: The name tf.assign_add is deprecated. Please use tf.compat.v1.assign_add instead.\n",
      "\n",
      "W1122 11:51:35.525988 14092 deprecation_wrapper.py:119] From C:\\Users\\NITISH\\Miniconda3\\lib\\site-packages\\keras\\backend\\tensorflow_backend.py:1020: The name tf.assign is deprecated. Please use tf.compat.v1.assign instead.\n",
      "\n"
     ]
    },
    {
     "name": "stdout",
     "output_type": "stream",
     "text": [
      "Train on 16 samples, validate on 4 samples\n",
      "Epoch 1/100\n",
      "16/16 [==============================] - 0s 21ms/step - loss: 0.2630 - acc: 0.3750 - val_loss: 0.2015 - val_acc: 1.0000\n",
      "Epoch 2/100\n",
      "16/16 [==============================] - 0s 311us/step - loss: 0.2611 - acc: 0.3750 - val_loss: 0.1977 - val_acc: 1.0000\n",
      "Epoch 3/100\n",
      "16/16 [==============================] - 0s 312us/step - loss: 0.2590 - acc: 0.3750 - val_loss: 0.1939 - val_acc: 1.0000\n",
      "Epoch 4/100\n",
      "16/16 [==============================] - 0s 562us/step - loss: 0.2567 - acc: 0.3750 - val_loss: 0.1900 - val_acc: 1.0000\n",
      "Epoch 5/100\n",
      "16/16 [==============================] - 0s 375us/step - loss: 0.2544 - acc: 0.3750 - val_loss: 0.1862 - val_acc: 1.0000\n",
      "Epoch 6/100\n",
      "16/16 [==============================] - 0s 250us/step - loss: 0.2521 - acc: 0.3750 - val_loss: 0.1825 - val_acc: 1.0000\n",
      "Epoch 7/100\n",
      "16/16 [==============================] - 0s 312us/step - loss: 0.2499 - acc: 0.3750 - val_loss: 0.1789 - val_acc: 1.0000\n",
      "Epoch 8/100\n",
      "16/16 [==============================] - 0s 563us/step - loss: 0.2476 - acc: 0.3750 - val_loss: 0.1755 - val_acc: 1.0000\n",
      "Epoch 9/100\n",
      "16/16 [==============================] - 0s 437us/step - loss: 0.2455 - acc: 0.3750 - val_loss: 0.1723 - val_acc: 1.0000\n",
      "Epoch 10/100\n",
      "16/16 [==============================] - 0s 499us/step - loss: 0.2434 - acc: 0.3750 - val_loss: 0.1692 - val_acc: 1.0000\n",
      "Epoch 11/100\n",
      "16/16 [==============================] - 0s 312us/step - loss: 0.2413 - acc: 0.3750 - val_loss: 0.1663 - val_acc: 1.0000\n",
      "Epoch 12/100\n",
      "16/16 [==============================] - 0s 312us/step - loss: 0.2393 - acc: 0.3750 - val_loss: 0.1635 - val_acc: 1.0000\n",
      "Epoch 13/100\n",
      "16/16 [==============================] - 0s 312us/step - loss: 0.2374 - acc: 0.3750 - val_loss: 0.1609 - val_acc: 1.0000\n",
      "Epoch 14/100\n",
      "16/16 [==============================] - 0s 313us/step - loss: 0.2355 - acc: 0.3750 - val_loss: 0.1583 - val_acc: 1.0000\n",
      "Epoch 15/100\n",
      "16/16 [==============================] - 0s 250us/step - loss: 0.2336 - acc: 0.3750 - val_loss: 0.1558 - val_acc: 1.0000\n",
      "Epoch 16/100\n",
      "16/16 [==============================] - 0s 375us/step - loss: 0.2318 - acc: 0.3750 - val_loss: 0.1535 - val_acc: 1.0000\n",
      "Epoch 17/100\n",
      "16/16 [==============================] - 0s 437us/step - loss: 0.2300 - acc: 0.3750 - val_loss: 0.1513 - val_acc: 1.0000\n",
      "Epoch 18/100\n",
      "16/16 [==============================] - 0s 312us/step - loss: 0.2283 - acc: 0.3750 - val_loss: 0.1492 - val_acc: 1.0000\n",
      "Epoch 19/100\n",
      "16/16 [==============================] - 0s 312us/step - loss: 0.2265 - acc: 0.3750 - val_loss: 0.1471 - val_acc: 1.0000\n",
      "Epoch 20/100\n",
      "16/16 [==============================] - 0s 375us/step - loss: 0.2249 - acc: 0.3750 - val_loss: 0.1452 - val_acc: 1.0000\n",
      "Epoch 21/100\n",
      "16/16 [==============================] - 0s 312us/step - loss: 0.2232 - acc: 0.3750 - val_loss: 0.1434 - val_acc: 1.0000\n",
      "Epoch 22/100\n",
      "16/16 [==============================] - 0s 437us/step - loss: 0.2216 - acc: 0.3750 - val_loss: 0.1416 - val_acc: 1.0000\n",
      "Epoch 23/100\n",
      "16/16 [==============================] - 0s 250us/step - loss: 0.2200 - acc: 0.3750 - val_loss: 0.1398 - val_acc: 1.0000\n",
      "Epoch 24/100\n",
      "16/16 [==============================] - 0s 250us/step - loss: 0.2184 - acc: 0.3750 - val_loss: 0.1381 - val_acc: 1.0000\n",
      "Epoch 25/100\n",
      "16/16 [==============================] - 0s 250us/step - loss: 0.2169 - acc: 0.3750 - val_loss: 0.1364 - val_acc: 1.0000\n",
      "Epoch 26/100\n",
      "16/16 [==============================] - 0s 375us/step - loss: 0.2153 - acc: 0.3750 - val_loss: 0.1348 - val_acc: 1.0000\n",
      "Epoch 27/100\n",
      "16/16 [==============================] - 0s 375us/step - loss: 0.2138 - acc: 0.3750 - val_loss: 0.1331 - val_acc: 1.0000\n",
      "Epoch 28/100\n",
      "16/16 [==============================] - 0s 437us/step - loss: 0.2122 - acc: 0.3750 - val_loss: 0.1314 - val_acc: 1.0000\n",
      "Epoch 29/100\n",
      "16/16 [==============================] - 0s 312us/step - loss: 0.2106 - acc: 0.3750 - val_loss: 0.1297 - val_acc: 1.0000\n",
      "Epoch 30/100\n",
      "16/16 [==============================] - 0s 625us/step - loss: 0.2091 - acc: 0.3750 - val_loss: 0.1279 - val_acc: 1.0000\n",
      "Epoch 31/100\n",
      "16/16 [==============================] - 0s 375us/step - loss: 0.2075 - acc: 0.3750 - val_loss: 0.1261 - val_acc: 1.0000\n",
      "Epoch 32/100\n",
      "16/16 [==============================] - 0s 375us/step - loss: 0.2059 - acc: 0.3750 - val_loss: 0.1243 - val_acc: 1.0000\n",
      "Epoch 33/100\n",
      "16/16 [==============================] - 0s 625us/step - loss: 0.2043 - acc: 0.3750 - val_loss: 0.1225 - val_acc: 1.0000\n",
      "Epoch 34/100\n",
      "16/16 [==============================] - 0s 250us/step - loss: 0.2027 - acc: 0.3750 - val_loss: 0.1207 - val_acc: 1.0000\n",
      "Epoch 35/100\n",
      "16/16 [==============================] - 0s 687us/step - loss: 0.2011 - acc: 1.0000 - val_loss: 0.1188 - val_acc: 1.0000\n",
      "Epoch 36/100\n",
      "16/16 [==============================] - 0s 312us/step - loss: 0.1994 - acc: 1.0000 - val_loss: 0.1170 - val_acc: 1.0000\n",
      "Epoch 37/100\n",
      "16/16 [==============================] - 0s 375us/step - loss: 0.1978 - acc: 1.0000 - val_loss: 0.1151 - val_acc: 1.0000\n",
      "Epoch 38/100\n",
      "16/16 [==============================] - 0s 375us/step - loss: 0.1962 - acc: 1.0000 - val_loss: 0.1133 - val_acc: 1.0000\n",
      "Epoch 39/100\n",
      "16/16 [==============================] - 0s 500us/step - loss: 0.1945 - acc: 1.0000 - val_loss: 0.1115 - val_acc: 1.0000\n",
      "Epoch 40/100\n",
      "16/16 [==============================] - 0s 437us/step - loss: 0.1929 - acc: 1.0000 - val_loss: 0.1097 - val_acc: 1.0000\n",
      "Epoch 41/100\n",
      "16/16 [==============================] - 0s 437us/step - loss: 0.1913 - acc: 1.0000 - val_loss: 0.1080 - val_acc: 1.0000\n",
      "Epoch 42/100\n",
      "16/16 [==============================] - 0s 437us/step - loss: 0.1897 - acc: 1.0000 - val_loss: 0.1063 - val_acc: 1.0000\n",
      "Epoch 43/100\n",
      "16/16 [==============================] - 0s 312us/step - loss: 0.1881 - acc: 1.0000 - val_loss: 0.1048 - val_acc: 1.0000\n",
      "Epoch 44/100\n",
      "16/16 [==============================] - 0s 2ms/step - loss: 0.1865 - acc: 1.0000 - val_loss: 0.1033 - val_acc: 1.0000\n",
      "Epoch 45/100\n",
      "16/16 [==============================] - 0s 562us/step - loss: 0.1850 - acc: 1.0000 - val_loss: 0.1019 - val_acc: 1.0000\n",
      "Epoch 46/100\n",
      "16/16 [==============================] - 0s 375us/step - loss: 0.1835 - acc: 1.0000 - val_loss: 0.1006 - val_acc: 1.0000\n",
      "Epoch 47/100\n",
      "16/16 [==============================] - 0s 500us/step - loss: 0.1821 - acc: 1.0000 - val_loss: 0.0994 - val_acc: 1.0000\n",
      "Epoch 48/100\n",
      "16/16 [==============================] - 0s 625us/step - loss: 0.1807 - acc: 1.0000 - val_loss: 0.0983 - val_acc: 1.0000\n",
      "Epoch 49/100\n",
      "16/16 [==============================] - 0s 500us/step - loss: 0.1793 - acc: 1.0000 - val_loss: 0.0973 - val_acc: 1.0000\n",
      "Epoch 50/100\n",
      "16/16 [==============================] - 0s 375us/step - loss: 0.1779 - acc: 1.0000 - val_loss: 0.0964 - val_acc: 1.0000\n",
      "Epoch 51/100\n",
      "16/16 [==============================] - 0s 375us/step - loss: 0.1766 - acc: 1.0000 - val_loss: 0.0956 - val_acc: 1.0000\n",
      "Epoch 52/100\n",
      "16/16 [==============================] - 0s 437us/step - loss: 0.1753 - acc: 1.0000 - val_loss: 0.0948 - val_acc: 1.0000\n",
      "Epoch 53/100\n",
      "16/16 [==============================] - 0s 375us/step - loss: 0.1740 - acc: 1.0000 - val_loss: 0.0941 - val_acc: 1.0000\n",
      "Epoch 54/100\n",
      "16/16 [==============================] - 0s 312us/step - loss: 0.1728 - acc: 1.0000 - val_loss: 0.0935 - val_acc: 1.0000\n",
      "Epoch 55/100\n",
      "16/16 [==============================] - 0s 625us/step - loss: 0.1716 - acc: 1.0000 - val_loss: 0.0929 - val_acc: 1.0000\n",
      "Epoch 56/100\n",
      "16/16 [==============================] - 0s 562us/step - loss: 0.1704 - acc: 1.0000 - val_loss: 0.0924 - val_acc: 1.0000\n",
      "Epoch 57/100\n",
      "16/16 [==============================] - 0s 312us/step - loss: 0.1692 - acc: 1.0000 - val_loss: 0.0919 - val_acc: 1.0000\n",
      "Epoch 58/100\n",
      "16/16 [==============================] - 0s 437us/step - loss: 0.1680 - acc: 1.0000 - val_loss: 0.0915 - val_acc: 1.0000\n",
      "Epoch 59/100\n",
      "16/16 [==============================] - 0s 375us/step - loss: 0.1669 - acc: 1.0000 - val_loss: 0.0911 - val_acc: 1.0000\n",
      "Epoch 60/100\n",
      "16/16 [==============================] - 0s 312us/step - loss: 0.1658 - acc: 1.0000 - val_loss: 0.0907 - val_acc: 1.0000\n",
      "Epoch 61/100\n",
      "16/16 [==============================] - 0s 437us/step - loss: 0.1647 - acc: 1.0000 - val_loss: 0.0903 - val_acc: 1.0000\n"
     ]
    },
    {
     "name": "stdout",
     "output_type": "stream",
     "text": [
      "Epoch 62/100\n",
      "16/16 [==============================] - 0s 313us/step - loss: 0.1636 - acc: 1.0000 - val_loss: 0.0900 - val_acc: 1.0000\n",
      "Epoch 63/100\n",
      "16/16 [==============================] - 0s 375us/step - loss: 0.1625 - acc: 1.0000 - val_loss: 0.0897 - val_acc: 1.0000\n",
      "Epoch 64/100\n",
      "16/16 [==============================] - 0s 375us/step - loss: 0.1615 - acc: 1.0000 - val_loss: 0.0894 - val_acc: 1.0000\n",
      "Epoch 65/100\n",
      "16/16 [==============================] - 0s 438us/step - loss: 0.1604 - acc: 1.0000 - val_loss: 0.0891 - val_acc: 1.0000\n",
      "Epoch 66/100\n",
      "16/16 [==============================] - 0s 312us/step - loss: 0.1594 - acc: 1.0000 - val_loss: 0.0889 - val_acc: 1.0000\n",
      "Epoch 67/100\n",
      "16/16 [==============================] - 0s 312us/step - loss: 0.1583 - acc: 1.0000 - val_loss: 0.0887 - val_acc: 1.0000\n",
      "Epoch 68/100\n",
      "16/16 [==============================] - 0s 312us/step - loss: 0.1573 - acc: 1.0000 - val_loss: 0.0884 - val_acc: 1.0000\n",
      "Epoch 69/100\n",
      "16/16 [==============================] - 0s 437us/step - loss: 0.1563 - acc: 1.0000 - val_loss: 0.0882 - val_acc: 1.0000\n",
      "Epoch 70/100\n",
      "16/16 [==============================] - 0s 375us/step - loss: 0.1553 - acc: 1.0000 - val_loss: 0.0880 - val_acc: 1.0000\n",
      "Epoch 71/100\n",
      "16/16 [==============================] - 0s 375us/step - loss: 0.1543 - acc: 1.0000 - val_loss: 0.0878 - val_acc: 1.0000\n",
      "Epoch 72/100\n",
      "16/16 [==============================] - 0s 499us/step - loss: 0.1533 - acc: 1.0000 - val_loss: 0.0876 - val_acc: 1.0000\n",
      "Epoch 73/100\n",
      "16/16 [==============================] - 0s 375us/step - loss: 0.1524 - acc: 1.0000 - val_loss: 0.0874 - val_acc: 1.0000\n",
      "Epoch 74/100\n",
      "16/16 [==============================] - 0s 1ms/step - loss: 0.1514 - acc: 1.0000 - val_loss: 0.0872 - val_acc: 1.0000\n",
      "Epoch 75/100\n",
      "16/16 [==============================] - 0s 375us/step - loss: 0.1504 - acc: 1.0000 - val_loss: 0.0871 - val_acc: 1.0000\n",
      "Epoch 76/100\n",
      "16/16 [==============================] - 0s 375us/step - loss: 0.1495 - acc: 1.0000 - val_loss: 0.0869 - val_acc: 1.0000\n",
      "Epoch 77/100\n",
      "16/16 [==============================] - 0s 437us/step - loss: 0.1485 - acc: 1.0000 - val_loss: 0.0867 - val_acc: 1.0000\n",
      "Epoch 78/100\n",
      "16/16 [==============================] - 0s 375us/step - loss: 0.1476 - acc: 1.0000 - val_loss: 0.0866 - val_acc: 1.0000\n",
      "Epoch 79/100\n",
      "16/16 [==============================] - 0s 312us/step - loss: 0.1467 - acc: 1.0000 - val_loss: 0.0864 - val_acc: 1.0000\n",
      "Epoch 80/100\n",
      "16/16 [==============================] - 0s 312us/step - loss: 0.1458 - acc: 1.0000 - val_loss: 0.0863 - val_acc: 1.0000\n",
      "Epoch 81/100\n",
      "16/16 [==============================] - 0s 375us/step - loss: 0.1448 - acc: 1.0000 - val_loss: 0.0861 - val_acc: 1.0000\n",
      "Epoch 82/100\n",
      "16/16 [==============================] - 0s 437us/step - loss: 0.1439 - acc: 1.0000 - val_loss: 0.0860 - val_acc: 1.0000\n",
      "Epoch 83/100\n",
      "16/16 [==============================] - 0s 312us/step - loss: 0.1431 - acc: 1.0000 - val_loss: 0.0859 - val_acc: 1.0000\n",
      "Epoch 84/100\n",
      "16/16 [==============================] - 0s 375us/step - loss: 0.1422 - acc: 1.0000 - val_loss: 0.0857 - val_acc: 1.0000\n",
      "Epoch 85/100\n",
      "16/16 [==============================] - 0s 187us/step - loss: 0.1413 - acc: 1.0000 - val_loss: 0.0856 - val_acc: 1.0000\n",
      "Epoch 86/100\n",
      "16/16 [==============================] - 0s 312us/step - loss: 0.1404 - acc: 1.0000 - val_loss: 0.0854 - val_acc: 1.0000\n",
      "Epoch 87/100\n",
      "16/16 [==============================] - 0s 312us/step - loss: 0.1395 - acc: 1.0000 - val_loss: 0.0853 - val_acc: 1.0000\n",
      "Epoch 88/100\n",
      "16/16 [==============================] - 0s 312us/step - loss: 0.1387 - acc: 1.0000 - val_loss: 0.0852 - val_acc: 1.0000\n",
      "Epoch 89/100\n",
      "16/16 [==============================] - 0s 188us/step - loss: 0.1378 - acc: 1.0000 - val_loss: 0.0850 - val_acc: 1.0000\n",
      "Epoch 90/100\n",
      "16/16 [==============================] - 0s 375us/step - loss: 0.1370 - acc: 1.0000 - val_loss: 0.0849 - val_acc: 1.0000\n",
      "Epoch 91/100\n",
      "16/16 [==============================] - 0s 375us/step - loss: 0.1361 - acc: 1.0000 - val_loss: 0.0848 - val_acc: 1.0000\n",
      "Epoch 92/100\n",
      "16/16 [==============================] - 0s 375us/step - loss: 0.1353 - acc: 1.0000 - val_loss: 0.0847 - val_acc: 1.0000\n",
      "Epoch 93/100\n",
      "16/16 [==============================] - 0s 375us/step - loss: 0.1345 - acc: 1.0000 - val_loss: 0.0845 - val_acc: 1.0000\n",
      "Epoch 94/100\n",
      "16/16 [==============================] - 0s 250us/step - loss: 0.1337 - acc: 1.0000 - val_loss: 0.0844 - val_acc: 1.0000\n",
      "Epoch 95/100\n",
      "16/16 [==============================] - 0s 312us/step - loss: 0.1328 - acc: 1.0000 - val_loss: 0.0843 - val_acc: 1.0000\n",
      "Epoch 96/100\n",
      "16/16 [==============================] - 0s 250us/step - loss: 0.1320 - acc: 1.0000 - val_loss: 0.0842 - val_acc: 1.0000\n",
      "Epoch 97/100\n",
      "16/16 [==============================] - 0s 312us/step - loss: 0.1312 - acc: 1.0000 - val_loss: 0.0840 - val_acc: 1.0000\n",
      "Epoch 98/100\n",
      "16/16 [==============================] - 0s 250us/step - loss: 0.1305 - acc: 1.0000 - val_loss: 0.0839 - val_acc: 1.0000\n",
      "Epoch 99/100\n",
      "16/16 [==============================] - 0s 312us/step - loss: 0.1297 - acc: 1.0000 - val_loss: 0.0838 - val_acc: 1.0000\n",
      "Epoch 100/100\n",
      "16/16 [==============================] - 0s 250us/step - loss: 0.1289 - acc: 1.0000 - val_loss: 0.0837 - val_acc: 1.0000\n"
     ]
    }
   ],
   "source": [
    "history=model.fit(Xtrain,Ytrain, epochs=100,validation_data=(Xtest, Ytest))"
   ]
  },
  {
   "cell_type": "code",
   "execution_count": 18,
   "metadata": {},
   "outputs": [
    {
     "name": "stdout",
     "output_type": "stream",
     "text": [
      "[0.625, 0.625, 0.625, 0.6875, 1.0, 1.0, 1.0, 1.0, 1.0, 1.0, 1.0, 1.0, 1.0, 1.0, 1.0, 1.0, 1.0, 1.0, 1.0, 1.0, 1.0, 1.0, 1.0, 1.0, 1.0, 1.0, 1.0, 1.0, 1.0, 1.0, 1.0, 1.0, 1.0, 1.0, 1.0, 1.0, 1.0, 1.0, 1.0, 1.0, 1.0, 1.0, 1.0, 1.0, 1.0, 1.0, 1.0, 1.0, 1.0, 1.0, 1.0, 1.0, 1.0, 1.0, 1.0, 1.0, 1.0, 1.0, 1.0, 1.0, 1.0, 1.0, 1.0, 1.0, 1.0, 1.0, 1.0, 1.0, 1.0, 1.0, 1.0, 1.0, 1.0, 1.0, 1.0, 1.0, 1.0, 1.0, 1.0, 1.0, 1.0, 1.0, 1.0, 1.0, 1.0, 1.0, 1.0, 1.0, 1.0, 1.0, 1.0, 1.0, 1.0, 1.0, 1.0, 1.0, 1.0, 1.0, 1.0, 1.0]\n"
     ]
    }
   ],
   "source": [
    "print(history.history['acc'])"
   ]
  },
  {
   "cell_type": "code",
   "execution_count": 17,
   "metadata": {},
   "outputs": [
    {
     "data": {
      "image/png": "[encoded data removed]",
      "text/plain": [
       "<Figure size 432x288 with 1 Axes>"
      ]
     },
     "metadata": {
      "needs_background": "light"
     },
     "output_type": "display_data"
    }
   ],
   "source": [
    "plt.plot(history.history['loss'])\n",
    "plt.show()"
   ]
  }
 ],
 "metadata": {
  "kernelspec": {
   "display_name": "Python 3",
   "language": "python",
   "name": "python3"
  },
  "language_info": {
   "codemirror_mode": {
    "name": "ipython",
    "version": 3
   },
   "file_extension": ".py",
   "mimetype": "text/x-python",
   "name": "python",
   "nbconvert_exporter": "python",
   "pygments_lexer": "ipython3",
   "version": "3.7.3"
  }
 },
 "nbformat": 4,
 "nbformat_minor": 2
}
