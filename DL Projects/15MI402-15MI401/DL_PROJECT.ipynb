{
  "nbformat": 4,
  "nbformat_minor": 0,
  "metadata": {
    "colab": {
      "name": "DL_PROJECT.ipynb",
      "provenance": [],
      "collapsed_sections": []
    },
    "kernelspec": {
      "name": "python3",
      "display_name": "Python 3"
    },
    "accelerator": "GPU"
  },
  "cells": [
    {
      "cell_type": "code",
      "metadata": {
        "id": "-mmpu99ktLr3",
        "colab_type": "code",
        "colab": {}
      },
      "source": [
        "from keras import backend as K\n",
        "from keras.models import Model\n",
        "from keras.engine.input_layer import Input\n",
        "from keras.layers.core import Activation, Dense\n",
        "from keras.layers import Flatten, Reshape\n",
        "from keras.layers.convolutional import Conv1D\n",
        "from keras.layers.merge import concatenate\n",
        "from keras.optimizers import Adam, RMSprop"
      ],
      "execution_count": 0,
      "outputs": []
    },
    {
      "cell_type": "markdown",
      "metadata": {
        "id": "ISQnbqi78Sw1",
        "colab_type": "text"
      },
      "source": [
        "In this scenario:\n",
        "*   Alice is the encryption algorithm\n",
        "*   Bob is the decryption algorithm\n",
        "*   Eve is the attacker\n",
        "\n",
        " We will use 16-bit messages,secret keys and ciphertexts.\n",
        "\n",
        "\n"
      ]
    },
    {
      "cell_type": "code",
      "metadata": {
        "id": "Dh10MH4ntPUt",
        "colab_type": "code",
        "colab": {}
      },
      "source": [
        "# Set the crypto parameters: message, key, and ciphertext bit lengths\n",
        "m_bits = 16\n",
        "k_bits = 16\n",
        "c_bits = 16\n",
        "pad = 'same'\n",
        "\n",
        "# Compute the size of the message space\n",
        "m_train = 2**(m_bits) #+ k_bits)"
      ],
      "execution_count": 0,
      "outputs": []
    },
    {
      "cell_type": "markdown",
      "metadata": {
        "id": "xb0Jr4M_9U1F",
        "colab_type": "text"
      },
      "source": [
        "The Alice network will need to have two input vectors: the message to be encrypted, and the secret key. These get concatenated and fed to a dense layer. The signal is then passed through a sequence of four Conv1D layers to create the output."
      ]
    },
    {
      "cell_type": "code",
      "metadata": {
        "id": "3zHgbov9tYB0",
        "colab_type": "code",
        "colab": {}
      },
      "source": [
        "ainput0 = Input(shape=(m_bits,)) # the message\n",
        "ainput1 = Input(shape=(k_bits,)) # the key\n",
        "ainput = concatenate([ainput0, ainput1], axis=1)\n",
        "\n",
        "adense1 = Dense(units=(m_bits + k_bits))(ainput)\n",
        "adense1a = Activation('tanh')(adense1)\n",
        "areshape = Reshape((m_bits + k_bits, 1,))(adense1a)\n",
        "#output of the Dense layer will be 2-dimensional. This needs to be reshaped to (batch_size, m_bits + k_bits, 1) before being fed to a Conv1D layer, introducing a third dimension which would normally correspond to the number of channels \n",
        "\n",
        "aconv1 = Conv1D(filters=2, kernel_size=4, strides=1, padding=pad)(areshape)\n",
        "aconv1a = Activation('tanh')(aconv1)\n",
        "aconv2 = Conv1D(filters=4, kernel_size=2, strides=2, padding=pad)(aconv1a)\n",
        "aconv2a = Activation('tanh')(aconv2)\n",
        "aconv3 = Conv1D(filters=4, kernel_size=1, strides=1, padding=pad)(aconv2a)\n",
        "aconv3a = Activation('tanh')(aconv3)\n",
        "aconv4 = Conv1D(filters=1, kernel_size=1, strides=1, padding=pad)(aconv3a)\n",
        "aconv4a = Activation('sigmoid')(aconv4)\n",
        "\n",
        "aoutput = Flatten()(aconv4a)\n",
        "\n",
        "alice = Model([ainput0, ainput1], aoutput, name='alice')"
      ],
      "execution_count": 0,
      "outputs": []
    },
    {
      "cell_type": "markdown",
      "metadata": {
        "id": "UOPVw4Ya-KA6",
        "colab_type": "text"
      },
      "source": [
        "The Eve network will have Two dense layers acting on the inputs. The idea is to give it a better chance at decrypting the message, since it doesn’t have access to the secret key - it only sees the ciphertext."
      ]
    },
    {
      "cell_type": "code",
      "metadata": {
        "id": "_o7x9GZEtmVb",
        "colab_type": "code",
        "colab": {}
      },
      "source": [
        "einput = Input(shape=(c_bits,)) # the ciphertext \n",
        "\n",
        "edense1 = Dense(units=(c_bits + k_bits))(einput)\n",
        "edense1a = Activation('tanh')(edense1)\n",
        "edense2 = Dense(units=(c_bits + k_bits))(edense1a)\n",
        "edense2a = Activation('tanh')(edense2)\n",
        "ereshape = Reshape((c_bits + k_bits, 1,))(edense2a)\n",
        "\n",
        "econv1 = Conv1D(filters=2, kernel_size=4, strides=1, padding=pad)(ereshape)\n",
        "econv1a = Activation('tanh')(econv1)\n",
        "econv2 = Conv1D(filters=4, kernel_size=2, strides=2, padding=pad)(econv1a)\n",
        "econv2a = Activation('tanh')(econv2)\n",
        "econv3 = Conv1D(filters=4, kernel_size=1, strides=1, padding=pad)(econv2a)\n",
        "econv3a = Activation('tanh')(econv3)\n",
        "econv4 = Conv1D(filters=1, kernel_size=1, strides=1, padding=pad)(econv3a)\n",
        "econv4a = Activation('sigmoid')(econv4)\n",
        "\n",
        "eoutput = Flatten()(econv4a)# Eve's attempt at guessing the plaintext\n",
        "\n",
        "eve = Model(einput, eoutput, name='eve')"
      ],
      "execution_count": 0,
      "outputs": []
    },
    {
      "cell_type": "markdown",
      "metadata": {
        "id": "JYozgFxj-gTt",
        "colab_type": "text"
      },
      "source": [
        "Bob's network is identical to Alice’s, except input0 now represents the ciphertext instead of the plaintext."
      ]
    },
    {
      "cell_type": "code",
      "metadata": {
        "id": "NzIjzDJKtykF",
        "colab_type": "code",
        "colab": {}
      },
      "source": [
        "binput0 = Input(shape=(c_bits,)) #message\n",
        "binput1 = Input(shape=(k_bits,)) #key\n",
        "binput = concatenate([binput0, binput1], axis=1)\n",
        "\n",
        "bdense1 = Dense(units=(c_bits + k_bits))(binput)\n",
        "bdense1b = Activation('tanh')(bdense1)\n",
        "breshape = Reshape((c_bits + k_bits, 1,))(bdense1b)\n",
        "\n",
        "bconv1 = Conv1D(filters=2, kernel_size=4, strides=1, padding=pad)(breshape)\n",
        "bconv1b = Activation('tanh')(bconv1)\n",
        "bconv2 = Conv1D(filters=4, kernel_size=2, strides=2, padding=pad)(bconv1b)\n",
        "bconv2b = Activation('tanh')(bconv2)\n",
        "bconv3 = Conv1D(filters=4, kernel_size=1, strides=1, padding=pad)(bconv2b)\n",
        "bconv3b = Activation('tanh')(bconv3)\n",
        "bconv4 = Conv1D(filters=1, kernel_size=1, strides=1, padding=pad)(bconv3b)\n",
        "bconv4b = Activation('sigmoid')(bconv4)\n",
        "\n",
        "boutput = Flatten()(bconv4b)\n",
        "\n",
        "bob = Model([binput0, binput1], boutput, name='bob')"
      ],
      "execution_count": 0,
      "outputs": []
    },
    {
      "cell_type": "code",
      "metadata": {
        "id": "s7HBBbc0t1ww",
        "colab_type": "code",
        "colab": {}
      },
      "source": [
        "aliceout = alice([ainput0, ainput1])\n",
        "bobout = bob( [aliceout, binput1] )# bob sees ciphertext AND key\n",
        "eveout = eve( aliceout )# eve doesn't see the key"
      ],
      "execution_count": 0,
      "outputs": []
    },
    {
      "cell_type": "markdown",
      "metadata": {
        "id": "kRl-d3Dr_mXb",
        "colab_type": "text"
      },
      "source": [
        "The loss for Eve is just the L1 distance between ainput0 and eoutput.\n",
        "Instead of doing an average, sum is taken over all the bits in the message, and its value represents the average number of bits Eve guesses incorrectly. We then take the average across the entire mini-batch with K.mean(). The minimum value of the loss is 0 (Eve guesses all the bits correctly), while the maximum is 16 (Eve is wrong about all the bits)."
      ]
    },
    {
      "cell_type": "code",
      "metadata": {
        "id": "ewFq3tsMxe9M",
        "colab_type": "code",
        "colab": {}
      },
      "source": [
        "eveloss = K.mean(  K.sum(K.abs(ainput0 - eveout), axis=-1)  )"
      ],
      "execution_count": 0,
      "outputs": []
    },
    {
      "cell_type": "markdown",
      "metadata": {
        "id": "0jIMpkWDCIeY",
        "colab_type": "text"
      },
      "source": [
        "First, we want Bob to successfully decrypt the ciphertext."
      ]
    },
    {
      "cell_type": "code",
      "metadata": {
        "id": "_86OksrqxjK1",
        "colab_type": "code",
        "colab": {}
      },
      "source": [
        "bobloss = K.mean(  K.sum(K.abs(ainput0 - bobout), axis=-1)  )"
      ],
      "execution_count": 0,
      "outputs": []
    },
    {
      "cell_type": "markdown",
      "metadata": {
        "id": "y4X0SQKsCLXo",
        "colab_type": "text"
      },
      "source": [
        "Alice to learn an encryption scheme which Eve can’t break. In an ideal situation, Eve should do random guessing, in which case she would correctly guess half the bits, or m_bits/2 correctly (corresponding to a loss value of 8)."
      ]
    },
    {
      "cell_type": "code",
      "metadata": {
        "id": "dnnLBEAtxnLG",
        "colab_type": "code",
        "outputId": "e7251d34-703c-4bf3-f51c-efbdfd9e7ac1",
        "colab": {
          "base_uri": "https://localhost:8080/",
          "height": 34
        }
      },
      "source": [
        "K.square(m_bits/2 - eveloss)/( (m_bits//2)**2 )"
      ],
      "execution_count": 0,
      "outputs": [
        {
          "output_type": "execute_result",
          "data": {
            "text/plain": [
              "<tf.Tensor 'truediv_3:0' shape=() dtype=float32>"
            ]
          },
          "metadata": {
            "tags": []
          },
          "execution_count": 33
        }
      ]
    },
    {
      "cell_type": "markdown",
      "metadata": {
        "id": "FQNe_XDFCjCW",
        "colab_type": "text"
      },
      "source": [
        "The square term ensures the error grows large when Eve starts to guess a few of the bits correctly. This forces Alice to adapt more rapidly to attackers, and change its encryption scheme. Overall the Alice-Bob loss will be:"
      ]
    },
    {
      "cell_type": "code",
      "metadata": {
        "id": "5IYGGWw5xqwm",
        "colab_type": "code",
        "colab": {}
      },
      "source": [
        "abeloss = bobloss + K.square(m_bits/2 - eveloss)/( (m_bits//2)**2 )"
      ],
      "execution_count": 0,
      "outputs": []
    },
    {
      "cell_type": "markdown",
      "metadata": {
        "id": "oO5GHZO2Cuhv",
        "colab_type": "text"
      },
      "source": [
        "As per optimizer, we use RMSprop with a default learning rate of 0.001"
      ]
    },
    {
      "cell_type": "code",
      "metadata": {
        "id": "_DfwVKdNxvdB",
        "colab_type": "code",
        "colab": {}
      },
      "source": [
        "abeoptim = RMSprop(lr=0.001)\n",
        "eveoptim = RMSprop(lr=0.001) #default 0.001"
      ],
      "execution_count": 0,
      "outputs": []
    },
    {
      "cell_type": "markdown",
      "metadata": {
        "id": "4rv0y_mSC0ND",
        "colab_type": "text"
      },
      "source": [
        "Finally, we create two training models with the loss functions defined earlier"
      ]
    },
    {
      "cell_type": "code",
      "metadata": {
        "id": "kVc5DICgxy4V",
        "colab_type": "code",
        "colab": {}
      },
      "source": [
        "# Build and compile the ABE model, used for training Alice-Bob networks\n",
        "\n",
        "abemodel = Model([ainput0, ainput1, binput1], bobout, name='abemodel')\n",
        "abemodel.add_loss(abeloss)\n",
        "abemodel.compile(optimizer=abeoptim)\n",
        "\n",
        "# Build and compile the Eve model, used for training Eve net (with Alice not there)\n",
        "#\n",
        "alice.trainable = False\n",
        "evemodel = Model([ainput0, ainput1], eveout, name='evemodel')\n",
        "evemodel.add_loss(eveloss)\n",
        "evemodel.compile(optimizer=eveoptim)"
      ],
      "execution_count": 0,
      "outputs": []
    },
    {
      "cell_type": "markdown",
      "metadata": {
        "id": "BCtkc6g5DOMm",
        "colab_type": "text"
      },
      "source": [
        "Training"
      ]
    },
    {
      "cell_type": "code",
      "metadata": {
        "id": "Ak3PqRbhx2ei",
        "colab_type": "code",
        "colab": {}
      },
      "source": [
        "abelosses = []\n",
        "boblosses = []\n",
        "evelosses = []\n",
        "import sys"
      ],
      "execution_count": 0,
      "outputs": []
    },
    {
      "cell_type": "code",
      "metadata": {
        "id": "gx_rC4SZyElU",
        "colab_type": "code",
        "outputId": "f4f35a7d-ed94-4b95-ab02-f61ca8802869",
        "colab": {
          "base_uri": "https://localhost:8080/",
          "height": 391
        }
      },
      "source": [
        "n_epochs = 20\n",
        "batch_size = 512\n",
        "n_batches = m_train // batch_size\n",
        "\n",
        "abecycles = 1\n",
        "evecycles = 2\n",
        "\n",
        "epoch = 0\n",
        "print(\"Training for\", n_epochs, \"epochs with\", n_batches, \"batches of size\", batch_size)\n",
        "while epoch < n_epochs:\n",
        "    abelosses0 = []\n",
        "    boblosses0 = []\n",
        "    evelosses0 = []\n",
        "    for iteration in range(n_batches):\n",
        "        \n",
        "        # Train the A-B+E network\n",
        "        #\n",
        "        alice.trainable = True\n",
        "        for cycle in range(abecycles):\n",
        "            # Select a random batch of messages, and a random batch of keys\n",
        "            #\n",
        "            m_batch = np.random.randint(0, 2, m_bits * batch_size).reshape(batch_size, m_bits)\n",
        "            k_batch = np.random.randint(0, 2, k_bits * batch_size).reshape(batch_size, k_bits)\n",
        "            loss = abemodel.train_on_batch([m_batch, k_batch, k_batch], None)\n",
        "        \n",
        "        abelosses0.append(loss)\n",
        "        abelosses.append(loss)\n",
        "        abeavg = np.mean(abelosses0)\n",
        "            \n",
        "        # Evaluate Bob's ability to decrypt a message\n",
        "        m_enc = alice.predict([m_batch, k_batch])\n",
        "        m_dec = bob.predict([m_enc, k_batch])\n",
        "        loss = np.mean(  np.sum( np.abs(m_batch - m_dec), axis=-1)  )\n",
        "        boblosses0.append(loss)\n",
        "        boblosses.append(loss)\n",
        "        bobavg = np.mean(boblosses0)\n",
        "        \n",
        "        # Train the EVE network\n",
        "        #\n",
        "        alice.trainable = False\n",
        "        for cycle in range(evecycles):\n",
        "            m_batch = np.random.randint(0, 2, m_bits * batch_size).reshape(batch_size, m_bits)\n",
        "            k_batch = np.random.randint(0, 2, k_bits * batch_size).reshape(batch_size, k_bits)\n",
        "            loss = evemodel.train_on_batch([m_batch, k_batch], None)\n",
        "        evelosses0.append(loss)\n",
        "        evelosses.append(loss)\n",
        "        eveavg = np.mean(evelosses0)\n",
        "        \n",
        "        if iteration % max(1, (n_batches // 100)) == 0:\n",
        "            print(\"\\rEpoch {:3}: {:3}% | abe: {:2.3f} | eve: {:2.3f} | bob: {:2.3f}\".format(\n",
        "                epoch, 100 * iteration // n_batches, abeavg, eveavg, bobavg), end=\"\")\n",
        "            sys.stdout.flush()\n",
        "    \n",
        "    print()\n",
        "    epoch += 1\n",
        "    \n",
        "print('Training finished.')"
      ],
      "execution_count": 0,
      "outputs": [
        {
          "output_type": "stream",
          "text": [
            "Training for 20 epochs with 128 batches of size 512\n",
            "Epoch   0:  99% | abe: 7.836 | eve: 6.990 | bob: 7.798\n",
            "Epoch   1:  99% | abe: 6.369 | eve: 3.991 | bob: 6.086\n",
            "Epoch   2:  99% | abe: 4.633 | eve: 2.881 | bob: 4.190\n",
            "Epoch   3:  99% | abe: 3.401 | eve: 2.155 | bob: 2.830\n",
            "Epoch   4:  99% | abe: 2.445 | eve: 1.673 | bob: 1.785\n",
            "Epoch   5:  99% | abe: 1.802 | eve: 1.602 | bob: 1.134\n",
            "Epoch   6:  99% | abe: 1.374 | eve: 1.720 | bob: 0.732\n",
            "Epoch   7:  99% | abe: 1.014 | eve: 1.864 | bob: 0.406\n",
            "Epoch   8:  99% | abe: 0.766 | eve: 2.186 | bob: 0.222\n",
            "Epoch   9:  99% | abe: 0.621 | eve: 2.576 | bob: 0.148\n",
            "Epoch  10:  99% | abe: 0.518 | eve: 2.977 | bob: 0.109\n",
            "Epoch  11:  99% | abe: 0.447 | eve: 3.301 | bob: 0.091\n",
            "Epoch  12:  99% | abe: 0.391 | eve: 3.581 | bob: 0.079\n",
            "Epoch  13:  99% | abe: 0.361 | eve: 3.800 | bob: 0.077\n",
            "Epoch  14:  99% | abe: 0.330 | eve: 3.995 | bob: 0.071\n",
            "Epoch  15:  99% | abe: 0.309 | eve: 4.141 | bob: 0.071\n",
            "Epoch  16:  99% | abe: 0.301 | eve: 4.228 | bob: 0.073\n",
            "Epoch  17:  99% | abe: 0.287 | eve: 4.337 | bob: 0.072\n",
            "Epoch  18:  99% | abe: 0.275 | eve: 4.440 | bob: 0.070\n",
            "Epoch  19:  99% | abe: 0.275 | eve: 4.513 | bob: 0.082\n",
            "Training finished.\n"
          ],
          "name": "stdout"
        }
      ]
    },
    {
      "cell_type": "code",
      "metadata": {
        "id": "dxBKfyJNzCXH",
        "colab_type": "code",
        "outputId": "8ad7d41e-4e21-4ddd-e3db-422c5a6528b3",
        "colab": {
          "base_uri": "https://localhost:8080/",
          "height": 282
        }
      },
      "source": [
        "#Plotting\n",
        "steps = -1\n",
        "\n",
        "plt.figure(figsize=(7, 4))\n",
        "plt.plot(abelosses[:steps], label='A-B')\n",
        "plt.plot(evelosses[:steps], label='Eve')\n",
        "plt.plot(boblosses[:steps], label='Bob')\n",
        "plt.xlabel(\"Iterations\", fontsize=13)\n",
        "plt.ylabel(\"Loss\", fontsize=13)\n",
        "plt.legend(fontsize=13)\n",
        "plt.show()"
      ],
      "execution_count": 0,
      "outputs": [
        {
          "output_type": "display_data",
          "data": {
            "image/png": "[encoded data removed]",
            "text/plain": [
              "<Figure size 504x288 with 1 Axes>"
            ]
          },
          "metadata": {
            "tags": []
          }
        }
      ]
    },
    {
      "cell_type": "markdown",
      "metadata": {
        "id": "BHV1EbYsDp1K",
        "colab_type": "text"
      },
      "source": [
        "Evaluation"
      ]
    },
    {
      "cell_type": "code",
      "metadata": {
        "id": "iIsVia-nzrk_",
        "colab_type": "code",
        "outputId": "07db73e7-bf5a-4ea1-d372-ab30cc60b7ad",
        "colab": {
          "base_uri": "https://localhost:8080/",
          "height": 51
        }
      },
      "source": [
        "n_examples = 10000\n",
        "\n",
        "m_batch = np.random.randint(0, 2, m_bits * n_examples).reshape(n_examples, m_bits)\n",
        "k_batch = np.random.randint(0, 2, m_bits * n_examples).reshape(n_examples, m_bits)\n",
        "\n",
        "m_enc = alice.predict([m_batch, k_batch])\n",
        "m_dec = (bob.predict([m_enc, k_batch]) > 0.5).astype(int)\n",
        "m_att = (eve.predict(m_enc) > 0.5).astype(int)\n",
        "\n",
        "bdiff = np.abs(m_batch - m_dec)\n",
        "bsum = np.sum(bdiff, axis=-1)\n",
        "ediff = np.abs(m_batch - m_att)\n",
        "esum = np.sum(ediff, axis=-1)\n",
        "\n",
        "print(\"Bob % correct: \", 100.0*np.sum(bsum == 0) / n_examples, '%')\n",
        "print(\"Eve % correct: \", 100.0*np.sum(esum == 0) / n_examples, '%')"
      ],
      "execution_count": 0,
      "outputs": [
        {
          "output_type": "stream",
          "text": [
            "Bob % correct:  92.16 %\n",
            "Eve % correct:  0.38 %\n"
          ],
          "name": "stdout"
        }
      ]
    },
    {
      "cell_type": "code",
      "metadata": {
        "id": "ktePzQKDDm-y",
        "colab_type": "code",
        "colab": {}
      },
      "source": [
        ""
      ],
      "execution_count": 0,
      "outputs": []
    }
  ]
}