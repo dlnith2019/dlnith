{
  "nbformat": 4,
  "nbformat_minor": 0,
  "metadata": {
    "colab": {
      "name": "Estimation of MOS current-AshishVerma[15MI423]Vivek[15MI424].ipynb",
      "provenance": [],
      "collapsed_sections": [
        "JndnmDMp66FL",
        "ajVM7rkoYXeL",
        "ci1ISxxrZ7v0"
      ],
      "toc_visible": true
    },
    "kernelspec": {
      "name": "python3",
      "display_name": "Python 3"
    }
  },
  "cells": [
    {
      "cell_type": "markdown",
      "metadata": {
        "id": "JndnmDMp66FL",
        "colab_type": "text"
      },
      "source": [
        "#### Estimation of Current in MOSFET using Machine Learning.-Ashish Verma[15MI423],Vivek Thakur[15MI424]"
      ]
    },
    {
      "cell_type": "markdown",
      "metadata": {
        "id": "Bd2Zkk1LE2Zr",
        "colab_type": "text"
      },
      "source": [
        "\n",
        "  \n",
        "  * Use the `LinearRegressor` class in TensorFlow to predict current(Ids) based on one input feature\n",
        "  * Evaluate the accuracy of a model's predictions using Root Mean Squared Error (RMSE)\n",
        "  * Improve the accuracy of a model by tuning its hyperparameters"
      ]
    },
    {
      "cell_type": "markdown",
      "metadata": {
        "id": "6TjLjL9IU80G",
        "colab_type": "text"
      },
      "source": [
        "## Setup\n"
      ]
    },
    {
      "cell_type": "code",
      "metadata": {
        "id": "rVFf5asKE2Zt",
        "colab_type": "code",
        "colab": {}
      },
      "source": [
        "from __future__ import print_function\n",
        "\n",
        "import math\n",
        "\n",
        "from IPython import display\n",
        "from matplotlib import cm\n",
        "from matplotlib import gridspec\n",
        "from matplotlib import pyplot as plt\n",
        "import numpy as np\n",
        "import pandas as pd\n",
        "from sklearn import metrics\n",
        "%tensorflow_version 1.x\n",
        "import tensorflow as tf\n",
        "from tensorflow.python.data import Dataset\n",
        "\n",
        "tf.logging.set_verbosity(tf.logging.ERROR)\n",
        "pd.options.display.max_rows = 10 #Not showing whole of dataset only first 10 rows\n",
        "pd.options.display.float_format = '{:.1f}'.format"
      ],
      "execution_count": 0,
      "outputs": []
    },
    {
      "cell_type": "markdown",
      "metadata": {
        "id": "ipRyUHjhU80Q",
        "colab_type": "text"
      },
      "source": [
        "Next, we'll load our data set. The dataset is to uplode \n",
        "##Data is uploaded manually by right clicking on directory tree given on the left side of colab"
      ]
    },
    {
      "cell_type": "code",
      "metadata": {
        "id": "f-FEzYkU0Z75",
        "colab_type": "code",
        "colab": {}
      },
      "source": [
        "MosDataframe = pd.read_csv(\"/content/mosfetCurrent.csv\", sep=\",\")"
      ],
      "execution_count": 0,
      "outputs": []
    },
    {
      "cell_type": "markdown",
      "metadata": {
        "id": "vVk_qlG6U80j",
        "colab_type": "text"
      },
      "source": [
        "We' randomize the data, just to be sure not to get any pathological ordering effects that might harm the performance of Stochastic Gradient Descent. Additionally, we'll scale `Current(Ids)` to be in units of thousands, so it can be learned a little more easily with learning rates in a range that we usually use."
      ]
    },
    {
      "cell_type": "code",
      "metadata": {
        "id": "r0eVyguIU80m",
        "colab_type": "code",
        "outputId": "5281b9d0-ce03-494b-8d70-6d15ba8d57f0",
        "colab": {
          "base_uri": "https://localhost:8080/",
          "height": 473
        }
      },
      "source": [
        "MosDataframe = MosDataframe.reindex(\n",
        "    np.random.permutation(MosDataframe.index))\n",
        "MosDataframe[\"Ids\"] /= 1000.0\n",
        "MosDataframe"
      ],
      "execution_count": 23,
      "outputs": [
        {
          "output_type": "execute_result",
          "data": {
            "text/html": [
              "<div>\n",
              "<style scoped>\n",
              "    .dataframe tbody tr th:only-of-type {\n",
              "        vertical-align: middle;\n",
              "    }\n",
              "\n",
              "    .dataframe tbody tr th {\n",
              "        vertical-align: top;\n",
              "    }\n",
              "\n",
              "    .dataframe thead th {\n",
              "        text-align: right;\n",
              "    }\n",
              "</style>\n",
              "<table border=\"1\" class=\"dataframe\">\n",
              "  <thead>\n",
              "    <tr style=\"text-align: right;\">\n",
              "      <th></th>\n",
              "      <th>Z(width of tx)[nm]</th>\n",
              "      <th>L(Gate length-nm)</th>\n",
              "      <th>e-mobility(u)</th>\n",
              "      <th>Cox(Gate Cap)</th>\n",
              "      <th>Tox</th>\n",
              "      <th>Eox</th>\n",
              "      <th>Na</th>\n",
              "      <th>Ni</th>\n",
              "      <th>T</th>\n",
              "      <th>Vfb</th>\n",
              "      <th>lamda</th>\n",
              "      <th>Vgs</th>\n",
              "      <th>Vds</th>\n",
              "      <th>Ids</th>\n",
              "    </tr>\n",
              "  </thead>\n",
              "  <tbody>\n",
              "    <tr>\n",
              "      <th>6</th>\n",
              "      <td>76*10^(-9)</td>\n",
              "      <td>15*10^(-9)</td>\n",
              "      <td>960</td>\n",
              "      <td>70^(-9)</td>\n",
              "      <td>9*10^(-9)</td>\n",
              "      <td>3.7</td>\n",
              "      <td>9*10^15</td>\n",
              "      <td>1.60*10^10</td>\n",
              "      <td>306</td>\n",
              "      <td>31*10^(-3)</td>\n",
              "      <td>0.1</td>\n",
              "      <td>3.6</td>\n",
              "      <td>1.8</td>\n",
              "      <td>0.0</td>\n",
              "    </tr>\n",
              "    <tr>\n",
              "      <th>19</th>\n",
              "      <td>89*10^(-9)</td>\n",
              "      <td>28*10^(-9)</td>\n",
              "      <td>1090</td>\n",
              "      <td>200^(-9)</td>\n",
              "      <td>22*10^(-9)</td>\n",
              "      <td>5.0</td>\n",
              "      <td>5.6*10^15</td>\n",
              "      <td>2.90*10^10</td>\n",
              "      <td>319</td>\n",
              "      <td>44*10^(-3)</td>\n",
              "      <td>0.2</td>\n",
              "      <td>4.9</td>\n",
              "      <td>2.5</td>\n",
              "      <td>0.0</td>\n",
              "    </tr>\n",
              "    <tr>\n",
              "      <th>15</th>\n",
              "      <td>85*10^(-9)</td>\n",
              "      <td>24*10^(-9)</td>\n",
              "      <td>1050</td>\n",
              "      <td>160^(-9)</td>\n",
              "      <td>18*10^(-9)</td>\n",
              "      <td>4.6</td>\n",
              "      <td>5.1*10^15</td>\n",
              "      <td>2.50*10^10</td>\n",
              "      <td>315</td>\n",
              "      <td>40*10^(-3)</td>\n",
              "      <td>0.2</td>\n",
              "      <td>4.5</td>\n",
              "      <td>1.5</td>\n",
              "      <td>0.0</td>\n",
              "    </tr>\n",
              "    <tr>\n",
              "      <th>22</th>\n",
              "      <td>92*10^(-9)</td>\n",
              "      <td>31*10^(-9)</td>\n",
              "      <td>1120</td>\n",
              "      <td>230^(-9)</td>\n",
              "      <td>25*10^(-9)</td>\n",
              "      <td>5.2</td>\n",
              "      <td>6*10^15</td>\n",
              "      <td>3.20*10^10</td>\n",
              "      <td>322</td>\n",
              "      <td>47*10^(-3)</td>\n",
              "      <td>0.3</td>\n",
              "      <td>5.2</td>\n",
              "      <td>3.2</td>\n",
              "      <td>0.0</td>\n",
              "    </tr>\n",
              "    <tr>\n",
              "      <th>13</th>\n",
              "      <td>83*10^(-9)</td>\n",
              "      <td>22*10^(-9)</td>\n",
              "      <td>1030</td>\n",
              "      <td>140^(-9)</td>\n",
              "      <td>16*10^(-9)</td>\n",
              "      <td>4.4</td>\n",
              "      <td>4.7*10^15</td>\n",
              "      <td>2.30*10^10</td>\n",
              "      <td>313</td>\n",
              "      <td>38*10^(-3)</td>\n",
              "      <td>0.2</td>\n",
              "      <td>4.3</td>\n",
              "      <td>1.0</td>\n",
              "      <td>0.0</td>\n",
              "    </tr>\n",
              "    <tr>\n",
              "      <th>...</th>\n",
              "      <td>...</td>\n",
              "      <td>...</td>\n",
              "      <td>...</td>\n",
              "      <td>...</td>\n",
              "      <td>...</td>\n",
              "      <td>...</td>\n",
              "      <td>...</td>\n",
              "      <td>...</td>\n",
              "      <td>...</td>\n",
              "      <td>...</td>\n",
              "      <td>...</td>\n",
              "      <td>...</td>\n",
              "      <td>...</td>\n",
              "      <td>...</td>\n",
              "    </tr>\n",
              "    <tr>\n",
              "      <th>23</th>\n",
              "      <td>93*10^(-9)</td>\n",
              "      <td>32*10^(-9)</td>\n",
              "      <td>1130</td>\n",
              "      <td>240^(-9)</td>\n",
              "      <td>26*10^(-9)</td>\n",
              "      <td>5.3</td>\n",
              "      <td>6.2*10^15</td>\n",
              "      <td>3.3.*10^10</td>\n",
              "      <td>323</td>\n",
              "      <td>48*10^(-3)</td>\n",
              "      <td>0.3</td>\n",
              "      <td>5.3</td>\n",
              "      <td>3.2</td>\n",
              "      <td>0.0</td>\n",
              "    </tr>\n",
              "    <tr>\n",
              "      <th>14</th>\n",
              "      <td>84*10^(-9)</td>\n",
              "      <td>23*10^(-9)</td>\n",
              "      <td>1040</td>\n",
              "      <td>150^(-9)</td>\n",
              "      <td>17*10^(-9)</td>\n",
              "      <td>4.5</td>\n",
              "      <td>4.8*10^15</td>\n",
              "      <td>2.40*10^10</td>\n",
              "      <td>314</td>\n",
              "      <td>39*10^(-3)</td>\n",
              "      <td>0.2</td>\n",
              "      <td>4.4</td>\n",
              "      <td>1.2</td>\n",
              "      <td>0.0</td>\n",
              "    </tr>\n",
              "    <tr>\n",
              "      <th>11</th>\n",
              "      <td>81*10^(-9)</td>\n",
              "      <td>20*10^(-9)</td>\n",
              "      <td>1110</td>\n",
              "      <td>120^(-9)</td>\n",
              "      <td>14*10^(-9)</td>\n",
              "      <td>4.2</td>\n",
              "      <td>4.5*10^15</td>\n",
              "      <td>2.10*10^10</td>\n",
              "      <td>311</td>\n",
              "      <td>36*10^(-3)</td>\n",
              "      <td>0.2</td>\n",
              "      <td>4.1</td>\n",
              "      <td>0.5</td>\n",
              "      <td>0.0</td>\n",
              "    </tr>\n",
              "    <tr>\n",
              "      <th>5</th>\n",
              "      <td>75*10^(-9)</td>\n",
              "      <td>14*10^(-9)</td>\n",
              "      <td>950</td>\n",
              "      <td>60^(-9)</td>\n",
              "      <td>8*10^(-9)</td>\n",
              "      <td>3.6</td>\n",
              "      <td>8*10^15</td>\n",
              "      <td>1.50*10^10</td>\n",
              "      <td>305</td>\n",
              "      <td>30*10^(-3)</td>\n",
              "      <td>0.1</td>\n",
              "      <td>3.5</td>\n",
              "      <td>1.5</td>\n",
              "      <td>0.0</td>\n",
              "    </tr>\n",
              "    <tr>\n",
              "      <th>10</th>\n",
              "      <td>80*10^(-9)</td>\n",
              "      <td>19*10^(-9)</td>\n",
              "      <td>1000</td>\n",
              "      <td>110^(-9)</td>\n",
              "      <td>13*10^(-9)</td>\n",
              "      <td>4.1</td>\n",
              "      <td>4.4*10^15</td>\n",
              "      <td>2*10^10</td>\n",
              "      <td>310</td>\n",
              "      <td>35*10^(-3)</td>\n",
              "      <td>0.2</td>\n",
              "      <td>4.0</td>\n",
              "      <td>0.2</td>\n",
              "      <td>0.0</td>\n",
              "    </tr>\n",
              "  </tbody>\n",
              "</table>\n",
              "<p>26 rows × 14 columns</p>\n",
              "</div>"
            ],
            "text/plain": [
              "   Z(width of tx)[nm] L(Gate length-nm)  e-mobility(u)  ... Vgs Vds  Ids\n",
              "6          76*10^(-9)        15*10^(-9)            960  ... 3.6 1.8  0.0\n",
              "19         89*10^(-9)        28*10^(-9)           1090  ... 4.9 2.5  0.0\n",
              "15         85*10^(-9)        24*10^(-9)           1050  ... 4.5 1.5  0.0\n",
              "22         92*10^(-9)        31*10^(-9)           1120  ... 5.2 3.2  0.0\n",
              "13         83*10^(-9)        22*10^(-9)           1030  ... 4.3 1.0  0.0\n",
              "..                ...               ...            ...  ...  ..  ..  ...\n",
              "23         93*10^(-9)        32*10^(-9)           1130  ... 5.3 3.2  0.0\n",
              "14         84*10^(-9)        23*10^(-9)           1040  ... 4.4 1.2  0.0\n",
              "11         81*10^(-9)        20*10^(-9)           1110  ... 4.1 0.5  0.0\n",
              "5          75*10^(-9)        14*10^(-9)            950  ... 3.5 1.5  0.0\n",
              "10         80*10^(-9)        19*10^(-9)           1000  ... 4.0 0.2  0.0\n",
              "\n",
              "[26 rows x 14 columns]"
            ]
          },
          "metadata": {
            "tags": []
          },
          "execution_count": 23
        }
      ]
    },
    {
      "cell_type": "code",
      "metadata": {
        "id": "gzb10yoVrydW",
        "colab_type": "code",
        "cellView": "both",
        "outputId": "02310186-04b4-4691-ab6a-5b92113c6f89",
        "colab": {
          "test": {
            "output": "ignore",
            "timeout": 600
          },
          "base_uri": "https://localhost:8080/",
          "height": 297
        }
      },
      "source": [
        "MosDataframe.describe()"
      ],
      "execution_count": 24,
      "outputs": [
        {
          "output_type": "execute_result",
          "data": {
            "text/html": [
              "<div>\n",
              "<style scoped>\n",
              "    .dataframe tbody tr th:only-of-type {\n",
              "        vertical-align: middle;\n",
              "    }\n",
              "\n",
              "    .dataframe tbody tr th {\n",
              "        vertical-align: top;\n",
              "    }\n",
              "\n",
              "    .dataframe thead th {\n",
              "        text-align: right;\n",
              "    }\n",
              "</style>\n",
              "<table border=\"1\" class=\"dataframe\">\n",
              "  <thead>\n",
              "    <tr style=\"text-align: right;\">\n",
              "      <th></th>\n",
              "      <th>e-mobility(u)</th>\n",
              "      <th>Eox</th>\n",
              "      <th>T</th>\n",
              "      <th>lamda</th>\n",
              "      <th>Vgs</th>\n",
              "      <th>Vds</th>\n",
              "      <th>Ids</th>\n",
              "    </tr>\n",
              "  </thead>\n",
              "  <tbody>\n",
              "    <tr>\n",
              "      <th>count</th>\n",
              "      <td>26.0</td>\n",
              "      <td>26.0</td>\n",
              "      <td>26.0</td>\n",
              "      <td>26.0</td>\n",
              "      <td>26.0</td>\n",
              "      <td>26.0</td>\n",
              "      <td>26.0</td>\n",
              "    </tr>\n",
              "    <tr>\n",
              "      <th>mean</th>\n",
              "      <td>1028.8</td>\n",
              "      <td>4.3</td>\n",
              "      <td>312.5</td>\n",
              "      <td>0.2</td>\n",
              "      <td>4.3</td>\n",
              "      <td>1.8</td>\n",
              "      <td>0.0</td>\n",
              "    </tr>\n",
              "    <tr>\n",
              "      <th>std</th>\n",
              "      <td>78.2</td>\n",
              "      <td>0.8</td>\n",
              "      <td>7.6</td>\n",
              "      <td>0.1</td>\n",
              "      <td>0.8</td>\n",
              "      <td>1.0</td>\n",
              "      <td>0.0</td>\n",
              "    </tr>\n",
              "    <tr>\n",
              "      <th>min</th>\n",
              "      <td>900.0</td>\n",
              "      <td>3.0</td>\n",
              "      <td>300.0</td>\n",
              "      <td>0.1</td>\n",
              "      <td>3.0</td>\n",
              "      <td>0.2</td>\n",
              "      <td>0.0</td>\n",
              "    </tr>\n",
              "    <tr>\n",
              "      <th>25%</th>\n",
              "      <td>962.5</td>\n",
              "      <td>3.7</td>\n",
              "      <td>306.2</td>\n",
              "      <td>0.1</td>\n",
              "      <td>3.6</td>\n",
              "      <td>1.0</td>\n",
              "      <td>0.0</td>\n",
              "    </tr>\n",
              "    <tr>\n",
              "      <th>50%</th>\n",
              "      <td>1035.0</td>\n",
              "      <td>4.3</td>\n",
              "      <td>312.5</td>\n",
              "      <td>0.2</td>\n",
              "      <td>4.2</td>\n",
              "      <td>1.8</td>\n",
              "      <td>0.0</td>\n",
              "    </tr>\n",
              "    <tr>\n",
              "      <th>75%</th>\n",
              "      <td>1097.5</td>\n",
              "      <td>5.0</td>\n",
              "      <td>318.8</td>\n",
              "      <td>0.2</td>\n",
              "      <td>4.9</td>\n",
              "      <td>2.5</td>\n",
              "      <td>0.0</td>\n",
              "    </tr>\n",
              "    <tr>\n",
              "      <th>max</th>\n",
              "      <td>1150.0</td>\n",
              "      <td>5.5</td>\n",
              "      <td>325.0</td>\n",
              "      <td>0.3</td>\n",
              "      <td>5.5</td>\n",
              "      <td>3.8</td>\n",
              "      <td>0.0</td>\n",
              "    </tr>\n",
              "  </tbody>\n",
              "</table>\n",
              "</div>"
            ],
            "text/plain": [
              "       e-mobility(u)  Eox     T  lamda  Vgs  Vds  Ids\n",
              "count           26.0 26.0  26.0   26.0 26.0 26.0 26.0\n",
              "mean          1028.8  4.3 312.5    0.2  4.3  1.8  0.0\n",
              "std             78.2  0.8   7.6    0.1  0.8  1.0  0.0\n",
              "min            900.0  3.0 300.0    0.1  3.0  0.2  0.0\n",
              "25%            962.5  3.7 306.2    0.1  3.6  1.0  0.0\n",
              "50%           1035.0  4.3 312.5    0.2  4.2  1.8  0.0\n",
              "75%           1097.5  5.0 318.8    0.2  4.9  2.5  0.0\n",
              "max           1150.0  5.5 325.0    0.3  5.5  3.8  0.0"
            ]
          },
          "metadata": {
            "tags": []
          },
          "execution_count": 24
        }
      ]
    },
    {
      "cell_type": "markdown",
      "metadata": {
        "id": "Lr6wYl2bt2Ep",
        "colab_type": "text"
      },
      "source": [
        "## Building the  Model\n",
        "\n",
        " we'll try to predict `Current(Ids)`, which will be our label . We'll use `Vds` as our input feature.\n",
        "\n",
        "\n",
        "\n",
        "To train our model, we'll use the LinearRegressor  provided by the TensorFlow Estimator API. "
      ]
    },
    {
      "cell_type": "markdown",
      "metadata": {
        "id": "0cpcsieFhsNI",
        "colab_type": "text"
      },
      "source": [
        "### Step 1: Define Features and Configure Feature Columns"
      ]
    },
    {
      "cell_type": "markdown",
      "metadata": {
        "id": "EL8-9d4ZJNR7",
        "colab_type": "text"
      },
      "source": [
        "In order to import our training data into TensorFlow, we need to specify what type of data each feature contains. \n",
        "\n",
        " we indicate a feature's data type using a construct called a feature column. Feature columns store only a description of the feature data; they do not contain the feature data itself.\n",
        " we're going to use just one numeric input feature, `Vds`. The following code pulls the `Vds` data from our `MosDataframe` and defines the feature column using `numeric_column`, which specifies its data is numeric:"
      ]
    },
    {
      "cell_type": "code",
      "metadata": {
        "id": "rhEbFCZ86cDZ",
        "colab_type": "code",
        "colab": {}
      },
      "source": [
        "# Define the input feature: Vds.\n",
        "my_feature = MosDataframe[[\"Vds\"]]\n",
        "\n",
        "# Configure a numeric feature column for Vds.\n",
        "feature_columns = [tf.feature_column.numeric_column(\"Vds\")]"
      ],
      "execution_count": 0,
      "outputs": []
    },
    {
      "cell_type": "markdown",
      "metadata": {
        "id": "cw4nrfcB7kyk",
        "colab_type": "text"
      },
      "source": [
        "Next, we'll define our target, which is `Current(Ids)`. Again, we can pull it from our `MosDataframe`:"
      ]
    },
    {
      "cell_type": "code",
      "metadata": {
        "id": "l1NvvNkH8Kbt",
        "colab_type": "code",
        "colab": {}
      },
      "source": [
        "# Define the label.\n",
        "targets = MosDataframe[\"Ids\"]"
      ],
      "execution_count": 0,
      "outputs": []
    },
    {
      "cell_type": "markdown",
      "metadata": {
        "id": "4M-rTFHL2UkA",
        "colab_type": "text"
      },
      "source": [
        "### Step 3: Configure the LinearRegressor"
      ]
    },
    {
      "cell_type": "markdown",
      "metadata": {
        "id": "fUfGQUNp7jdL",
        "colab_type": "text"
      },
      "source": [
        "Next, we'll configure a linear regression model using LinearRegressor. We'll train this model using the `GradientDescentOptimizer`, which implements Mini-Batch Stochastic Gradient Descent (SGD). The `learning_rate` argument controls the size of the gradient step.\n"
      ]
    },
    {
      "cell_type": "code",
      "metadata": {
        "id": "ubhtW-NGU802",
        "colab_type": "code",
        "colab": {}
      },
      "source": [
        "# Use gradient descent as the optimizer for training the model.\n",
        "my_optimizer=tf.train.GradientDescentOptimizer(learning_rate=0.0000001)\n",
        "my_optimizer = tf.contrib.estimator.clip_gradients_by_norm(my_optimizer, 5.0)\n",
        "\n",
        "# Configure the linear regression model with our feature columns and optimizer.\n",
        "# Set a learning rate of 0.0000001 for Gradient Descent.\n",
        "linear_regressor = tf.estimator.LinearRegressor(\n",
        "    feature_columns=feature_columns,\n",
        "    optimizer=my_optimizer\n",
        ")"
      ],
      "execution_count": 0,
      "outputs": []
    },
    {
      "cell_type": "markdown",
      "metadata": {
        "id": "-0IztwdK2f3F",
        "colab_type": "text"
      },
      "source": [
        "### Step 4: Define the Input Function"
      ]
    },
    {
      "cell_type": "markdown",
      "metadata": {
        "id": "S5M5j6xSCHxx",
        "colab_type": "text"
      },
      "source": [
        "To import our  data into our `LinearRegressor`, we need to define an input function, which instructs TensorFlow how to preprocess\n",
        "the data, as well as how to batch, shuffle, and repeat it during model training.\n",
        "\n",
        "First, we convert our *pandas* feature data into a dict of NumPy arrays. We  use the TensorFlow to construct a dataset object from our data, and then break\n",
        "our data into batches of `batch_size`, to be repeated for the specified number of epochs (num_epochs). \n",
        "\n",
        "\n",
        "Next, if `shuffle` is set to `True`, we'll shuffle the data so that it's passed to the model randomly during training. The `buffer_size` argument specifies\n",
        "the size of the dataset from which `shuffle` will randomly sample.\n",
        "\n",
        "Finally, our input function constructs an iterator for the dataset and returns the next batch of data to the LinearRegressor."
      ]
    },
    {
      "cell_type": "code",
      "metadata": {
        "id": "RKZ9zNcHJtwc",
        "colab_type": "code",
        "colab": {}
      },
      "source": [
        "def my_input_fn(features, targets, batch_size=1, shuffle=True, num_epochs=None):\n",
        "\n",
        "  \n",
        "\n",
        "  \n",
        "    # Convert pandas data into a dict of np arrays.\n",
        "    features = {key:np.array(value) for key,value in dict(features).items()}                                           \n",
        " \n",
        "    # Construct a dataset, and configure batching/repeating.\n",
        "    ds = Dataset.from_tensor_slices((features,targets)) \n",
        "    ds = ds.batch(batch_size).repeat(num_epochs)\n",
        "    \n",
        "    # Shuffle the data, if specified.\n",
        "    if shuffle:\n",
        "      ds = ds.shuffle(buffer_size=10000)\n",
        "    \n",
        "    # Return the next batch of data.\n",
        "    features, labels = ds.make_one_shot_iterator().get_next()\n",
        "    return features, labels"
      ],
      "execution_count": 0,
      "outputs": []
    },
    {
      "cell_type": "markdown",
      "metadata": {
        "id": "4YS50CQb2ooO",
        "colab_type": "text"
      },
      "source": [
        "### Step 5: Training the Model"
      ]
    },
    {
      "cell_type": "markdown",
      "metadata": {
        "id": "yP92XkzhU803",
        "colab_type": "text"
      },
      "source": [
        "We can now call `train()` on our `linear_regressor` to train the model. We'll wrap `my_input_fn` in a `lambda`\n",
        "so we can pass in `my_feature` and `targets` as arguments  and to start, we'll\n",
        "train for 100 steps."
      ]
    },
    {
      "cell_type": "code",
      "metadata": {
        "id": "5M-Kt6w8U803",
        "colab_type": "code",
        "colab": {}
      },
      "source": [
        "_ = linear_regressor.train(\n",
        "    input_fn = lambda:my_input_fn(my_feature, targets),\n",
        "    steps=100\n",
        ")"
      ],
      "execution_count": 0,
      "outputs": []
    },
    {
      "cell_type": "markdown",
      "metadata": {
        "id": "7Nwxqxlx2sOv",
        "colab_type": "text"
      },
      "source": [
        "### Step 6: Evaluation of the Model(using RMSE)"
      ]
    },
    {
      "cell_type": "code",
      "metadata": {
        "id": "pDIxp6vcU809",
        "colab_type": "code",
        "outputId": "a622dd61-fae2-4adc-cbe8-d5b6d1296916",
        "colab": {
          "base_uri": "https://localhost:8080/",
          "height": 51
        }
      },
      "source": [
        "\n",
        "prediction_input_fn =lambda: my_input_fn(my_feature, targets, num_epochs=1, shuffle=False)\n",
        "\n",
        "# Call predict() on the linear_regressor to make predictions.\n",
        "predictions = linear_regressor.predict(input_fn=prediction_input_fn)\n",
        "\n",
        "# Format predictions as a NumPy array, so we can calculate error metrics.\n",
        "predictions = np.array([item['predictions'][0] for item in predictions])\n",
        "\n",
        "# Print Mean Squared Error and Root Mean Squared Error.\n",
        "mean_squared_error = metrics.mean_squared_error(predictions, targets)\n",
        "root_mean_squared_error = math.sqrt(mean_squared_error)\n",
        "print(\"Mean Squared Error (on training data): %0.3f\" % mean_squared_error)\n",
        "print(\"Root Mean Squared Error (on training data): %0.3f\" % root_mean_squared_error)"
      ],
      "execution_count": 30,
      "outputs": [
        {
          "output_type": "stream",
          "text": [
            "Mean Squared Error (on training data): 0.000\n",
            "Root Mean Squared Error (on training data): 0.003\n"
          ],
          "name": "stdout"
        }
      ]
    },
    {
      "cell_type": "markdown",
      "metadata": {
        "id": "AKWstXXPzOVz",
        "colab_type": "text"
      },
      "source": [
        "Mean Squared Error (MSE) can be hard to interpret, so we  look at Root Mean Squared Error (RMSE)\n",
        "instead.  A nice property of RMSE is that it can be interpreted on the same scale as the original targets.\n",
        "\n",
        "now we compare the RMSE to the difference of the min and max of our targets:"
      ]
    },
    {
      "cell_type": "code",
      "metadata": {
        "id": "7UwqGbbxP53O",
        "colab_type": "code",
        "outputId": "90d48d97-27b6-4536-c546-1ccf2ae0ab34",
        "colab": {
          "base_uri": "https://localhost:8080/",
          "height": 85
        }
      },
      "source": [
        "miminumCurrentVal = MosDataframe[\"Ids\"].min()\n",
        "maximumCurrentVal = MosDataframe[\"Ids\"].max()\n",
        "min_max_difference = maximumCurrentVal - miminumCurrentVal\n",
        "\n",
        "print(\"Min. Median Current Value: %0.3f\" % miminumCurrentVal)\n",
        "print(\"Max. Median Current Value: %0.3f\" % maximumCurrentVal)\n",
        "print(\"Difference between Min. and Max.: %0.3f\" % min_max_difference)\n",
        "print(\"Root Mean Squared Error: %0.3f\" % root_mean_squared_error)"
      ],
      "execution_count": 31,
      "outputs": [
        {
          "output_type": "stream",
          "text": [
            "Min. Median House Value: 0.000\n",
            "Max. Median House Value: 0.007\n",
            "Difference between Min. and Max.: 0.007\n",
            "Root Mean Squared Error: 0.003\n"
          ],
          "name": "stdout"
        }
      ]
    },
    {
      "cell_type": "code",
      "metadata": {
        "id": "941nclxbzqGH",
        "colab_type": "code",
        "cellView": "both",
        "outputId": "1ca2cfeb-e197-4e00-eed2-0087e8d64b07",
        "colab": {
          "test": {
            "output": "ignore",
            "timeout": 600
          },
          "base_uri": "https://localhost:8080/",
          "height": 297
        }
      },
      "source": [
        "calibration_data = pd.DataFrame()\n",
        "calibration_data[\"predictions\"] = pd.Series(predictions)\n",
        "calibration_data[\"targets\"] = pd.Series(targets)\n",
        "calibration_data.describe()"
      ],
      "execution_count": 32,
      "outputs": [
        {
          "output_type": "execute_result",
          "data": {
            "text/html": [
              "<div>\n",
              "<style scoped>\n",
              "    .dataframe tbody tr th:only-of-type {\n",
              "        vertical-align: middle;\n",
              "    }\n",
              "\n",
              "    .dataframe tbody tr th {\n",
              "        vertical-align: top;\n",
              "    }\n",
              "\n",
              "    .dataframe thead th {\n",
              "        text-align: right;\n",
              "    }\n",
              "</style>\n",
              "<table border=\"1\" class=\"dataframe\">\n",
              "  <thead>\n",
              "    <tr style=\"text-align: right;\">\n",
              "      <th></th>\n",
              "      <th>predictions</th>\n",
              "      <th>targets</th>\n",
              "    </tr>\n",
              "  </thead>\n",
              "  <tbody>\n",
              "    <tr>\n",
              "      <th>count</th>\n",
              "      <td>26.0</td>\n",
              "      <td>26.0</td>\n",
              "    </tr>\n",
              "    <tr>\n",
              "      <th>mean</th>\n",
              "      <td>0.0</td>\n",
              "      <td>0.0</td>\n",
              "    </tr>\n",
              "    <tr>\n",
              "      <th>std</th>\n",
              "      <td>0.0</td>\n",
              "      <td>0.0</td>\n",
              "    </tr>\n",
              "    <tr>\n",
              "      <th>min</th>\n",
              "      <td>0.0</td>\n",
              "      <td>0.0</td>\n",
              "    </tr>\n",
              "    <tr>\n",
              "      <th>25%</th>\n",
              "      <td>0.0</td>\n",
              "      <td>0.0</td>\n",
              "    </tr>\n",
              "    <tr>\n",
              "      <th>50%</th>\n",
              "      <td>0.0</td>\n",
              "      <td>0.0</td>\n",
              "    </tr>\n",
              "    <tr>\n",
              "      <th>75%</th>\n",
              "      <td>0.0</td>\n",
              "      <td>0.0</td>\n",
              "    </tr>\n",
              "    <tr>\n",
              "      <th>max</th>\n",
              "      <td>0.0</td>\n",
              "      <td>0.0</td>\n",
              "    </tr>\n",
              "  </tbody>\n",
              "</table>\n",
              "</div>"
            ],
            "text/plain": [
              "       predictions  targets\n",
              "count         26.0     26.0\n",
              "mean           0.0      0.0\n",
              "std            0.0      0.0\n",
              "min            0.0      0.0\n",
              "25%            0.0      0.0\n",
              "50%            0.0      0.0\n",
              "75%            0.0      0.0\n",
              "max            0.0      0.0"
            ]
          },
          "metadata": {
            "tags": []
          },
          "execution_count": 32
        }
      ]
    },
    {
      "cell_type": "markdown",
      "metadata": {
        "id": "ajVM7rkoYXeL",
        "colab_type": "text"
      },
      "source": [
        "### Taking definite values of Hyperparameters\n",
        "\n"
      ]
    },
    {
      "cell_type": "code",
      "metadata": {
        "id": "T3zmldDwYy5c",
        "colab_type": "code",
        "outputId": "0a3cef89-1187-456d-ea4b-f9eb09e56ee9",
        "colab": {
          "base_uri": "https://localhost:8080/",
          "height": 682
        }
      },
      "source": [
        "train_model(\n",
        "    learning_rate=0.00002,\n",
        "    steps=500,\n",
        "    batch_size=5\n",
        ")"
      ],
      "execution_count": 33,
      "outputs": [
        {
          "output_type": "stream",
          "text": [
            "Training model...\n",
            "RMSE (on training data):\n",
            "  period 00 : 0.00\n",
            "  period 01 : 0.00\n",
            "  period 02 : 0.00\n",
            "  period 03 : 0.00\n",
            "  period 04 : 0.00\n",
            "  period 05 : 0.00\n",
            "  period 06 : 0.00\n",
            "  period 07 : 0.00\n",
            "  period 08 : 0.00\n",
            "  period 09 : 0.00\n",
            "Model training finished.\n"
          ],
          "name": "stdout"
        },
        {
          "output_type": "display_data",
          "data": {
            "text/html": [
              "<div>\n",
              "<style scoped>\n",
              "    .dataframe tbody tr th:only-of-type {\n",
              "        vertical-align: middle;\n",
              "    }\n",
              "\n",
              "    .dataframe tbody tr th {\n",
              "        vertical-align: top;\n",
              "    }\n",
              "\n",
              "    .dataframe thead th {\n",
              "        text-align: right;\n",
              "    }\n",
              "</style>\n",
              "<table border=\"1\" class=\"dataframe\">\n",
              "  <thead>\n",
              "    <tr style=\"text-align: right;\">\n",
              "      <th></th>\n",
              "      <th>predictions</th>\n",
              "      <th>targets</th>\n",
              "    </tr>\n",
              "  </thead>\n",
              "  <tbody>\n",
              "    <tr>\n",
              "      <th>count</th>\n",
              "      <td>26.0</td>\n",
              "      <td>26.0</td>\n",
              "    </tr>\n",
              "    <tr>\n",
              "      <th>mean</th>\n",
              "      <td>0.0</td>\n",
              "      <td>0.0</td>\n",
              "    </tr>\n",
              "    <tr>\n",
              "      <th>std</th>\n",
              "      <td>0.0</td>\n",
              "      <td>0.0</td>\n",
              "    </tr>\n",
              "    <tr>\n",
              "      <th>min</th>\n",
              "      <td>0.0</td>\n",
              "      <td>0.0</td>\n",
              "    </tr>\n",
              "    <tr>\n",
              "      <th>25%</th>\n",
              "      <td>0.0</td>\n",
              "      <td>0.0</td>\n",
              "    </tr>\n",
              "    <tr>\n",
              "      <th>50%</th>\n",
              "      <td>0.0</td>\n",
              "      <td>0.0</td>\n",
              "    </tr>\n",
              "    <tr>\n",
              "      <th>75%</th>\n",
              "      <td>0.0</td>\n",
              "      <td>0.0</td>\n",
              "    </tr>\n",
              "    <tr>\n",
              "      <th>max</th>\n",
              "      <td>0.0</td>\n",
              "      <td>0.0</td>\n",
              "    </tr>\n",
              "  </tbody>\n",
              "</table>\n",
              "</div>"
            ],
            "text/plain": [
              "       predictions  targets\n",
              "count         26.0     26.0\n",
              "mean           0.0      0.0\n",
              "std            0.0      0.0\n",
              "min            0.0      0.0\n",
              "25%            0.0      0.0\n",
              "50%            0.0      0.0\n",
              "75%            0.0      0.0\n",
              "max            0.0      0.0"
            ]
          },
          "metadata": {
            "tags": []
          }
        },
        {
          "output_type": "stream",
          "text": [
            "Final RMSE (on training data): 0.00\n"
          ],
          "name": "stdout"
        },
        {
          "output_type": "display_data",
          "data": {
            "image/png": "[encoded data removed]",
            "text/plain": [
              "<Figure size 1080x432 with 2 Axes>"
            ]
          },
          "metadata": {
            "tags": []
          }
        }
      ]
    },
    {
      "cell_type": "markdown",
      "metadata": {
        "id": "Youc-L5W-zTx",
        "colab_type": "text"
      },
      "source": [
        "** Prediction of the current\n",
        "use the predict function defined above"
      ]
    },
    {
      "cell_type": "code",
      "metadata": {
        "id": "dHvBLrG2-9j-",
        "colab_type": "code",
        "colab": {
          "base_uri": "https://localhost:8080/",
          "height": 34
        },
        "outputId": "4bd59820-6d53-4f62-bbc7-2f35b5ca5005"
      },
      "source": [
        "# Call predict() on the linear_regressor to make predictions.\n",
        "predictions = linear_regressor.predict(input_fn=4.5)#Value fed is the Vds(Drain Source Voltage)\n"
      ],
      "execution_count": 36,
      "outputs": [
        {
          "output_type": "stream",
          "text": [
            "Current Val in mili amps is 3.67\n"
          ],
          "name": "stdout"
        }
      ]
    }
  ]
}