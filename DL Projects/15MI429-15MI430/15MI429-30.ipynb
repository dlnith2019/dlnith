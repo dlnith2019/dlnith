{
  "nbformat": 4,
  "nbformat_minor": 0,
  "metadata": {
    "kernelspec": {
      "display_name": "Python 2",
      "language": "python",
      "name": "python2"
    },
    "language_info": {
      "codemirror_mode": {
        "name": "ipython",
        "version": 2
      },
      "file_extension": ".py",
      "mimetype": "text/x-python",
      "name": "python",
      "nbconvert_exporter": "python",
      "pygments_lexer": "ipython2",
      "version": "2.7.12"
    },
    "colab": {
      "name": "RML2016.10a_VTCNN2_example.ipynb",
      "provenance": []
    }
  },
  "cells": [
    {
      "cell_type": "markdown",
      "metadata": {
        "id": "7Cu1is7lnRdX",
        "colab_type": "text"
      },
      "source": [
        "Import all the things we need\n",
        "by setting env variables before Keras import you can set up which backend and which GPU it uses"
      ]
    },
    {
      "cell_type": "code",
      "metadata": {
        "id": "rjzZC64Lmmso",
        "colab_type": "code",
        "colab": {},
        "outputId": "48fd2ba9-c3b0-428f-b62f-d2bd9743bd1b"
      },
      "source": [
        "\n",
        "%matplotlib inline\n",
        "import os,random\n",
        "os.environ[\"KERAS_BACKEND\"] = \"theano\"\n",
        "#os.environ[\"KERAS_BACKEND\"] = \"tensorflow\"\n",
        "os.environ[\"THEANO_FLAGS\"]  = \"device=gpu%d\"%(1)\n",
        "import numpy as np\n",
        "import theano as th\n",
        "import theano.tensor as T\n",
        "from keras.utils import np_utils\n",
        "import keras.models as models\n",
        "from keras.layers.core import Reshape,Dense,Dropout,Activation,Flatten\n",
        "from keras.layers.noise import GaussianNoise\n",
        "from keras.layers.convolutional import Convolution2D, MaxPooling2D, ZeroPadding2D\n",
        "from keras.regularizers import *\n",
        "from keras.optimizers import adam\n",
        "import matplotlib.pyplot as plt\n",
        "import seaborn as sns\n",
        "import cPickle, random, sys, keras\n"
      ],
      "execution_count": 0,
      "outputs": [
        {
          "output_type": "stream",
          "text": [
            "Using gpu device 1: GeForce GTX TITAN X (CNMeM is disabled, cuDNN 5004)\n",
            "Using Theano backend.\n",
            "/usr/local/lib/python2.7/dist-packages/IPython/html.py:14: ShimWarning: The `IPython.html` package has been deprecated. You should import from `notebook` instead. `IPython.html.widgets` has moved to `ipywidgets`.\n",
            "  \"`IPython.html.widgets` has moved to `ipywidgets`.\", ShimWarning)\n"
          ],
          "name": "stderr"
        }
      ]
    },
    {
      "cell_type": "markdown",
      "metadata": {
        "id": "wDFVEkqQmms1",
        "colab_type": "text"
      },
      "source": [
        "# Dataset setup"
      ]
    },
    {
      "cell_type": "markdown",
      "metadata": {
        "id": "v_RZWAjpnjy1",
        "colab_type": "text"
      },
      "source": [
        "Load the dataset ...\n",
        " You will need to seperately download or generate this file"
      ]
    },
    {
      "cell_type": "code",
      "metadata": {
        "id": "z9_UpCKlmms4",
        "colab_type": "code",
        "colab": {}
      },
      "source": [
        "\n",
        "Xd = cPickle.load(open(\"RML2016.10a_dict.dat\",'rb'))\n",
        "snrs,mods = map(lambda j: sorted(list(set(map(lambda x: x[j], Xd.keys())))), [1,0])\n",
        "X = []  \n",
        "lbl = []\n",
        "for mod in mods:\n",
        "    for snr in snrs:\n",
        "        X.append(Xd[(mod,snr)])\n",
        "        for i in range(Xd[(mod,snr)].shape[0]):  lbl.append((mod,snr))\n",
        "X = np.vstack(X)"
      ],
      "execution_count": 0,
      "outputs": []
    },
    {
      "cell_type": "markdown",
      "metadata": {
        "id": "2-tppS1MoBFt",
        "colab_type": "text"
      },
      "source": [
        "Partition the data\n",
        "into training and test sets of the form we can train/test on \n",
        "while keeping SNR and Mod labels handy for each"
      ]
    },
    {
      "cell_type": "code",
      "metadata": {
        "scrolled": false,
        "id": "Ry6eJUccmms_",
        "colab_type": "code",
        "colab": {},
        "outputId": "795e6aa1-6038-48b0-fe32-5b3d566f15ed"
      },
      "source": [
        "\n",
        "np.random.seed(2016)\n",
        "n_examples = X.shape[0]\n",
        "n_train = n_examples * 0.5\n",
        "train_idx = np.random.choice(range(0,n_examples), size=n_train, replace=False)\n",
        "test_idx = list(set(range(0,n_examples))-set(train_idx))\n",
        "X_train = X[train_idx]\n",
        "X_test =  X[test_idx]\n",
        "def to_onehot(yy):\n",
        "    yy1 = np.zeros([len(yy), max(yy)+1])\n",
        "    yy1[np.arange(len(yy)),yy] = 1\n",
        "    return yy1\n",
        "Y_train = to_onehot(map(lambda x: mods.index(lbl[x][0]), train_idx))\n",
        "Y_test = to_onehot(map(lambda x: mods.index(lbl[x][0]), test_idx))"
      ],
      "execution_count": 0,
      "outputs": [
        {
          "output_type": "stream",
          "text": [
            "/usr/local/lib/python2.7/dist-packages/ipykernel/__main__.py:7: VisibleDeprecationWarning: using a non-integer number instead of an integer will result in an error in the future\n"
          ],
          "name": "stderr"
        }
      ]
    },
    {
      "cell_type": "code",
      "metadata": {
        "scrolled": false,
        "id": "Vda1YIAemmtG",
        "colab_type": "code",
        "colab": {},
        "outputId": "03569937-fb71-45d9-f63f-6eb9dd2a9f0b"
      },
      "source": [
        "in_shp = list(X_train.shape[1:])\n",
        "print X_train.shape, in_shp\n",
        "classes = mods"
      ],
      "execution_count": 0,
      "outputs": [
        {
          "output_type": "stream",
          "text": [
            "(110000, 2, 128) [2, 128]\n"
          ],
          "name": "stdout"
        }
      ]
    },
    {
      "cell_type": "markdown",
      "metadata": {
        "id": "1GDsA5OtmmtN",
        "colab_type": "text"
      },
      "source": [
        "# Build the NN Model"
      ]
    },
    {
      "cell_type": "markdown",
      "metadata": {
        "id": "3wLXMUytoKTz",
        "colab_type": "text"
      },
      "source": [
        " Build VT-CNN2 Neural Net model using Keras primitives -- \n",
        " Reshape [N,2,128] to [N,1,2,128] on input\n",
        " Pass through 2 2DConv/ReLu layers\n",
        " Pass through 2 Dense layers (ReLu and Softmax)\n",
        " Perform categorical cross entropy optimization"
      ]
    },
    {
      "cell_type": "code",
      "metadata": {
        "id": "d3pI7XTqmmtQ",
        "colab_type": "code",
        "colab": {},
        "outputId": "3d77d51e-7974-4cfa-c6f7-2a739a289d86"
      },
      "source": [
        "\n",
        "\n",
        "\n",
        "dr = 0.5 # dropout rate (%)\n",
        "model = models.Sequential()\n",
        "model.add(Reshape([1]+in_shp, input_shape=in_shp))\n",
        "model.add(ZeroPadding2D((0, 2)))\n",
        "model.add(Convolution2D(256, 1, 3, border_mode='valid', activation=\"relu\", name=\"conv1\", init='glorot_uniform'))\n",
        "model.add(Dropout(dr))\n",
        "model.add(ZeroPadding2D((0, 2)))\n",
        "model.add(Convolution2D(80, 2, 3, border_mode=\"valid\", activation=\"relu\", name=\"conv2\", init='glorot_uniform'))\n",
        "model.add(Dropout(dr))\n",
        "model.add(Flatten())\n",
        "model.add(Dense(256, activation='relu', init='he_normal', name=\"dense1\"))\n",
        "model.add(Dropout(dr))\n",
        "model.add(Dense( len(classes), init='he_normal', name=\"dense2\" ))\n",
        "model.add(Activation('softmax'))\n",
        "model.add(Reshape([len(classes)]))\n",
        "model.compile(loss='categorical_crossentropy', optimizer='adam')\n",
        "model.summary()"
      ],
      "execution_count": 0,
      "outputs": [
        {
          "output_type": "stream",
          "text": [
            "____________________________________________________________________________________________________\n",
            "Layer (type)                     Output Shape          Param #     Connected to                     \n",
            "====================================================================================================\n",
            "reshape_1 (Reshape)              (None, 1, 2, 128)     0           reshape_input_1[0][0]            \n",
            "____________________________________________________________________________________________________\n",
            "zeropadding2d_1 (ZeroPadding2D)  (None, 1, 2, 132)     0           reshape_1[0][0]                  \n",
            "____________________________________________________________________________________________________\n",
            "conv1 (Convolution2D)            (None, 256, 2, 130)   1024        zeropadding2d_1[0][0]            \n",
            "____________________________________________________________________________________________________\n",
            "dropout_1 (Dropout)              (None, 256, 2, 130)   0           conv1[0][0]                      \n",
            "____________________________________________________________________________________________________\n",
            "zeropadding2d_2 (ZeroPadding2D)  (None, 256, 2, 134)   0           dropout_1[0][0]                  \n",
            "____________________________________________________________________________________________________\n",
            "conv2 (Convolution2D)            (None, 80, 1, 132)    122960      zeropadding2d_2[0][0]            \n",
            "____________________________________________________________________________________________________\n",
            "dropout_2 (Dropout)              (None, 80, 1, 132)    0           conv2[0][0]                      \n",
            "____________________________________________________________________________________________________\n",
            "flatten_1 (Flatten)              (None, 10560)         0           dropout_2[0][0]                  \n",
            "____________________________________________________________________________________________________\n",
            "dense1 (Dense)                   (None, 256)           2703616     flatten_1[0][0]                  \n",
            "____________________________________________________________________________________________________\n",
            "dropout_3 (Dropout)              (None, 256)           0           dense1[0][0]                     \n",
            "____________________________________________________________________________________________________\n",
            "dense2 (Dense)                   (None, 11)            2827        dropout_3[0][0]                  \n",
            "____________________________________________________________________________________________________\n",
            "activation_1 (Activation)        (None, 11)            0           dense2[0][0]                     \n",
            "____________________________________________________________________________________________________\n",
            "reshape_2 (Reshape)              (None, 11)            0           activation_1[0][0]               \n",
            "====================================================================================================\n",
            "Total params: 2830427\n",
            "____________________________________________________________________________________________________\n"
          ],
          "name": "stdout"
        }
      ]
    },
    {
      "cell_type": "markdown",
      "metadata": {
        "id": "PujAfj8moYZ7",
        "colab_type": "text"
      },
      "source": [
        " Set up some params "
      ]
    },
    {
      "cell_type": "code",
      "metadata": {
        "id": "BSQALMvkmmtX",
        "colab_type": "code",
        "colab": {}
      },
      "source": [
        "\n",
        "nb_epoch = 100     # number of epochs to train on\n",
        "batch_size = 1024  # training batch size"
      ],
      "execution_count": 0,
      "outputs": []
    },
    {
      "cell_type": "markdown",
      "metadata": {
        "id": "pqjq8r3Rmmte",
        "colab_type": "text"
      },
      "source": [
        "# Train the Model"
      ]
    },
    {
      "cell_type": "markdown",
      "metadata": {
        "id": "lnABk_4YodPA",
        "colab_type": "text"
      },
      "source": [
        "perform training ...\n",
        "call the main training loop in keras for our network+dataset"
      ]
    },
    {
      "cell_type": "code",
      "metadata": {
        "scrolled": false,
        "id": "RBpfHzyYmmtg",
        "colab_type": "code",
        "colab": {},
        "outputId": "4856153d-a622-4145-a5eb-d8695aa2fbef"
      },
      "source": [
        "\n",
        "filepath = 'convmodrecnets_CNN2_0.5.wts.h5'\n",
        "history = model.fit(X_train,\n",
        "    Y_train,\n",
        "    batch_size=batch_size,\n",
        "    nb_epoch=nb_epoch,\n",
        "    show_accuracy=False,\n",
        "    verbose=2,\n",
        "    validation_data=(X_test, Y_test),\n",
        "    callbacks = [\n",
        "        keras.callbacks.ModelCheckpoint(filepath, monitor='val_loss', verbose=0, save_best_only=True, mode='auto'),\n",
        "        keras.callbacks.EarlyStopping(monitor='val_loss', patience=5, verbose=0, mode='auto')\n",
        "    ])\n",
        "# we re-load the best weights once training is finished\n",
        "model.load_weights(filepath)"
      ],
      "execution_count": 0,
      "outputs": [
        {
          "output_type": "stream",
          "text": [
            "Train on 110000 samples, validate on 110000 samples\n",
            "Epoch 1/100\n",
            "15s - loss: 2.2384 - val_loss: 2.1028\n",
            "Epoch 2/100\n",
            "15s - loss: 2.0282 - val_loss: 1.8806\n",
            "Epoch 3/100\n",
            "15s - loss: 1.8641 - val_loss: 1.7373\n",
            "Epoch 4/100\n",
            "16s - loss: 1.7378 - val_loss: 1.6276\n",
            "Epoch 5/100\n",
            "16s - loss: 1.6693 - val_loss: 1.5724\n",
            "Epoch 6/100\n",
            "16s - loss: 1.6102 - val_loss: 1.4985\n",
            "Epoch 7/100\n",
            "16s - loss: 1.5535 - val_loss: 1.4475\n",
            "Epoch 8/100\n",
            "16s - loss: 1.5115 - val_loss: 1.4226\n",
            "Epoch 9/100\n",
            "16s - loss: 1.4799 - val_loss: 1.4122\n",
            "Epoch 10/100\n",
            "16s - loss: 1.4569 - val_loss: 1.3884\n",
            "Epoch 11/100\n",
            "16s - loss: 1.4412 - val_loss: 1.3534\n",
            "Epoch 12/100\n",
            "16s - loss: 1.4264 - val_loss: 1.3395\n",
            "Epoch 13/100\n",
            "16s - loss: 1.4175 - val_loss: 1.3401\n",
            "Epoch 14/100\n",
            "16s - loss: 1.4080 - val_loss: 1.3408\n",
            "Epoch 15/100\n",
            "16s - loss: 1.4012 - val_loss: 1.3495\n",
            "Epoch 16/100\n",
            "16s - loss: 1.3988 - val_loss: 1.3250\n",
            "Epoch 17/100\n",
            "16s - loss: 1.3835 - val_loss: 1.3171\n",
            "Epoch 18/100\n",
            "16s - loss: 1.3775 - val_loss: 1.3095\n",
            "Epoch 19/100\n",
            "16s - loss: 1.3752 - val_loss: 1.3052\n",
            "Epoch 20/100\n",
            "16s - loss: 1.3743 - val_loss: 1.3056\n",
            "Epoch 21/100\n",
            "16s - loss: 1.3670 - val_loss: 1.3045\n",
            "Epoch 22/100\n",
            "16s - loss: 1.3643 - val_loss: 1.3231\n",
            "Epoch 23/100\n",
            "16s - loss: 1.3620 - val_loss: 1.3103\n",
            "Epoch 24/100\n",
            "16s - loss: 1.3541 - val_loss: 1.2933\n",
            "Epoch 25/100\n",
            "16s - loss: 1.3530 - val_loss: 1.3028\n",
            "Epoch 26/100\n",
            "16s - loss: 1.3479 - val_loss: 1.2945\n",
            "Epoch 27/100\n",
            "16s - loss: 1.3478 - val_loss: 1.2984\n",
            "Epoch 28/100\n",
            "16s - loss: 1.3428 - val_loss: 1.2893\n",
            "Epoch 29/100\n",
            "16s - loss: 1.3358 - val_loss: 1.3019\n",
            "Epoch 30/100\n",
            "16s - loss: 1.3333 - val_loss: 1.2903\n",
            "Epoch 31/100\n",
            "16s - loss: 1.3304 - val_loss: 1.2911\n",
            "Epoch 32/100\n",
            "16s - loss: 1.3247 - val_loss: 1.2825\n",
            "Epoch 33/100\n",
            "16s - loss: 1.3252 - val_loss: 1.2891\n",
            "Epoch 34/100\n",
            "16s - loss: 1.3207 - val_loss: 1.2846\n",
            "Epoch 35/100\n",
            "16s - loss: 1.3167 - val_loss: 1.2836\n",
            "Epoch 36/100\n",
            "16s - loss: 1.3186 - val_loss: 1.2789\n",
            "Epoch 37/100\n",
            "16s - loss: 1.3127 - val_loss: 1.2765\n",
            "Epoch 38/100\n",
            "16s - loss: 1.3101 - val_loss: 1.2802\n",
            "Epoch 39/100\n",
            "16s - loss: 1.3077 - val_loss: 1.2973\n",
            "Epoch 40/100\n",
            "16s - loss: 1.3033 - val_loss: 1.2996\n",
            "Epoch 41/100\n",
            "16s - loss: 1.3016 - val_loss: 1.2877\n",
            "Epoch 42/100\n",
            "16s - loss: 1.2993 - val_loss: 1.2769\n",
            "Epoch 43/100\n",
            "16s - loss: 1.2963 - val_loss: 1.3045\n"
          ],
          "name": "stdout"
        },
        {
          "output_type": "stream",
          "text": [
            "/usr/local/lib/python2.7/dist-packages/Keras-1.0.4-py2.7.egg/keras/models.py:391: UserWarning: The \"show_accuracy\" argument is deprecated, instead you should pass the \"accuracy\" metric to the model at compile time:\n",
            "`model.compile(optimizer, loss, metrics=[\"accuracy\"])`\n",
            "  warnings.warn('The \"show_accuracy\" argument is deprecated, '\n"
          ],
          "name": "stderr"
        }
      ]
    },
    {
      "cell_type": "markdown",
      "metadata": {
        "id": "xI3VLB_wmmto",
        "colab_type": "text"
      },
      "source": [
        "# Evaluate and Plot Model Performance"
      ]
    },
    {
      "cell_type": "markdown",
      "metadata": {
        "id": "XQMKVBF_om7v",
        "colab_type": "text"
      },
      "source": [
        "Show simple version of performance"
      ]
    },
    {
      "cell_type": "code",
      "metadata": {
        "id": "PZx6KycQmmtq",
        "colab_type": "code",
        "colab": {},
        "outputId": "97041d39-79c8-4d48-bef0-221eda857dcd"
      },
      "source": [
        "\n",
        "score = model.evaluate(X_test, Y_test, show_accuracy=True, verbose=0, batch_size=batch_size)\n",
        "print score"
      ],
      "execution_count": 0,
      "outputs": [
        {
          "output_type": "stream",
          "text": [
            "1.27649493232\n"
          ],
          "name": "stdout"
        },
        {
          "output_type": "stream",
          "text": [
            "/usr/local/lib/python2.7/dist-packages/Keras-1.0.4-py2.7.egg/keras/models.py:432: UserWarning: The \"show_accuracy\" argument is deprecated, instead you should pass the \"accuracy\" metric to the model at compile time:\n",
            "`model.compile(optimizer, loss, metrics=[\"accuracy\"])`\n",
            "  warnings.warn('The \"show_accuracy\" argument is deprecated, '\n"
          ],
          "name": "stderr"
        }
      ]
    },
    {
      "cell_type": "markdown",
      "metadata": {
        "id": "k9zkGeOoowFh",
        "colab_type": "text"
      },
      "source": [
        "Show loss curves "
      ]
    },
    {
      "cell_type": "code",
      "metadata": {
        "id": "DBbBZH6Cmmty",
        "colab_type": "code",
        "colab": {},
        "outputId": "610be0e0-97a9-47ce-f336-e57f51f35ed5"
      },
      "source": [
        "\n",
        "plt.figure()\n",
        "plt.title('Training performance')\n",
        "plt.plot(history.epoch, history.history['loss'], label='train loss+error')\n",
        "plt.plot(history.epoch, history.history['val_loss'], label='val_error')\n",
        "plt.legend()"
      ],
      "execution_count": 0,
      "outputs": [
        {
          "output_type": "execute_result",
          "data": {
            "text/plain": [
              "<matplotlib.legend.Legend at 0x7f089a6d7ad0>"
            ]
          },
          "metadata": {
            "tags": []
          },
          "execution_count": 9
        },
        {
          "output_type": "display_data",
          "data": {
            "image/png": "[encoded data removed]",
            "text/plain": [
              "<matplotlib.figure.Figure at 0x7f089ab35510>"
            ]
          },
          "metadata": {
            "tags": []
          }
        }
      ]
    },
    {
      "cell_type": "code",
      "metadata": {
        "id": "onBm_A0Mmmt6",
        "colab_type": "code",
        "colab": {}
      },
      "source": [
        "def plot_confusion_matrix(cm, title='Confusion matrix', cmap=plt.cm.Blues, labels=[]):\n",
        "    plt.imshow(cm, interpolation='nearest', cmap=cmap)\n",
        "    plt.title(title)\n",
        "    plt.colorbar()\n",
        "    tick_marks = np.arange(len(labels))\n",
        "    plt.xticks(tick_marks, labels, rotation=45)\n",
        "    plt.yticks(tick_marks, labels)\n",
        "    plt.tight_layout()\n",
        "    plt.ylabel('True label')\n",
        "    plt.xlabel('Predicted label')"
      ],
      "execution_count": 0,
      "outputs": []
    },
    {
      "cell_type": "markdown",
      "metadata": {
        "id": "-UG-JnV-o7nn",
        "colab_type": "text"
      },
      "source": [
        "Plot confusion matrix"
      ]
    },
    {
      "cell_type": "code",
      "metadata": {
        "id": "4O6sLL18mmuB",
        "colab_type": "code",
        "colab": {},
        "outputId": "a92d8220-77ee-40ef-847e-bffd884afb3b"
      },
      "source": [
        "\n",
        "test_Y_hat = model.predict(X_test, batch_size=batch_size)\n",
        "conf = np.zeros([len(classes),len(classes)])\n",
        "confnorm = np.zeros([len(classes),len(classes)])\n",
        "for i in range(0,X_test.shape[0]):\n",
        "    j = list(Y_test[i,:]).index(1)\n",
        "    k = int(np.argmax(test_Y_hat[i,:]))\n",
        "    conf[j,k] = conf[j,k] + 1\n",
        "for i in range(0,len(classes)):\n",
        "    confnorm[i,:] = conf[i,:] / np.sum(conf[i,:])\n",
        "plot_confusion_matrix(confnorm, labels=classes)\n",
        "\n"
      ],
      "execution_count": 0,
      "outputs": [
        {
          "output_type": "stream",
          "text": [
            "/usr/lib/pymodules/python2.7/matplotlib/collections.py:548: FutureWarning: elementwise comparison failed; returning scalar instead, but in the future will perform elementwise comparison\n",
            "  if self._edgecolors == 'face':\n"
          ],
          "name": "stderr"
        },
        {
          "output_type": "display_data",
          "data": {
            "image/png": "[encoded data removed]",
            "text/plain": [
              "<matplotlib.figure.Figure at 0x7f089a5c3c10>"
            ]
          },
          "metadata": {
            "tags": []
          }
        }
      ]
    }
  ]
}