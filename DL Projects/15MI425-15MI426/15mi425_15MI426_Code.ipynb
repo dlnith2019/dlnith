{
  "nbformat": 4,
  "nbformat_minor": 0,
  "metadata": {
    "kernelspec": {
      "display_name": "Python 3",
      "language": "python",
      "name": "python3"
    },
    "language_info": {
      "codemirror_mode": {
        "name": "ipython",
        "version": 3
      },
      "file_extension": ".py",
      "mimetype": "text/x-python",
      "name": "python",
      "nbconvert_exporter": "python",
      "pygments_lexer": "ipython3",
      "version": "3.7.1"
    },
    "colab": {
      "name": "15mi426_project_antenna.ipynb",
      "provenance": [],
      "collapsed_sections": [],
      "toc_visible": true
    }
  },
  "cells": [
    {
      "cell_type": "markdown",
      "metadata": {
        "id": "xXwaoOQ8f_zv",
        "colab_type": "text"
      },
      "source": [
        "# #IMPORT THE LIBRARIES REQUIRED"
      ]
    },
    {
      "cell_type": "code",
      "metadata": {
        "id": "LjC0TGoef_0D",
        "colab_type": "code",
        "colab": {}
      },
      "source": [
        "import xlwt \n",
        "from google.colab import files\n",
        "import io\n",
        "from xlwt import Workbook \n",
        "import pandas as pd\n",
        "import numpy as np\n",
        "import random\n",
        "from tqdm import tqdm"
      ],
      "execution_count": 0,
      "outputs": []
    },
    {
      "cell_type": "markdown",
      "metadata": {
        "id": "v_TexJ_Ff_16",
        "colab_type": "raw"
      },
      "source": [
        "NOW WE FIRST IMPORT THE LIBRARIES WHICH ARE REQUIRED"
      ]
    },
    {
      "cell_type": "code",
      "metadata": {
        "id": "bZlNmGpnf_2M",
        "colab_type": "code",
        "colab": {}
      },
      "source": [
        "import matplotlib.pyplot as plt\n",
        "from sklearn.model_selection import train_test_split\n",
        "from sklearn.utils import shuffle\n",
        "import keras \n",
        "from keras.models import Sequential\n",
        "from keras.layers import Dense"
      ],
      "execution_count": 0,
      "outputs": []
    },
    {
      "cell_type": "markdown",
      "metadata": {
        "id": "-IAuszDgaGy0",
        "colab_type": "text"
      },
      "source": [
        "uploading the dataset for antenna frequency and dimensions"
      ]
    },
    {
      "cell_type": "code",
      "metadata": {
        "id": "KmLc1Njwf_4R",
        "colab_type": "code",
        "outputId": "dcc07ea1-da0d-4db8-ab00-eb024c292ec7",
        "colab": {
          "base_uri": "https://localhost:8080/",
          "height": 36
        }
      },
      "source": [
        "d = pd.read_csv('DATASET_ANTENNA.csv')\n",
        "X = d[d.columns[0:2]].values\n",
        "y = d[d.columns[2:4]]\n",
        "print(y.shape)\n"
      ],
      "execution_count": 326,
      "outputs": [
        {
          "output_type": "stream",
          "text": [
            "(51, 2)\n"
          ],
          "name": "stdout"
        }
      ]
    },
    {
      "cell_type": "markdown",
      "metadata": {
        "id": "HPR6jdKzaRr3",
        "colab_type": "text"
      },
      "source": [
        "Normalizing"
      ]
    },
    {
      "cell_type": "code",
      "metadata": {
        "id": "2datIgOBHCQj",
        "colab_type": "code",
        "colab": {}
      },
      "source": [
        "X=X/10\n",
        "y=y/1000"
      ],
      "execution_count": 0,
      "outputs": []
    },
    {
      "cell_type": "markdown",
      "metadata": {
        "id": "jc_qEoDPf_5c",
        "colab_type": "text"
      },
      "source": [
        "WE CREATE OUR MODEL IN WHICH WE HAVE  2 NURON IN INPIUT LAYER, WE USE THREE HIDDEN LAYER OF NUMBER OF NODES \n",
        "7,5,2 AND ONE NODE AT THE OUTPUT."
      ]
    },
    {
      "cell_type": "code",
      "metadata": {
        "id": "thvmCYk0f_5o",
        "colab_type": "code",
        "colab": {}
      },
      "source": [
        "\n",
        "X_train, X_test, y_train, y_test = train_test_split(X, y, test_size = 0.20, random_state = 0)\n",
        "\n",
        "\n"
      ],
      "execution_count": 0,
      "outputs": []
    },
    {
      "cell_type": "code",
      "metadata": {
        "id": "HBrgYreoqi9z",
        "colab_type": "code",
        "outputId": "ba35a2f4-8a14-48b0-9ea5-601729afcadf",
        "colab": {
          "base_uri": "https://localhost:8080/",
          "height": 298
        }
      },
      "source": [
        "model = Sequential()\n",
        "model.add(Dense(7, activation='relu',input_dim = 2))\n",
        "model.add(Dense(5, activation='relu'))\n",
        "model.add(Dense(2))\n",
        "model.compile(optimizer='adam', loss='mse')\n",
        "print(model.summary())"
      ],
      "execution_count": 329,
      "outputs": [
        {
          "output_type": "stream",
          "text": [
            "Model: \"sequential_10\"\n",
            "_________________________________________________________________\n",
            "Layer (type)                 Output Shape              Param #   \n",
            "=================================================================\n",
            "dense_28 (Dense)             (None, 7)                 21        \n",
            "_________________________________________________________________\n",
            "dense_29 (Dense)             (None, 5)                 40        \n",
            "_________________________________________________________________\n",
            "dense_30 (Dense)             (None, 2)                 12        \n",
            "=================================================================\n",
            "Total params: 73\n",
            "Trainable params: 73\n",
            "Non-trainable params: 0\n",
            "_________________________________________________________________\n",
            "None\n"
          ],
          "name": "stdout"
        }
      ]
    },
    {
      "cell_type": "code",
      "metadata": {
        "id": "Y9IQoAD1VPfk",
        "colab_type": "code",
        "colab": {
          "base_uri": "https://localhost:8080/",
          "height": 36
        },
        "outputId": "a7c5c002-b177-44b9-d0a6-4448f0806181"
      },
      "source": [
        "print(type(X_test))"
      ],
      "execution_count": 330,
      "outputs": [
        {
          "output_type": "stream",
          "text": [
            "<class 'numpy.ndarray'>\n"
          ],
          "name": "stdout"
        }
      ]
    },
    {
      "cell_type": "markdown",
      "metadata": {
        "id": "aWSUykvlf_6D",
        "colab_type": "text"
      },
      "source": [
        "HERE WE SET THE OPTIMIZER, LOSS FUNCTION BATCH_SIZE AND EPOCHS FOR GIVEN MODEL."
      ]
    },
    {
      "cell_type": "code",
      "metadata": {
        "id": "lLGsIYnWf_6M",
        "colab_type": "code",
        "outputId": "7b7b3f84-3153-4bc8-d8f1-f96b4ba1ccb3",
        "colab": {
          "base_uri": "https://localhost:8080/",
          "height": 1000
        }
      },
      "source": [
        "\n",
        "\n",
        "history = model.fit(X_train, y_train, batch_size=100,epochs=300,verbose=1,validation_data=(X_test, y_test))\n",
        "\n",
        "print(history.history.keys())\n",
        "plt.plot(history.history['val_loss'])\n",
        "plt.title('model loss')\n",
        "plt.ylabel('loss')\n",
        "plt.xlabel('epoch')\n",
        "plt.legend(['train'], loc='upper left')\n",
        "plt.show()\n",
        "\n",
        "model.save('model.h5')"
      ],
      "execution_count": 331,
      "outputs": [
        {
          "output_type": "stream",
          "text": [
            "Train on 40 samples, validate on 11 samples\n",
            "Epoch 1/100\n",
            "40/40 [==============================] - 1s 19ms/step - loss: 0.0508 - val_loss: 0.0517\n",
            "Epoch 2/100\n",
            "40/40 [==============================] - 0s 180us/step - loss: 0.0485 - val_loss: 0.0489\n",
            "Epoch 3/100\n",
            "40/40 [==============================] - 0s 124us/step - loss: 0.0458 - val_loss: 0.0460\n",
            "Epoch 4/100\n",
            "40/40 [==============================] - 0s 80us/step - loss: 0.0430 - val_loss: 0.0431\n",
            "Epoch 5/100\n",
            "40/40 [==============================] - 0s 104us/step - loss: 0.0402 - val_loss: 0.0402\n",
            "Epoch 6/100\n",
            "40/40 [==============================] - 0s 98us/step - loss: 0.0375 - val_loss: 0.0374\n",
            "Epoch 7/100\n",
            "40/40 [==============================] - 0s 102us/step - loss: 0.0348 - val_loss: 0.0347\n",
            "Epoch 8/100\n",
            "40/40 [==============================] - 0s 78us/step - loss: 0.0323 - val_loss: 0.0321\n",
            "Epoch 9/100\n",
            "40/40 [==============================] - 0s 108us/step - loss: 0.0298 - val_loss: 0.0296\n",
            "Epoch 10/100\n",
            "40/40 [==============================] - 0s 68us/step - loss: 0.0275 - val_loss: 0.0272\n",
            "Epoch 11/100\n",
            "40/40 [==============================] - 0s 59us/step - loss: 0.0252 - val_loss: 0.0250\n",
            "Epoch 12/100\n",
            "40/40 [==============================] - 0s 101us/step - loss: 0.0231 - val_loss: 0.0228\n",
            "Epoch 13/100\n",
            "40/40 [==============================] - 0s 88us/step - loss: 0.0211 - val_loss: 0.0208\n",
            "Epoch 14/100\n",
            "40/40 [==============================] - 0s 101us/step - loss: 0.0191 - val_loss: 0.0189\n",
            "Epoch 15/100\n",
            "40/40 [==============================] - 0s 94us/step - loss: 0.0174 - val_loss: 0.0171\n",
            "Epoch 16/100\n",
            "40/40 [==============================] - 0s 92us/step - loss: 0.0157 - val_loss: 0.0154\n",
            "Epoch 17/100\n",
            "40/40 [==============================] - 0s 86us/step - loss: 0.0141 - val_loss: 0.0138\n",
            "Epoch 18/100\n",
            "40/40 [==============================] - 0s 93us/step - loss: 0.0126 - val_loss: 0.0124\n",
            "Epoch 19/100\n",
            "40/40 [==============================] - 0s 78us/step - loss: 0.0113 - val_loss: 0.0111\n",
            "Epoch 20/100\n",
            "40/40 [==============================] - 0s 88us/step - loss: 0.0100 - val_loss: 0.0098\n",
            "Epoch 21/100\n",
            "40/40 [==============================] - 0s 103us/step - loss: 0.0089 - val_loss: 0.0087\n",
            "Epoch 22/100\n",
            "40/40 [==============================] - 0s 94us/step - loss: 0.0078 - val_loss: 0.0077\n",
            "Epoch 23/100\n",
            "40/40 [==============================] - 0s 108us/step - loss: 0.0069 - val_loss: 0.0067\n",
            "Epoch 24/100\n",
            "40/40 [==============================] - 0s 93us/step - loss: 0.0060 - val_loss: 0.0059\n",
            "Epoch 25/100\n",
            "40/40 [==============================] - 0s 85us/step - loss: 0.0052 - val_loss: 0.0051\n",
            "Epoch 26/100\n",
            "40/40 [==============================] - 0s 94us/step - loss: 0.0045 - val_loss: 0.0045\n",
            "Epoch 27/100\n",
            "40/40 [==============================] - 0s 83us/step - loss: 0.0039 - val_loss: 0.0039\n",
            "Epoch 28/100\n",
            "40/40 [==============================] - 0s 83us/step - loss: 0.0034 - val_loss: 0.0033\n",
            "Epoch 29/100\n",
            "40/40 [==============================] - 0s 108us/step - loss: 0.0029 - val_loss: 0.0029\n",
            "Epoch 30/100\n",
            "40/40 [==============================] - 0s 96us/step - loss: 0.0025 - val_loss: 0.0025\n",
            "Epoch 31/100\n",
            "40/40 [==============================] - 0s 93us/step - loss: 0.0022 - val_loss: 0.0022\n",
            "Epoch 32/100\n",
            "40/40 [==============================] - 0s 92us/step - loss: 0.0019 - val_loss: 0.0019\n",
            "Epoch 33/100\n",
            "40/40 [==============================] - 0s 84us/step - loss: 0.0016 - val_loss: 0.0016\n",
            "Epoch 34/100\n",
            "40/40 [==============================] - 0s 77us/step - loss: 0.0014 - val_loss: 0.0015\n",
            "Epoch 35/100\n",
            "40/40 [==============================] - 0s 102us/step - loss: 0.0012 - val_loss: 0.0013\n",
            "Epoch 36/100\n",
            "40/40 [==============================] - 0s 82us/step - loss: 0.0011 - val_loss: 0.0012\n",
            "Epoch 37/100\n",
            "40/40 [==============================] - 0s 84us/step - loss: 9.9998e-04 - val_loss: 0.0011\n",
            "Epoch 38/100\n",
            "40/40 [==============================] - 0s 109us/step - loss: 9.1583e-04 - val_loss: 9.6672e-04\n",
            "Epoch 39/100\n",
            "40/40 [==============================] - 0s 120us/step - loss: 8.5107e-04 - val_loss: 8.9931e-04\n",
            "Epoch 40/100\n",
            "40/40 [==============================] - 0s 115us/step - loss: 8.0193e-04 - val_loss: 8.4601e-04\n",
            "Epoch 41/100\n",
            "40/40 [==============================] - 0s 119us/step - loss: 7.6502e-04 - val_loss: 8.0369e-04\n",
            "Epoch 42/100\n",
            "40/40 [==============================] - 0s 110us/step - loss: 7.3734e-04 - val_loss: 7.6961e-04\n",
            "Epoch 43/100\n",
            "40/40 [==============================] - 0s 110us/step - loss: 7.1630e-04 - val_loss: 7.4143e-04\n",
            "Epoch 44/100\n",
            "40/40 [==============================] - 0s 127us/step - loss: 6.9969e-04 - val_loss: 7.1722e-04\n",
            "Epoch 45/100\n",
            "40/40 [==============================] - 0s 132us/step - loss: 6.8566e-04 - val_loss: 6.9536e-04\n",
            "Epoch 46/100\n",
            "40/40 [==============================] - 0s 121us/step - loss: 6.7273e-04 - val_loss: 6.7461e-04\n",
            "Epoch 47/100\n",
            "40/40 [==============================] - 0s 121us/step - loss: 6.5974e-04 - val_loss: 6.5401e-04\n",
            "Epoch 48/100\n",
            "40/40 [==============================] - 0s 124us/step - loss: 6.4584e-04 - val_loss: 6.3288e-04\n",
            "Epoch 49/100\n",
            "40/40 [==============================] - 0s 105us/step - loss: 6.3041e-04 - val_loss: 6.1078e-04\n",
            "Epoch 50/100\n",
            "40/40 [==============================] - 0s 115us/step - loss: 6.1310e-04 - val_loss: 5.8747e-04\n",
            "Epoch 51/100\n",
            "40/40 [==============================] - 0s 105us/step - loss: 5.9373e-04 - val_loss: 5.6286e-04\n",
            "Epoch 52/100\n",
            "40/40 [==============================] - 0s 121us/step - loss: 5.7229e-04 - val_loss: 5.3703e-04\n",
            "Epoch 53/100\n",
            "40/40 [==============================] - 0s 105us/step - loss: 5.4891e-04 - val_loss: 5.1014e-04\n",
            "Epoch 54/100\n",
            "40/40 [==============================] - 0s 113us/step - loss: 5.2381e-04 - val_loss: 4.8243e-04\n",
            "Epoch 55/100\n",
            "40/40 [==============================] - 0s 130us/step - loss: 4.9730e-04 - val_loss: 4.5419e-04\n",
            "Epoch 56/100\n",
            "40/40 [==============================] - 0s 127us/step - loss: 4.6971e-04 - val_loss: 4.2575e-04\n",
            "Epoch 57/100\n",
            "40/40 [==============================] - 0s 135us/step - loss: 4.4141e-04 - val_loss: 3.9744e-04\n",
            "Epoch 58/100\n",
            "40/40 [==============================] - 0s 127us/step - loss: 4.1280e-04 - val_loss: 3.6957e-04\n",
            "Epoch 59/100\n",
            "40/40 [==============================] - 0s 121us/step - loss: 3.8423e-04 - val_loss: 3.4246e-04\n",
            "Epoch 60/100\n",
            "40/40 [==============================] - 0s 112us/step - loss: 3.5605e-04 - val_loss: 3.1636e-04\n",
            "Epoch 61/100\n",
            "40/40 [==============================] - 0s 125us/step - loss: 3.2857e-04 - val_loss: 2.9152e-04\n",
            "Epoch 62/100\n",
            "40/40 [==============================] - 0s 113us/step - loss: 3.0208e-04 - val_loss: 2.6812e-04\n",
            "Epoch 63/100\n",
            "40/40 [==============================] - 0s 131us/step - loss: 2.7681e-04 - val_loss: 2.4631e-04\n",
            "Epoch 64/100\n",
            "40/40 [==============================] - 0s 127us/step - loss: 2.5294e-04 - val_loss: 2.2619e-04\n",
            "Epoch 65/100\n",
            "40/40 [==============================] - 0s 136us/step - loss: 2.3061e-04 - val_loss: 2.0782e-04\n",
            "Epoch 66/100\n",
            "40/40 [==============================] - 0s 124us/step - loss: 2.0991e-04 - val_loss: 1.9121e-04\n",
            "Epoch 67/100\n",
            "40/40 [==============================] - 0s 116us/step - loss: 1.9090e-04 - val_loss: 1.7634e-04\n",
            "Epoch 68/100\n",
            "40/40 [==============================] - 0s 120us/step - loss: 1.7359e-04 - val_loss: 1.6316e-04\n",
            "Epoch 69/100\n",
            "40/40 [==============================] - 0s 131us/step - loss: 1.5797e-04 - val_loss: 1.5159e-04\n",
            "Epoch 70/100\n",
            "40/40 [==============================] - 0s 124us/step - loss: 1.4397e-04 - val_loss: 1.4152e-04\n",
            "Epoch 71/100\n",
            "40/40 [==============================] - 0s 121us/step - loss: 1.3152e-04 - val_loss: 1.3289e-04\n",
            "Epoch 72/100\n",
            "40/40 [==============================] - 0s 137us/step - loss: 1.2060e-04 - val_loss: 1.2545e-04\n",
            "Epoch 73/100\n",
            "40/40 [==============================] - 0s 137us/step - loss: 1.1096e-04 - val_loss: 1.1912e-04\n",
            "Epoch 74/100\n",
            "40/40 [==============================] - 0s 136us/step - loss: 1.0254e-04 - val_loss: 1.1376e-04\n",
            "Epoch 75/100\n",
            "40/40 [==============================] - 0s 120us/step - loss: 9.5228e-05 - val_loss: 1.0924e-04\n",
            "Epoch 76/100\n",
            "40/40 [==============================] - 0s 117us/step - loss: 8.8894e-05 - val_loss: 1.0540e-04\n",
            "Epoch 77/100\n",
            "40/40 [==============================] - 0s 118us/step - loss: 8.3415e-05 - val_loss: 1.0214e-04\n",
            "Epoch 78/100\n",
            "40/40 [==============================] - 0s 116us/step - loss: 7.8671e-05 - val_loss: 9.9320e-05\n",
            "Epoch 79/100\n",
            "40/40 [==============================] - 0s 108us/step - loss: 7.4551e-05 - val_loss: 9.6841e-05\n",
            "Epoch 80/100\n",
            "40/40 [==============================] - 0s 108us/step - loss: 7.0951e-05 - val_loss: 9.4607e-05\n",
            "Epoch 81/100\n",
            "40/40 [==============================] - 0s 96us/step - loss: 6.7780e-05 - val_loss: 9.2537e-05\n",
            "Epoch 82/100\n",
            "40/40 [==============================] - 0s 100us/step - loss: 6.4954e-05 - val_loss: 9.0562e-05\n",
            "Epoch 83/100\n",
            "40/40 [==============================] - 0s 100us/step - loss: 6.2404e-05 - val_loss: 8.8626e-05\n",
            "Epoch 84/100\n",
            "40/40 [==============================] - 0s 117us/step - loss: 6.0070e-05 - val_loss: 8.6686e-05\n",
            "Epoch 85/100\n",
            "40/40 [==============================] - 0s 103us/step - loss: 5.7901e-05 - val_loss: 8.4710e-05\n",
            "Epoch 86/100\n",
            "40/40 [==============================] - 0s 118us/step - loss: 5.5861e-05 - val_loss: 8.2677e-05\n",
            "Epoch 87/100\n",
            "40/40 [==============================] - 0s 108us/step - loss: 5.3918e-05 - val_loss: 8.0575e-05\n",
            "Epoch 88/100\n",
            "40/40 [==============================] - 0s 104us/step - loss: 5.2051e-05 - val_loss: 7.8401e-05\n",
            "Epoch 89/100\n",
            "40/40 [==============================] - 0s 103us/step - loss: 5.0246e-05 - val_loss: 7.6155e-05\n",
            "Epoch 90/100\n",
            "40/40 [==============================] - 0s 102us/step - loss: 4.8494e-05 - val_loss: 7.3859e-05\n",
            "Epoch 91/100\n",
            "40/40 [==============================] - 0s 105us/step - loss: 4.6800e-05 - val_loss: 7.1497e-05\n",
            "Epoch 92/100\n",
            "40/40 [==============================] - 0s 100us/step - loss: 4.5106e-05 - val_loss: 6.9097e-05\n",
            "Epoch 93/100\n",
            "40/40 [==============================] - 0s 99us/step - loss: 4.3463e-05 - val_loss: 6.6675e-05\n",
            "Epoch 94/100\n",
            "40/40 [==============================] - 0s 114us/step - loss: 4.1873e-05 - val_loss: 6.4250e-05\n",
            "Epoch 95/100\n",
            "40/40 [==============================] - 0s 106us/step - loss: 4.0344e-05 - val_loss: 6.1840e-05\n",
            "Epoch 96/100\n",
            "40/40 [==============================] - 0s 115us/step - loss: 3.8882e-05 - val_loss: 5.9462e-05\n",
            "Epoch 97/100\n",
            "40/40 [==============================] - 0s 110us/step - loss: 3.7464e-05 - val_loss: 5.7123e-05\n",
            "Epoch 98/100\n",
            "40/40 [==============================] - 0s 112us/step - loss: 3.6119e-05 - val_loss: 5.4801e-05\n",
            "Epoch 99/100\n",
            "40/40 [==============================] - 0s 106us/step - loss: 3.4840e-05 - val_loss: 5.2549e-05\n",
            "Epoch 100/100\n",
            "40/40 [==============================] - 0s 109us/step - loss: 3.3644e-05 - val_loss: 5.0379e-05\n",
            "dict_keys(['val_loss', 'loss'])\n"
          ],
          "name": "stdout"
        },
        {
          "output_type": "display_data",
          "data": {
            "image/png": "[encoded data removed]",
            "text/plain": [
              "<Figure size 432x288 with 1 Axes>"
            ]
          },
          "metadata": {
            "tags": []
          }
        }
      ]
    },
    {
      "cell_type": "code",
      "metadata": {
        "id": "1A4lcOIqJBOp",
        "colab_type": "code",
        "colab": {}
      },
      "source": [
        "result=model.predict(X_test)"
      ],
      "execution_count": 0,
      "outputs": []
    },
    {
      "cell_type": "markdown",
      "metadata": {
        "id": "GP7dCZkMakBe",
        "colab_type": "text"
      },
      "source": [
        "Result array obtained"
      ]
    },
    {
      "cell_type": "code",
      "metadata": {
        "id": "YVV4p1H2Jz3o",
        "colab_type": "code",
        "outputId": "c504ce06-da37-412b-bcd0-fc3a696b7851",
        "colab": {
          "base_uri": "https://localhost:8080/",
          "height": 223
        }
      },
      "source": [
        "result"
      ],
      "execution_count": 333,
      "outputs": [
        {
          "output_type": "execute_result",
          "data": {
            "text/plain": [
              "array([[0.00638971, 0.01098653],\n",
              "       [0.0142553 , 0.01556463],\n",
              "       [0.01069755, 0.01378859],\n",
              "       [0.02721945, 0.02316631],\n",
              "       [0.00547848, 0.01056422],\n",
              "       [0.00547848, 0.01056422],\n",
              "       [0.02194653, 0.02031628],\n",
              "       [0.00867436, 0.01225735],\n",
              "       [0.00383035, 0.00954601],\n",
              "       [0.00748848, 0.01166535],\n",
              "       [0.00949844, 0.01276646]], dtype=float32)"
            ]
          },
          "metadata": {
            "tags": []
          },
          "execution_count": 333
        }
      ]
    },
    {
      "cell_type": "code",
      "metadata": {
        "id": "-YYNu6XYGd64",
        "colab_type": "code",
        "colab": {
          "base_uri": "https://localhost:8080/",
          "height": 394
        },
        "outputId": "0f8c5f27-7abe-4dea-99a0-e7a10948edd9"
      },
      "source": [
        "y_test"
      ],
      "execution_count": 334,
      "outputs": [
        {
          "output_type": "execute_result",
          "data": {
            "text/html": [
              "<div>\n",
              "<style scoped>\n",
              "    .dataframe tbody tr th:only-of-type {\n",
              "        vertical-align: middle;\n",
              "    }\n",
              "\n",
              "    .dataframe tbody tr th {\n",
              "        vertical-align: top;\n",
              "    }\n",
              "\n",
              "    .dataframe thead th {\n",
              "        text-align: right;\n",
              "    }\n",
              "</style>\n",
              "<table border=\"1\" class=\"dataframe\">\n",
              "  <thead>\n",
              "    <tr style=\"text-align: right;\">\n",
              "      <th></th>\n",
              "      <th>17.7</th>\n",
              "      <th>13.34</th>\n",
              "    </tr>\n",
              "  </thead>\n",
              "  <tbody>\n",
              "    <tr>\n",
              "      <th>29</th>\n",
              "      <td>0.017859</td>\n",
              "      <td>0.013901</td>\n",
              "    </tr>\n",
              "    <tr>\n",
              "      <th>11</th>\n",
              "      <td>0.018800</td>\n",
              "      <td>0.014850</td>\n",
              "    </tr>\n",
              "    <tr>\n",
              "      <th>10</th>\n",
              "      <td>0.018800</td>\n",
              "      <td>0.014350</td>\n",
              "    </tr>\n",
              "    <tr>\n",
              "      <th>22</th>\n",
              "      <td>0.021800</td>\n",
              "      <td>0.017850</td>\n",
              "    </tr>\n",
              "    <tr>\n",
              "      <th>2</th>\n",
              "      <td>0.017700</td>\n",
              "      <td>0.013850</td>\n",
              "    </tr>\n",
              "    <tr>\n",
              "      <th>28</th>\n",
              "      <td>0.017832</td>\n",
              "      <td>0.013876</td>\n",
              "    </tr>\n",
              "    <tr>\n",
              "      <th>45</th>\n",
              "      <td>0.021225</td>\n",
              "      <td>0.016937</td>\n",
              "    </tr>\n",
              "    <tr>\n",
              "      <th>32</th>\n",
              "      <td>0.018039</td>\n",
              "      <td>0.014061</td>\n",
              "    </tr>\n",
              "    <tr>\n",
              "      <th>26</th>\n",
              "      <td>0.017691</td>\n",
              "      <td>0.013751</td>\n",
              "    </tr>\n",
              "    <tr>\n",
              "      <th>4</th>\n",
              "      <td>0.017700</td>\n",
              "      <td>0.014150</td>\n",
              "    </tr>\n",
              "    <tr>\n",
              "      <th>33</th>\n",
              "      <td>0.018144</td>\n",
              "      <td>0.014154</td>\n",
              "    </tr>\n",
              "  </tbody>\n",
              "</table>\n",
              "</div>"
            ],
            "text/plain": [
              "        17.7     13.34\n",
              "29  0.017859  0.013901\n",
              "11  0.018800  0.014850\n",
              "10  0.018800  0.014350\n",
              "22  0.021800  0.017850\n",
              "2   0.017700  0.013850\n",
              "28  0.017832  0.013876\n",
              "45  0.021225  0.016937\n",
              "32  0.018039  0.014061\n",
              "26  0.017691  0.013751\n",
              "4   0.017700  0.014150\n",
              "33  0.018144  0.014154"
            ]
          },
          "metadata": {
            "tags": []
          },
          "execution_count": 334
        }
      ]
    },
    {
      "cell_type": "code",
      "metadata": {
        "id": "iKjS7RUu63dp",
        "colab_type": "code",
        "colab": {
          "base_uri": "https://localhost:8080/",
          "height": 36
        },
        "outputId": "7f96f092-0df7-45e8-f834-a8edd3f60cbf"
      },
      "source": [
        "print(result.shape)"
      ],
      "execution_count": 335,
      "outputs": [
        {
          "output_type": "stream",
          "text": [
            "(11, 2)\n"
          ],
          "name": "stdout"
        }
      ]
    },
    {
      "cell_type": "code",
      "metadata": {
        "id": "_RmcoC9iN7ba",
        "colab_type": "code",
        "outputId": "8f451b85-7252-461d-909f-513e298ed723",
        "colab": {
          "base_uri": "https://localhost:8080/",
          "height": 223
        }
      },
      "source": [
        "X_test"
      ],
      "execution_count": 336,
      "outputs": [
        {
          "output_type": "execute_result",
          "data": {
            "text/plain": [
              "array([[0.477, 0.485],\n",
              "       [0.449, 0.455],\n",
              "       [0.461, 0.47 ],\n",
              "       [0.402, 0.404],\n",
              "       [0.48 , 0.489],\n",
              "       [0.48 , 0.489],\n",
              "       [0.421, 0.427],\n",
              "       [0.469, 0.476],\n",
              "       [0.486, 0.495],\n",
              "       [0.473, 0.481],\n",
              "       [0.466, 0.473]])"
            ]
          },
          "metadata": {
            "tags": []
          },
          "execution_count": 336
        }
      ]
    },
    {
      "cell_type": "code",
      "metadata": {
        "id": "s6VkKPxg1aps",
        "colab_type": "code",
        "outputId": "48358d4e-9551-4a2b-bf05-07e0aa540b5f",
        "colab": {
          "base_uri": "https://localhost:8080/",
          "height": 36
        }
      },
      "source": [
        "print(X_test.shape)\n"
      ],
      "execution_count": 337,
      "outputs": [
        {
          "output_type": "stream",
          "text": [
            "(11, 2)\n"
          ],
          "name": "stdout"
        }
      ]
    },
    {
      "cell_type": "markdown",
      "metadata": {
        "id": "q4-H0WOEX0XG",
        "colab_type": "text"
      },
      "source": [
        "Scatter plot of result and test data for Length and width"
      ]
    },
    {
      "cell_type": "code",
      "metadata": {
        "id": "ZhzlD6n3JS-S",
        "colab_type": "code",
        "colab": {}
      },
      "source": [
        "#plt.scatter(range(11),result,c='r')\n",
        "#plt.scatter(range(11),y_test,c='g')\n",
        "#plt.scatter(range(11),y_test,result.iloc[:,0].values,c='g')\n",
        "#plt.scatter(result[:, 0], result[:, 1], color ='r')\n",
        "#plt.scatter(y_test[2:4], color ='g')\n",
        "#plt.show()\n",
        "#from matplotlib import pyplot as plt\n",
        "#result = np.matrix(np.random.rand(11,2))\n",
        "#y_test = np.matrix(np.random.rand(11,2))\n",
        "#plt.scatter(result[:, 0], result[:, 1],'o',c='r')\n",
        "#plt.plot(y_test[:, 0], y_test[:, 1],'o',c='g')\n",
        "\n",
        "#plt.legend()\n",
        "#plt.show()\n",
        "#for width\n",
        "#plt.scatter(range(11),result[:,1],c='r')\n",
        "#plt.scatter(range(11),y_test,c='g')\n",
        "\n",
        "#plt.scatter(range(11),z_test,c='g')\n",
        "#plt.show()"
      ],
      "execution_count": 0,
      "outputs": []
    },
    {
      "cell_type": "markdown",
      "metadata": {
        "id": "39UNSHw2asJn",
        "colab_type": "text"
      },
      "source": [
        "input lower and higher cutoff frequency"
      ]
    },
    {
      "cell_type": "code",
      "metadata": {
        "id": "gE3IU-rKy6qs",
        "colab_type": "code",
        "outputId": "ab8998ba-61aa-4d98-fc15-d4495ef15b79",
        "colab": {
          "base_uri": "https://localhost:8080/",
          "height": 73
        }
      },
      "source": [
        "f1=input('Lower Frequency')#divided by 10 e.g-4.5/10=0.45\n",
        "f2=input('Higher Frequency')#divided by 10 e.g-4.56/10=0.456\n",
        "arr=np.array([[f1,f2]])\n",
        "print(arr.shape)\n",
        "\n"
      ],
      "execution_count": 346,
      "outputs": [
        {
          "output_type": "stream",
          "text": [
            "Lower Frequency0.45\n",
            "Higher Frequency0.456\n",
            "(1, 2)\n"
          ],
          "name": "stdout"
        }
      ]
    },
    {
      "cell_type": "code",
      "metadata": {
        "id": "4pNSy63o2lW6",
        "colab_type": "code",
        "colab": {}
      },
      "source": [
        "\n",
        "res=model.predict(arr)*1000"
      ],
      "execution_count": 0,
      "outputs": []
    },
    {
      "cell_type": "markdown",
      "metadata": {
        "id": "duZbtCPWaz5V",
        "colab_type": "text"
      },
      "source": [
        "Predicted dimensions of antenna"
      ]
    },
    {
      "cell_type": "code",
      "metadata": {
        "id": "K_svOc-PyfFm",
        "colab_type": "code",
        "outputId": "f6ff886b-10b8-45b5-a58f-3d1cab3a7e0f",
        "colab": {
          "base_uri": "https://localhost:8080/",
          "height": 54
        }
      },
      "source": [
        "res[:,0]\n",
        "print(res[:,0],'(mm)Predicted Length')\n",
        "res[:,1]\n",
        "print(res[:,1],'(mm)Predicted Width')"
      ],
      "execution_count": 348,
      "outputs": [
        {
          "output_type": "stream",
          "text": [
            "[13.980612] (mm)Predicted Length\n",
            "[15.394904] (mm)Predicted Width\n"
          ],
          "name": "stdout"
        }
      ]
    }
  ]
}