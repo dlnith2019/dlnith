{
  "nbformat": 4,
  "nbformat_minor": 0,
  "metadata": {
    "colab": {
      "name": "Untitled16.ipynb",
      "provenance": []
    },
    "kernelspec": {
      "name": "python3",
      "display_name": "Python 3"
    }
  },
  "cells": [
    {
      "cell_type": "code",
      "metadata": {
        "id": "G6HNMWFDhvPs",
        "colab_type": "code",
        "colab": {}
      },
      "source": [
        "import numpy as np\n",
        "import math, random\n",
        "import matplotlib.pyplot as plt\n",
        "\n",
        "%matplotlib inline\n",
        "np.random.seed(0)\n"
      ],
      "execution_count": 0,
      "outputs": []
    },
    {
      "cell_type": "code",
      "metadata": {
        "id": "PM_KKMp_iAAr",
        "colab_type": "code",
        "colab": {}
      },
      "source": [
        "# Generating a clean sine wave \n",
        "def sine(X, signal_freq=60.):\n",
        "    return np.sin(2 * np.pi * (X) / signal_freq)\n",
        "\n",
        "# Adding uniform noise\n",
        "def noisy(Y, noise_range=(-0.35, 0.35)):\n",
        "    noise = np.random.uniform(noise_range[0], noise_range[1], size=Y.shape)\n",
        "    return Y + noise\n",
        "\n",
        "# Create a noisy and clean sine wave \n",
        "def sample(sample_size):\n",
        "    random_offset = random.randint(0, sample_size)\n",
        "    X = np.arange(sample_size)\n",
        "    out = sine(X + random_offset)\n",
        "    inp = noisy(out)\n",
        "    return inp, out\n"
      ],
      "execution_count": 0,
      "outputs": []
    },
    {
      "cell_type": "code",
      "metadata": {
        "id": "DNizG-zliGSA",
        "colab_type": "code",
        "colab": {
          "base_uri": "https://localhost:8080/",
          "height": 282
        },
        "outputId": "e16135be-f9db-45c9-dbea-fc397639dc58"
      },
      "source": [
        "inp, out = sample(100)\n",
        "plt.plot(inp, label='Noisy')\n",
        "plt.plot(out, label ='Denoised')\n",
        "plt.legend()"
      ],
      "execution_count": 73,
      "outputs": [
        {
          "output_type": "execute_result",
          "data": {
            "text/plain": [
              "<matplotlib.legend.Legend at 0x7f79bcd688d0>"
            ]
          },
          "metadata": {
            "tags": []
          },
          "execution_count": 73
        },
        {
          "output_type": "display_data",
          "data": {
            "image/png": "[encoded data removed]",
            "text/plain": [
              "<Figure size 432x288 with 1 Axes>"
            ]
          },
          "metadata": {
            "tags": []
          }
        }
      ]
    },
    {
      "cell_type": "code",
      "metadata": {
        "id": "3MUxpX14iNIi",
        "colab_type": "code",
        "colab": {}
      },
      "source": [
        "def create_dataset(n_samples=10000, sample_size=100):\n",
        "    data_inp = np.zeros((n_samples, sample_size))\n",
        "    data_out = np.zeros((n_samples, sample_size))\n",
        "    \n",
        "    for i in range(n_samples):\n",
        "        sample_inp, sample_out = sample(sample_size)\n",
        "        data_inp[i, :] = sample_inp\n",
        "        data_out[i, :] = sample_out\n",
        "    return data_inp, data_out\n"
      ],
      "execution_count": 0,
      "outputs": []
    },
    {
      "cell_type": "code",
      "metadata": {
        "id": "nPxLW1m1iU4A",
        "colab_type": "code",
        "colab": {}
      },
      "source": [
        "\n",
        "data_inp, data_out = create_dataset()\n",
        "train_inp, train_out = data_inp[:8000], data_out[:8000]\n",
        "test_inp, test_out = data_inp[8000:], data_out[8000:]\n"
      ],
      "execution_count": 0,
      "outputs": []
    },
    {
      "cell_type": "code",
      "metadata": {
        "id": "wP3oqFXQiads",
        "colab_type": "code",
        "colab": {}
      },
      "source": [
        "import torch\n",
        "import torch.nn as nn\n",
        "from torch.autograd import Variable"
      ],
      "execution_count": 0,
      "outputs": []
    },
    {
      "cell_type": "code",
      "metadata": {
        "id": "cla1jnfBif79",
        "colab_type": "code",
        "colab": {}
      },
      "source": [
        "input_dim = 1\n",
        "hidden_size = 30\n",
        "num_layers = 1\n",
        "\n",
        "class CustomRNN(nn.Module):\n",
        "    def __init__(self, input_size, hidden_size, output_size):\n",
        "        super(CustomRNN, self).__init__()\n",
        "        self.rnn = nn.RNN(input_size=input_size, hidden_size=hidden_size, batch_first=True)\n",
        "        self.linear = nn.Linear(hidden_size, output_size, )\n",
        "        self.act = nn.Tanh()\n",
        "    def forward(self, x):\n",
        "        pred, hidden = self.rnn(x, None)\n",
        "        pred = self.act(self.linear(pred)).view(pred.data.shape[0], -1, 1)\n",
        "        return pred\n",
        "\n",
        "r= CustomRNN(input_dim, hidden_size, 1)"
      ],
      "execution_count": 0,
      "outputs": []
    },
    {
      "cell_type": "code",
      "metadata": {
        "id": "0EwWLA6Sin7a",
        "colab_type": "code",
        "colab": {
          "base_uri": "https://localhost:8080/",
          "height": 101
        },
        "outputId": "80eb61ba-ad44-4835-bf0e-fe61bc69c3c9"
      },
      "source": [
        "r"
      ],
      "execution_count": 78,
      "outputs": [
        {
          "output_type": "execute_result",
          "data": {
            "text/plain": [
              "CustomRNN(\n",
              "  (rnn): RNN(1, 30, batch_first=True)\n",
              "  (linear): Linear(in_features=30, out_features=1, bias=True)\n",
              "  (act): Tanh()\n",
              ")"
            ]
          },
          "metadata": {
            "tags": []
          },
          "execution_count": 78
        }
      ]
    },
    {
      "cell_type": "code",
      "metadata": {
        "id": "ZTsSegYTir3J",
        "colab_type": "code",
        "colab": {
          "base_uri": "https://localhost:8080/",
          "height": 286
        },
        "outputId": "8a68f0b4-9211-4c2d-8bd8-42e6bf32ed2f"
      },
      "source": [
        "# Storing predictions per iterations to visualise later\n",
        "predictions = []\n",
        "\n",
        "optimizer = torch.optim.Adam(r.parameters(), lr=1e-2)\n",
        "loss_func = nn.L1Loss()\n",
        "\n",
        "for t in range(301):\n",
        "    hidden = None\n",
        "    inp = Variable(torch.Tensor(train_inp.reshape((train_inp.shape[0], -1, 1))), requires_grad=True)\n",
        "    out = Variable(torch.Tensor(train_out.reshape((train_out.shape[0], -1, 1))) )\n",
        "    pred = r(inp)\n",
        "    optimizer.zero_grad()\n",
        "    predictions.append(pred.data.numpy())\n",
        "    loss = loss_func(pred, out)\n",
        "    if t%20==0:\n",
        "      print(t, loss.item())\n",
        "      loss.backward()\n",
        "      optimizer.step()\n"
      ],
      "execution_count": 79,
      "outputs": [
        {
          "output_type": "stream",
          "text": [
            "0 0.6492422819137573\n",
            "20 0.5762184262275696\n",
            "40 0.4917285442352295\n",
            "60 0.36837825179100037\n",
            "80 0.24512317776679993\n",
            "100 0.2511880695819855\n",
            "120 0.18763607740402222\n",
            "140 0.12400929629802704\n",
            "160 0.14065253734588623\n",
            "180 0.15177229046821594\n",
            "200 0.14339971542358398\n",
            "220 0.12827779352664948\n",
            "240 0.12559086084365845\n",
            "260 0.13567158579826355\n",
            "280 0.13940416276454926\n",
            "300 0.13364115357398987\n"
          ],
          "name": "stdout"
        }
      ]
    },
    {
      "cell_type": "code",
      "metadata": {
        "id": "AwjNyvg9ixVC",
        "colab_type": "code",
        "colab": {}
      },
      "source": [
        ""
      ],
      "execution_count": 0,
      "outputs": []
    },
    {
      "cell_type": "code",
      "metadata": {
        "id": "fT2vg8CUjB2F",
        "colab_type": "code",
        "colab": {
          "base_uri": "https://localhost:8080/",
          "height": 34
        },
        "outputId": "a81a2b10-c489-4305-8262-9fe2ae141d6e"
      },
      "source": [
        "# Test loss\n",
        "print(loss_func(pred_t, Variable(torch.Tensor(test_out.reshape((test_inp.shape[0], -1, 1))))).item())"
      ],
      "execution_count": 80,
      "outputs": [
        {
          "output_type": "stream",
          "text": [
            "0.8017184138298035\n"
          ],
          "name": "stdout"
        }
      ]
    },
    {
      "cell_type": "code",
      "metadata": {
        "id": "uSfdWTFijHeo",
        "colab_type": "code",
        "colab": {
          "base_uri": "https://localhost:8080/",
          "height": 298
        },
        "outputId": "405ebf75-2f64-4a93-e1a5-3744da1aff67"
      },
      "source": [
        "sample_num = 23\n",
        "plt.plot(pred_t[sample_num].data.numpy(), label='Pred')\n",
        "plt.plot(test_out[sample_num], label='GT')\n",
        "plt.legend()\n",
        "plt.title(\"Sample num: {}\".format(sample_num))"
      ],
      "execution_count": 81,
      "outputs": [
        {
          "output_type": "execute_result",
          "data": {
            "text/plain": [
              "Text(0.5, 1.0, 'Sample num: 23')"
            ]
          },
          "metadata": {
            "tags": []
          },
          "execution_count": 81
        },
        {
          "output_type": "display_data",
          "data": {
            "image/png": "[encoded data removed]",
            "text/plain": [
              "<Figure size 432x288 with 1 Axes>"
            ]
          },
          "metadata": {
            "tags": []
          }
        }
      ]
    },
    {
      "cell_type": "code",
      "metadata": {
        "id": "-IlbbSocjLRb",
        "colab_type": "code",
        "colab": {
          "base_uri": "https://localhost:8080/",
          "height": 154
        },
        "outputId": "d842d45e-da45-4457-c6f6-38b253d65784"
      },
      "source": [
        "bidirectional = True\n",
        "if bidirectional:\n",
        "    num_directions = 2\n",
        "else:\n",
        "    num_directions = 1\n",
        "class CustomRNN(nn.Module):\n",
        "    def __init__(self, input_size, hidden_size, output_size):\n",
        "        super(CustomRNN, self).__init__()\n",
        "        self.rnn = nn.RNN(input_size=input_size, hidden_size=hidden_size, \n",
        "                          batch_first=True, bidirectional=bidirectional, dropout=0.1)\n",
        "        self.linear = nn.Linear(hidden_size*num_directions, output_size, )\n",
        "        self.act = nn.Tanh()\n",
        "    def forward(self, x):\n",
        "        pred, hidden = self.rnn(x, None)\n",
        "        pred = self.act(self.linear(pred)).view(pred.data.shape[0], -1, 1)\n",
        "        return pred\n",
        "\n",
        "r= CustomRNN(input_dim, hidden_size, 1)\n",
        "r"
      ],
      "execution_count": 82,
      "outputs": [
        {
          "output_type": "stream",
          "text": [
            "/usr/local/lib/python3.6/dist-packages/torch/nn/modules/rnn.py:51: UserWarning: dropout option adds dropout after all but last recurrent layer, so non-zero dropout expects num_layers greater than 1, but got dropout=0.1 and num_layers=1\n",
            "  \"num_layers={}\".format(dropout, num_layers))\n"
          ],
          "name": "stderr"
        },
        {
          "output_type": "execute_result",
          "data": {
            "text/plain": [
              "CustomRNN(\n",
              "  (rnn): RNN(1, 30, batch_first=True, dropout=0.1, bidirectional=True)\n",
              "  (linear): Linear(in_features=60, out_features=1, bias=True)\n",
              "  (act): Tanh()\n",
              ")"
            ]
          },
          "metadata": {
            "tags": []
          },
          "execution_count": 82
        }
      ]
    },
    {
      "cell_type": "code",
      "metadata": {
        "id": "Mc6Lq16IjZU5",
        "colab_type": "code",
        "outputId": "2c3f3456-49ea-4018-bbcb-38291ff78b81",
        "colab": {
          "base_uri": "https://localhost:8080/",
          "height": 286
        }
      },
      "source": [
        "# Storing predictions per iterations to visualise later\n",
        "predictions = []\n",
        "\n",
        "optimizer = torch.optim.Adam(r.parameters(), lr=1e-2)\n",
        "loss_func = nn.L1Loss()\n",
        "\n",
        "for t in range(301):\n",
        "    hidden = None\n",
        "    inp = Variable(torch.Tensor(train_inp.reshape((train_inp.shape[0], -1, 1))), requires_grad=True)\n",
        "    out = Variable(torch.Tensor(train_out.reshape((train_out.shape[0], -1, 1))) )\n",
        "    pred = r(inp)\n",
        "    optimizer.zero_grad()\n",
        "    predictions.append(pred.data.numpy())\n",
        "    loss = loss_func(pred, out)\n",
        "    if t%20==0:\n",
        "        print(t, loss.item())\n",
        "    loss.backward()\n",
        "    optimizer.step()"
      ],
      "execution_count": 83,
      "outputs": [
        {
          "output_type": "stream",
          "text": [
            "0 0.6192739009857178\n",
            "20 0.0935271680355072\n",
            "40 0.07369626313447952\n",
            "60 0.0701688900589943\n",
            "80 0.06782509386539459\n",
            "100 0.07631891965866089\n",
            "120 0.06531763821840286\n",
            "140 0.06973931938409805\n",
            "160 0.05627009645104408\n",
            "180 0.05666182562708855\n",
            "200 0.05936925858259201\n",
            "220 0.05219138786196709\n",
            "240 0.05060400068759918\n",
            "260 0.06276044249534607\n",
            "280 0.04854019358754158\n",
            "300 0.04846953973174095\n"
          ],
          "name": "stdout"
        }
      ]
    },
    {
      "cell_type": "code",
      "metadata": {
        "id": "oKwu0bLajd_A",
        "colab_type": "code",
        "colab": {}
      },
      "source": [
        "t_inp = Variable(torch.Tensor(test_inp.reshape((test_inp.shape[0], -1, 1))), requires_grad=True)\n",
        "pred_t = r(t_inp)\n"
      ],
      "execution_count": 0,
      "outputs": []
    },
    {
      "cell_type": "code",
      "metadata": {
        "id": "aJ0G4oLCjjTA",
        "colab_type": "code",
        "outputId": "8bc2b6a1-6e9d-46ef-eae0-4c0f676a141c",
        "colab": {
          "base_uri": "https://localhost:8080/",
          "height": 34
        }
      },
      "source": [
        "\n",
        "# Test loss\n",
        "print(loss_func(pred_t, Variable(torch.Tensor(test_out.reshape((test_inp.shape[0], -1, 1))))).item())\n"
      ],
      "execution_count": 85,
      "outputs": [
        {
          "output_type": "stream",
          "text": [
            "0.04533657059073448\n"
          ],
          "name": "stdout"
        }
      ]
    },
    {
      "cell_type": "code",
      "metadata": {
        "id": "BQQxEsgijoiL",
        "colab_type": "code",
        "outputId": "2f13330c-cdc5-43a0-e0ae-14a15818f901",
        "colab": {
          "base_uri": "https://localhost:8080/",
          "height": 298
        }
      },
      "source": [
        "sample_num = 23\n",
        "plt.plot(pred_t[sample_num].data.numpy(), label='Pred')\n",
        "plt.plot(test_out[sample_num], label='GT')\n",
        "plt.legend()\n",
        "plt.title(\"Sample num: {}\".format(sample_num))\n"
      ],
      "execution_count": 86,
      "outputs": [
        {
          "output_type": "execute_result",
          "data": {
            "text/plain": [
              "Text(0.5, 1.0, 'Sample num: 23')"
            ]
          },
          "metadata": {
            "tags": []
          },
          "execution_count": 86
        },
        {
          "output_type": "display_data",
          "data": {
            "image/png": "[encoded data removed]",
            "text/plain": [
              "<Figure size 432x288 with 1 Axes>"
            ]
          },
          "metadata": {
            "tags": []
          }
        }
      ]
    },
    {
      "cell_type": "code",
      "metadata": {
        "id": "yZyB-j4bjttK",
        "colab_type": "code",
        "outputId": "1448bf56-06a4-43f6-e1e3-16e0a1b778f9",
        "colab": {
          "base_uri": "https://localhost:8080/",
          "height": 154
        }
      },
      "source": [
        "bidirectional = True\n",
        "if bidirectional:\n",
        "    num_directions = 2\n",
        "else:\n",
        "    num_directions = 1\n",
        "class CustomRNN(nn.Module):\n",
        "    def __init__(self, input_size, hidden_size, output_size):\n",
        "        super(CustomRNN, self).__init__()\n",
        "        self.rnn = nn.GRU(input_size=input_size, hidden_size=hidden_size, \n",
        "                          batch_first=True, bidirectional=bidirectional, dropout=0.1)\n",
        "        self.linear = nn.Linear(hidden_size*num_directions, output_size, )\n",
        "        self.act = nn.Tanh()\n",
        "    def forward(self, x):\n",
        "        pred, hidden = self.rnn(x, None)\n",
        "        pred = self.act(self.linear(pred)).view(pred.data.shape[0], -1, 1)\n",
        "        return pred\n",
        "\n",
        "r= CustomRNN(input_dim, hidden_size, 1)\n",
        "r"
      ],
      "execution_count": 87,
      "outputs": [
        {
          "output_type": "stream",
          "text": [
            "/usr/local/lib/python3.6/dist-packages/torch/nn/modules/rnn.py:51: UserWarning: dropout option adds dropout after all but last recurrent layer, so non-zero dropout expects num_layers greater than 1, but got dropout=0.1 and num_layers=1\n",
            "  \"num_layers={}\".format(dropout, num_layers))\n"
          ],
          "name": "stderr"
        },
        {
          "output_type": "execute_result",
          "data": {
            "text/plain": [
              "CustomRNN(\n",
              "  (rnn): GRU(1, 30, batch_first=True, dropout=0.1, bidirectional=True)\n",
              "  (linear): Linear(in_features=60, out_features=1, bias=True)\n",
              "  (act): Tanh()\n",
              ")"
            ]
          },
          "metadata": {
            "tags": []
          },
          "execution_count": 87
        }
      ]
    },
    {
      "cell_type": "code",
      "metadata": {
        "id": "jIXySMU5jzYX",
        "colab_type": "code",
        "outputId": "e8ddcc25-34b2-40e5-82ae-e4d50fdda89e",
        "colab": {
          "base_uri": "https://localhost:8080/",
          "height": 202
        }
      },
      "source": [
        "# Storing predictions per iterations to visualise later\n",
        "predictions = []\n",
        "\n",
        "optimizer = torch.optim.Adam(r.parameters(), lr=1e-2)\n",
        "loss_func = nn.L1Loss()\n",
        "\n",
        "for t in range(201):\n",
        "    hidden = None\n",
        "    inp = Variable(torch.Tensor(train_inp.reshape((train_inp.shape[0], -1, 1))), requires_grad=True)\n",
        "    out = Variable(torch.Tensor(train_out.reshape((train_out.shape[0], -1, 1))) )\n",
        "    pred = r(inp)\n",
        "    optimizer.zero_grad()\n",
        "    predictions.append(pred.data.numpy())\n",
        "    loss = loss_func(pred, out)\n",
        "    if t%20==0:\n",
        "        print(t, loss.item())\n",
        "    loss.backward()\n",
        "    optimizer.step()"
      ],
      "execution_count": 88,
      "outputs": [
        {
          "output_type": "stream",
          "text": [
            "0 0.6675313115119934\n",
            "20 0.10457603633403778\n",
            "40 0.08971744775772095\n",
            "60 0.08109772205352783\n",
            "80 0.06487845629453659\n",
            "100 0.05066736415028572\n",
            "120 0.04353632405400276\n",
            "140 0.040496449917554855\n",
            "160 0.03836911916732788\n",
            "180 0.03480909392237663\n",
            "200 0.03381653502583504\n"
          ],
          "name": "stdout"
        }
      ]
    },
    {
      "cell_type": "code",
      "metadata": {
        "id": "fDZcRyfIj3vC",
        "colab_type": "code",
        "colab": {}
      },
      "source": [
        "t_inp = Variable(torch.Tensor(test_inp.reshape((test_inp.shape[0], -1, 1))), requires_grad=True)\n",
        "pred_t = r(t_inp)"
      ],
      "execution_count": 0,
      "outputs": []
    },
    {
      "cell_type": "code",
      "metadata": {
        "id": "zAZ2owAoj8Dw",
        "colab_type": "code",
        "outputId": "027da9fc-452d-4c88-a97f-54af18fdddd8",
        "colab": {
          "base_uri": "https://localhost:8080/",
          "height": 34
        }
      },
      "source": [
        "\n",
        "# Test loss\n",
        "print(loss_func(pred_t, Variable(torch.Tensor(test_out.reshape((test_inp.shape[0], -1, 1))))).item())"
      ],
      "execution_count": 90,
      "outputs": [
        {
          "output_type": "stream",
          "text": [
            "0.03420181944966316\n"
          ],
          "name": "stdout"
        }
      ]
    },
    {
      "cell_type": "code",
      "metadata": {
        "id": "kgnICI1bj_nX",
        "colab_type": "code",
        "outputId": "8d835757-664e-4bd8-f9ed-b97efd25ddf6",
        "colab": {
          "base_uri": "https://localhost:8080/",
          "height": 298
        }
      },
      "source": [
        "sample_num = 23\n",
        "plt.plot(pred_t[sample_num].data.numpy(), label='Pred')\n",
        "plt.plot(test_out[sample_num], label='GT')\n",
        "plt.legend()\n",
        "plt.title(\"Sample num: {}\".format(sample_num))"
      ],
      "execution_count": 94,
      "outputs": [
        {
          "output_type": "execute_result",
          "data": {
            "text/plain": [
              "Text(0.5, 1.0, 'Sample num: 23')"
            ]
          },
          "metadata": {
            "tags": []
          },
          "execution_count": 94
        },
        {
          "output_type": "display_data",
          "data": {
            "image/png": "[encoded data removed]",
            "text/plain": [
              "<Figure size 432x288 with 1 Axes>"
            ]
          },
          "metadata": {
            "tags": []
          }
        }
      ]
    },
    {
      "cell_type": "code",
      "metadata": {
        "id": "Dy3Aa8pfkNVq",
        "colab_type": "code",
        "colab": {}
      },
      "source": [
        "\n",
        "for num_unknown_values in range(50):\n",
        "    train_out[np.random.choice(list(range(0, 8000))), np.random.choice(list(range(0, 100)))] = np.NAN"
      ],
      "execution_count": 0,
      "outputs": []
    },
    {
      "cell_type": "code",
      "metadata": {
        "id": "jF6RR4dvkTmo",
        "colab_type": "code",
        "outputId": "b697bbf7-ffe2-4ce5-9907-a28fb44dacf2",
        "colab": {
          "base_uri": "https://localhost:8080/",
          "height": 34
        }
      },
      "source": [
        "np.isnan(train_out).sum()"
      ],
      "execution_count": 96,
      "outputs": [
        {
          "output_type": "execute_result",
          "data": {
            "text/plain": [
              "50"
            ]
          },
          "metadata": {
            "tags": []
          },
          "execution_count": 96
        }
      ]
    },
    {
      "cell_type": "code",
      "metadata": {
        "id": "VtAefyURkdIS",
        "colab_type": "code",
        "outputId": "73e8468e-7313-4001-9c4a-9897fea564af",
        "colab": {
          "base_uri": "https://localhost:8080/",
          "height": 154
        }
      },
      "source": [
        "r= CustomRNN(input_dim, 2, 1)\n",
        "r"
      ],
      "execution_count": 97,
      "outputs": [
        {
          "output_type": "stream",
          "text": [
            "/usr/local/lib/python3.6/dist-packages/torch/nn/modules/rnn.py:51: UserWarning: dropout option adds dropout after all but last recurrent layer, so non-zero dropout expects num_layers greater than 1, but got dropout=0.1 and num_layers=1\n",
            "  \"num_layers={}\".format(dropout, num_layers))\n"
          ],
          "name": "stderr"
        },
        {
          "output_type": "execute_result",
          "data": {
            "text/plain": [
              "CustomRNN(\n",
              "  (rnn): GRU(1, 2, batch_first=True, dropout=0.1, bidirectional=True)\n",
              "  (linear): Linear(in_features=4, out_features=1, bias=True)\n",
              "  (act): Tanh()\n",
              ")"
            ]
          },
          "metadata": {
            "tags": []
          },
          "execution_count": 97
        }
      ]
    },
    {
      "cell_type": "code",
      "metadata": {
        "id": "eNj7zXBrkhvz",
        "colab_type": "code",
        "outputId": "ed78e265-a9c2-4011-fff7-1cd25bc1d499",
        "colab": {
          "base_uri": "https://localhost:8080/",
          "height": 34
        }
      },
      "source": [
        "# Storing predictions per iterations to visualise later\n",
        "predictions = []\n",
        "\n",
        "optimizer = torch.optim.Adam(r.parameters(), lr=1e-2)\n",
        "loss_func = nn.L1Loss()\n",
        "\n",
        "for t in range(20):\n",
        "    hidden = None\n",
        "    inp = Variable(torch.Tensor(train_inp.reshape((train_inp.shape[0], -1, 1))), requires_grad=True)\n",
        "    out = Variable(torch.Tensor(train_out.reshape((train_out.shape[0], -1, 1))) )\n",
        "    pred = r(inp)\n",
        "    optimizer.zero_grad()\n",
        "    predictions.append(pred.data.numpy())\n",
        "    # Create a mask to compute loss only on defined quantities\n",
        "    mask = out > -1* 1e8\n",
        "    loss = loss_func(pred[mask], out[mask])\n",
        "    if t%20==0:\n",
        "        print(t, loss.item())\n",
        "    loss.backward()\n",
        "    optimizer.step()"
      ],
      "execution_count": 98,
      "outputs": [
        {
          "output_type": "stream",
          "text": [
            "0 0.536329448223114\n"
          ],
          "name": "stdout"
        }
      ]
    },
    {
      "cell_type": "code",
      "metadata": {
        "id": "Oxpq_rRBklgK",
        "colab_type": "code",
        "colab": {}
      },
      "source": [
        ""
      ],
      "execution_count": 0,
      "outputs": []
    }
  ]
}