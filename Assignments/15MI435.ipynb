{
  "nbformat": 4,
  "nbformat_minor": 0,
  "metadata": {
    "colab": {
      "name": "15MI435.ipynb",
      "provenance": [],
      "collapsed_sections": []
    },
    "kernelspec": {
      "name": "python3",
      "display_name": "Python 3"
    }
  },
  "cells": [
    {
      "cell_type": "code",
      "metadata": {
        "id": "XwkDYZlKKd7M",
        "colab_type": "code",
        "colab": {}
      },
      "source": [
        "import math\n",
        "import keras\n",
        "from keras.models import Sequential\n",
        "from keras.layers import Dense,Dropout,LSTM\n",
        "import numpy as np\n",
        "import matplotlib.pyplot as plt\n",
        "from sklearn.model_selection import train_test_split"
      ],
      "execution_count": 0,
      "outputs": []
    },
    {
      "cell_type": "code",
      "metadata": {
        "id": "v8P7R0wBK4G2",
        "colab_type": "code",
        "colab": {}
      },
      "source": [
        "X=[]\n",
        "Y1=[]\n",
        "for i in range(100):\n",
        "  X.append(i)\n",
        "  Y1.append(math.sin(4*i))"
      ],
      "execution_count": 0,
      "outputs": []
    },
    {
      "cell_type": "code",
      "metadata": {
        "id": "z0V0FVCBLyMc",
        "colab_type": "code",
        "colab": {}
      },
      "source": [
        "Y2=[]\n",
        "for i in range(100):\n",
        "  Y2.append(i*2)"
      ],
      "execution_count": 0,
      "outputs": []
    },
    {
      "cell_type": "code",
      "metadata": {
        "id": "UGoORbOENY7Z",
        "colab_type": "code",
        "colab": {}
      },
      "source": [
        "\n",
        "inp = np.column_stack((Y1, Y2))\n",
        "tst = [Y1*Y2 for Y1,Y2 in zip(Y1,Y2)]"
      ],
      "execution_count": 0,
      "outputs": []
    },
    {
      "cell_type": "code",
      "metadata": {
        "id": "iP5mFr44NgR6",
        "colab_type": "code",
        "colab": {}
      },
      "source": [
        "inp = np.array(inp, dtype=\"float32\")\n",
        "trgt = np.array(tst, dtype=\"float32\")"
      ],
      "execution_count": 0,
      "outputs": []
    },
    {
      "cell_type": "code",
      "metadata": {
        "id": "QNHZUjYoPX71",
        "colab_type": "code",
        "outputId": "cf5c385c-eab4-4cb9-f227-a985db0cdae7",
        "colab": {
          "base_uri": "https://localhost:8080/",
          "height": 35
        }
      },
      "source": [
        "inp= np.array(inp).reshape(100, 2,1)\n",
        "inp.shape"
      ],
      "execution_count": 78,
      "outputs": [
        {
          "output_type": "execute_result",
          "data": {
            "text/plain": [
              "(100, 2, 1)"
            ]
          },
          "metadata": {
            "tags": []
          },
          "execution_count": 78
        }
      ]
    },
    {
      "cell_type": "code",
      "metadata": {
        "id": "xmrwEw6DkEWc",
        "colab_type": "code",
        "outputId": "83e881b2-8cdd-4e5b-84c1-4defda139729",
        "colab": {
          "base_uri": "https://localhost:8080/",
          "height": 35
        }
      },
      "source": [
        "trgt.shape"
      ],
      "execution_count": 79,
      "outputs": [
        {
          "output_type": "execute_result",
          "data": {
            "text/plain": [
              "(100,)"
            ]
          },
          "metadata": {
            "tags": []
          },
          "execution_count": 79
        }
      ]
    },
    {
      "cell_type": "code",
      "metadata": {
        "id": "medTU78GkGQx",
        "colab_type": "code",
        "colab": {}
      },
      "source": [
        "x_train,x_test,y_train,y_test = train_test_split(inp,trgt,test_size=0.2,random_state=4)"
      ],
      "execution_count": 0,
      "outputs": []
    },
    {
      "cell_type": "code",
      "metadata": {
        "id": "2C8wYedGkNQP",
        "colab_type": "code",
        "outputId": "187bd796-4a06-40db-8432-4e7888e3da1a",
        "colab": {
          "base_uri": "https://localhost:8080/",
          "height": 439
        }
      },
      "source": [
        "model = Sequential()\n",
        "model.add(LSTM(200, activation='relu', return_sequences=True, input_shape=(2,1)))\n",
        "model.add(LSTM(100, activation='relu', return_sequences=True))\n",
        "model.add(LSTM(50, activation='relu', return_sequences=True))\n",
        "model.add(LSTM(25, activation='relu'))\n",
        "model.add(Dense(20, activation='relu'))\n",
        "model.add(Dense(10, activation='relu'))\n",
        "model.add(Dense(1))\n",
        "model.compile(optimizer='adam', loss='mse')\n",
        "print(model.summary())"
      ],
      "execution_count": 81,
      "outputs": [
        {
          "output_type": "stream",
          "text": [
            "Model: \"sequential_6\"\n",
            "_________________________________________________________________\n",
            "Layer (type)                 Output Shape              Param #   \n",
            "=================================================================\n",
            "lstm_21 (LSTM)               (None, 2, 200)            161600    \n",
            "_________________________________________________________________\n",
            "lstm_22 (LSTM)               (None, 2, 100)            120400    \n",
            "_________________________________________________________________\n",
            "lstm_23 (LSTM)               (None, 2, 50)             30200     \n",
            "_________________________________________________________________\n",
            "lstm_24 (LSTM)               (None, 25)                7600      \n",
            "_________________________________________________________________\n",
            "dense_16 (Dense)             (None, 20)                520       \n",
            "_________________________________________________________________\n",
            "dense_17 (Dense)             (None, 10)                210       \n",
            "_________________________________________________________________\n",
            "dense_18 (Dense)             (None, 1)                 11        \n",
            "=================================================================\n",
            "Total params: 320,541\n",
            "Trainable params: 320,541\n",
            "Non-trainable params: 0\n",
            "_________________________________________________________________\n",
            "None\n"
          ],
          "name": "stdout"
        }
      ]
    },
    {
      "cell_type": "code",
      "metadata": {
        "id": "bhEyK56qkdZC",
        "colab_type": "code",
        "colab": {}
      },
      "source": [
        "history = model.fit(x_train,y_train,epochs=1000,validation_data=(x_test,y_test))"
      ],
      "execution_count": 0,
      "outputs": []
    },
    {
      "cell_type": "code",
      "metadata": {
        "id": "MCh_x4H_kzmc",
        "colab_type": "code",
        "outputId": "cd683d77-1ac4-494e-bf8c-696c05d54dde",
        "colab": {
          "base_uri": "https://localhost:8080/",
          "height": 521
        }
      },
      "source": [
        "results = model.predict(x_test)\n",
        "results.shape\n",
        "y_test.shape\n",
        "plt.scatter(range(20),results,c='r')\n",
        "plt.scatter(range(20),y_test,c='g')\n",
        "plt.show()\n",
        "plt.plot(history.history['loss'])\n",
        "plt.show()"
      ],
      "execution_count": 84,
      "outputs": [
        {
          "output_type": "display_data",
          "data": {
            "image/png": "[encoded data removed]",
            "text/plain": [
              "<Figure size 432x288 with 1 Axes>"
            ]
          },
          "metadata": {
            "tags": []
          }
        },
        {
          "output_type": "display_data",
          "data": {
            "image/png": "[encoded data removed]",
            "text/plain": [
              "<Figure size 432x288 with 1 Axes>"
            ]
          },
          "metadata": {
            "tags": []
          }
        }
      ]
    },
    {
      "cell_type": "code",
      "metadata": {
        "id": "JGUO1yHzll4-",
        "colab_type": "code",
        "colab": {}
      },
      "source": [
        ""
      ],
      "execution_count": 0,
      "outputs": []
    }
  ]
}