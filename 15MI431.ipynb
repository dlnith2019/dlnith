{
  "nbformat": 4,
  "nbformat_minor": 0,
  "metadata": {
    "colab": {
      "name": "Series_Prediction_LSTM(15MI442).ipynb",
      "provenance": []
    },
    "kernelspec": {
      "name": "python3",
      "display_name": "Python 3"
    }
  },
  "cells": [
    {
      "cell_type": "code",
      "metadata": {
        "id": "8uiOG8-DPNvn",
        "colab_type": "code",
        "outputId": "511ed7f1-986f-41d8-d74e-0d3b13869818",
        "colab": {
          "base_uri": "https://localhost:8080/",
          "height": 35
        }
      },
      "source": [
        "import numpy as np\n",
        "from numpy import array\n",
        "import math\n",
        "from keras.models import Sequential\n",
        "from keras.layers import Dense,Flatten\n",
        "from keras.layers import SimpleRNN,LSTM\n",
        "from sklearn.model_selection import train_test_split\n",
        "import matplotlib.pyplot as plt"
      ],
      "execution_count": 1,
      "outputs": [
        {
          "output_type": "stream",
          "text": [
            "Using TensorFlow backend.\n"
          ],
          "name": "stderr"
        }
      ]
    },
    {
      "cell_type": "code",
      "metadata": {
        "id": "ZC8q1bztQTGO",
        "colab_type": "code",
        "outputId": "f6c02edd-77e7-422c-e0f7-840b65dbdca0",
        "colab": {
          "base_uri": "https://localhost:8080/",
          "height": 124
        }
      },
      "source": [
        "X = list()\n",
        "Y = list()\n",
        "X = [math.tan(x) for x in range(30)]\n",
        "Y = [y * 10 for y in X]\n",
        "\n",
        "print(X)\n",
        "print(Y)"
      ],
      "execution_count": 2,
      "outputs": [
        {
          "output_type": "stream",
          "text": [
            "[0.0, 1.5574077246549023, -2.185039863261519, -0.1425465430742778, 1.1578212823495775, -3.380515006246586, -0.29100619138474915, 0.8714479827243188, -6.799711455220379, -0.45231565944180985, 0.6483608274590866, -225.95084645419513, -0.6358599286615808, 0.4630211329364896, 7.2446066160948055, -0.8559934009085187, 0.3006322420239034, 3.49391564547484, -1.1373137123376869, 0.15158947061240008, 2.237160944224742, -1.5274985276366035, 0.00885165604168446, 1.5881530833912738, -2.1348966977217008, -0.13352640702153587, 1.1787535542062797, -3.273703800428119, -0.28142960456426525, 0.8871428437982151]\n",
            "[0.0, 15.574077246549024, -21.85039863261519, -1.425465430742778, 11.578212823495775, -33.805150062465856, -2.9100619138474917, 8.714479827243188, -67.99711455220378, -4.523156594418099, 6.483608274590866, -2259.508464541951, -6.358599286615808, 4.630211329364896, 72.44606616094805, -8.559934009085188, 3.0063224202390337, 34.9391564547484, -11.373137123376868, 1.515894706124001, 22.371609442247422, -15.274985276366035, 0.08851656041684461, 15.881530833912738, -21.348966977217007, -1.3352640702153586, 11.787535542062797, -32.73703800428119, -2.8142960456426525, 8.87142843798215]\n"
          ],
          "name": "stdout"
        }
      ]
    },
    {
      "cell_type": "code",
      "metadata": {
        "id": "guraDXW9QgFk",
        "colab_type": "code",
        "colab": {
          "base_uri": "https://localhost:8080/",
          "height": 342
        },
        "outputId": "21ed6d5d-803c-419c-b0dd-598685972086"
      },
      "source": [
        "X = array(X).reshape(20, 1, 1)"
      ],
      "execution_count": 3,
      "outputs": [
        {
          "output_type": "error",
          "ename": "ValueError",
          "evalue": "ignored",
          "traceback": [
            "\u001b[0;31m---------------------------------------------------------------------------\u001b[0m",
            "\u001b[0;31mValueError\u001b[0m                                Traceback (most recent call last)",
            "\u001b[0;32m<ipython-input-3-c6fb3c99af6e>\u001b[0m in \u001b[0;36m<module>\u001b[0;34m()\u001b[0m\n\u001b[0;32m----> 1\u001b[0;31m \u001b[0mX\u001b[0m \u001b[0;34m=\u001b[0m \u001b[0marray\u001b[0m\u001b[0;34m(\u001b[0m\u001b[0mX\u001b[0m\u001b[0;34m)\u001b[0m\u001b[0;34m.\u001b[0m\u001b[0mreshape\u001b[0m\u001b[0;34m(\u001b[0m\u001b[0;36m20\u001b[0m\u001b[0;34m,\u001b[0m \u001b[0;36m1\u001b[0m\u001b[0;34m,\u001b[0m \u001b[0;36m1\u001b[0m\u001b[0;34m)\u001b[0m\u001b[0;34m\u001b[0m\u001b[0;34m\u001b[0m\u001b[0m\n\u001b[0m",
            "\u001b[0;31mValueError\u001b[0m: cannot reshape array of size 30 into shape (20,1,1)"
          ]
        }
      ]
    },
    {
      "cell_type": "code",
      "metadata": {
        "id": "e7o1FJWxRZch",
        "colab_type": "code",
        "colab": {}
      },
      "source": [
        "X.shape"
      ],
      "execution_count": 0,
      "outputs": []
    },
    {
      "cell_type": "code",
      "metadata": {
        "id": "knTJxxE3Sbpr",
        "colab_type": "code",
        "colab": {}
      },
      "source": [
        "model = Sequential()\n",
        "model.add(LSTM(50, activation='relu', input_shape=(1, 1)))\n",
        "model.add(Dense(1))\n",
        "model.compile(optimizer='adam', loss='mse')"
      ],
      "execution_count": 0,
      "outputs": []
    },
    {
      "cell_type": "code",
      "metadata": {
        "id": "hGCyrnzNTFom",
        "colab_type": "code",
        "colab": {}
      },
      "source": [
        "model.summary()"
      ],
      "execution_count": 0,
      "outputs": []
    },
    {
      "cell_type": "code",
      "metadata": {
        "id": "sjDtDx1qTlHh",
        "colab_type": "code",
        "colab": {}
      },
      "source": [
        "model.fit(X, Y, epochs=1000, validation_split=0.2, batch_size=5)"
      ],
      "execution_count": 0,
      "outputs": []
    },
    {
      "cell_type": "code",
      "metadata": {
        "id": "br5IX6u3XdPm",
        "colab_type": "code",
        "colab": {}
      },
      "source": [
        "test_input = array([30])\n",
        "test_input = test_input.reshape((1, 1, 1))\n",
        "test_output = model.predict(test_input, verbose=0)\n",
        "print(test_output)"
      ],
      "execution_count": 0,
      "outputs": []
    }
  ]
}